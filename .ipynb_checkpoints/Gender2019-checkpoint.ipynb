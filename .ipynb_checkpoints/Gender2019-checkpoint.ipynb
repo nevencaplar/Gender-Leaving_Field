{
 "cells": [
  {
   "cell_type": "code",
   "execution_count": 22,
   "metadata": {
    "ExecuteTime": {
     "end_time": "2019-01-09T00:10:53.941397Z",
     "start_time": "2019-01-09T00:10:53.932531Z"
    }
   },
   "outputs": [
    {
     "name": "stdout",
     "output_type": "stream",
     "text": [
      "3.6.4 |Anaconda custom (64-bit)| (default, Jan 16 2018, 12:04:33) \n",
      "[GCC 4.2.1 Compatible Clang 4.0.1 (tags/RELEASE_401/final)]\n"
     ]
    }
   ],
   "source": [
    "import sys\n",
    "print(sys.version)"
   ]
  },
  {
   "cell_type": "code",
   "execution_count": 2,
   "metadata": {
    "ExecuteTime": {
     "end_time": "2019-01-09T00:10:54.931870Z",
     "start_time": "2019-01-09T00:10:54.903207Z"
    }
   },
   "outputs": [
    {
     "data": {
      "text/plain": [
       "'\\nCreated on January 6 2018\\n@author: Neven Caplar\\n@contact: ncaplar@princeton.edu\\n\\nProject by Sandro Tacchella (CfA) and Neven Caplar (PU)\\n'"
      ]
     },
     "execution_count": 2,
     "metadata": {},
     "output_type": "execute_result"
    }
   ],
   "source": [
    "'''\n",
    "Created on January 6 2018\n",
    "@author: Neven Caplar\n",
    "@contact: ncaplar@princeton.edu\n",
    "\n",
    "Project by Sandro Tacchella (CfA) and Neven Caplar (PU)\n",
    "'''"
   ]
  },
  {
   "cell_type": "code",
   "execution_count": 23,
   "metadata": {
    "ExecuteTime": {
     "end_time": "2019-01-09T00:10:56.530568Z",
     "start_time": "2019-01-09T00:10:56.524942Z"
    }
   },
   "outputs": [
    {
     "data": {
      "application/javascript": [
       "try {\n",
       "  require(['base/js/utils'], function (utils) {\n",
       "    utils.load_extension('code_prettify/code_prettify');\n",
       "    utils.load_extension('collapsible_headings/main'); \n",
       "    utils.load_extension('codefolding/edit'); \n",
       "    utils.load_extension('codefolding/main'); \n",
       "    utils.load_extension('execute_time/ExecuteTime');   \n",
       "    utils.load_extension('toc2/main'); \n",
       "  });\n",
       "}\n",
       "catch (err) {\n",
       "  console.log('toc2 load error:', err);\n",
       "}"
      ],
      "text/plain": [
       "<IPython.core.display.Javascript object>"
      ]
     },
     "metadata": {},
     "output_type": "display_data"
    }
   ],
   "source": [
    "%%javascript\n",
    "try {\n",
    "  require(['base/js/utils'], function (utils) {\n",
    "    utils.load_extension('code_prettify/code_prettify');\n",
    "    utils.load_extension('collapsible_headings/main'); \n",
    "    utils.load_extension('codefolding/edit'); \n",
    "    utils.load_extension('codefolding/main'); \n",
    "    utils.load_extension('execute_time/ExecuteTime');   \n",
    "    utils.load_extension('toc2/main'); \n",
    "  });\n",
    "}\n",
    "catch (err) {\n",
    "  console.log('toc2 load error:', err);\n",
    "}"
   ]
  },
  {
   "cell_type": "code",
   "execution_count": 24,
   "metadata": {
    "ExecuteTime": {
     "end_time": "2019-01-09T22:12:50.195192Z",
     "start_time": "2019-01-09T22:12:50.184095Z"
    }
   },
   "outputs": [
    {
     "data": {
      "text/html": [
       "<style>.container { width:100% !important; }</style>"
      ],
      "text/plain": [
       "<IPython.core.display.HTML object>"
      ]
     },
     "metadata": {},
     "output_type": "display_data"
    }
   ],
   "source": [
    "# make notebook nice and wide to fill the entire screen\n",
    "from IPython.core.display import display, HTML\n",
    "display(HTML(\"<style>.container { width:100% !important; }</style>\"))"
   ]
  },
  {
   "cell_type": "code",
   "execution_count": 142,
   "metadata": {
    "ExecuteTime": {
     "end_time": "2019-01-27T20:20:40.071965Z",
     "start_time": "2019-01-27T20:20:40.047856Z"
    }
   },
   "outputs": [],
   "source": [
    "import os\n",
    "import pickle\n",
    "import numpy as np\n",
    "import pandas as pd\n",
    "#https://github.com/andycasey/ads\n",
    "import ads\n",
    "ads.config.token = 'kG2dNKUfa9H6QRqT00CsJYhHkfFz0uqzSx8JorPK'\n",
    "from tqdm import tqdm\n",
    "import time"
   ]
  },
  {
   "cell_type": "code",
   "execution_count": 29,
   "metadata": {
    "ExecuteTime": {
     "end_time": "2019-01-09T22:23:13.410302Z",
     "start_time": "2019-01-09T22:23:13.395211Z"
    }
   },
   "outputs": [
    {
     "data": {
      "text/plain": [
       "'IapetusUSA'"
      ]
     },
     "execution_count": 29,
     "metadata": {},
     "output_type": "execute_result"
    }
   ],
   "source": [
    "import socket\n",
    "socket.gethostname()"
   ]
  },
  {
   "cell_type": "code",
   "execution_count": null,
   "metadata": {},
   "outputs": [],
   "source": [
    "'''\n",
    "Plan\n",
    "\n",
    "1. Get all first authors from the 2003-2008 from A&A, APJ, MNRAS, SCI, Nature\n",
    "2. Find all authors for which we can identify their names\n",
    "3. Query according to the names\n",
    "4. Deduce if there is possible confusion\n",
    "5. If not if they have left the field - if yes, when\n",
    "\n",
    "'''"
   ]
  },
  {
   "cell_type": "markdown",
   "metadata": {},
   "source": [
    "# Get all first authors from the 2003-2008 from A&A, APJ, MNRAS, SCI, Nature"
   ]
  },
  {
   "cell_type": "code",
   "execution_count": 35,
   "metadata": {
    "ExecuteTime": {
     "end_time": "2019-01-09T22:54:47.878922Z",
     "start_time": "2019-01-09T22:54:43.856640Z"
    }
   },
   "outputs": [],
   "source": [
    "#os.chdir('/Users/nevencaplar/Documents/Gender/')\n",
    "#with open('Master_Table.pickle', 'rb') as handle:\n",
    "#  Master_Table = pickle.load(handle)\n",
    "\n",
    "\n",
    "if socket.gethostname()=='IapetusUSA':\n",
    "    os.chdir('/Users/nevencaplar/Documents/Gender/Gender2019_data/')\n",
    "else:\n",
    "    os.chdir('/home/caplarn/Documents/Astrodataiscool/Gender/MasterTableJuly/')\n",
    "with open('Master_Table.pickle', 'rb') as handle:\n",
    "    # load the Master_Table from our original projects with all the papers\n",
    "    # we use this as a initial sample upon which we base our analysis\n",
    "    Master_Table = pickle.load(handle, encoding='latin1')\n"
   ]
  },
  {
   "cell_type": "code",
   "execution_count": 36,
   "metadata": {
    "ExecuteTime": {
     "end_time": "2019-01-09T22:54:47.884965Z",
     "start_time": "2019-01-09T22:54:47.880521Z"
    }
   },
   "outputs": [
    {
     "data": {
      "text/plain": [
       "208577"
      ]
     },
     "execution_count": 36,
     "metadata": {},
     "output_type": "execute_result"
    }
   ],
   "source": [
    "# we look at what is the length of this array \n",
    "# 208577 papers in the whole data\n",
    "len(Master_Table[0])"
   ]
  },
  {
   "cell_type": "code",
   "execution_count": 37,
   "metadata": {
    "ExecuteTime": {
     "end_time": "2019-01-09T22:54:48.878485Z",
     "start_time": "2019-01-09T22:54:48.873428Z"
    }
   },
   "outputs": [
    {
     "name": "stdout",
     "output_type": "stream",
     "text": [
      "2003A&A...397....1T\n"
     ]
    },
    {
     "data": {
      "text/plain": [
       "'2008Sci...322.1828E'"
      ]
     },
     "execution_count": 37,
     "metadata": {},
     "output_type": "execute_result"
    }
   ],
   "source": [
    "#first paper from 2003\n",
    "print(Master_Table[0][115130])\n",
    "\n",
    "#last paper from 2008\n",
    "Master_Table[0][152154]\n"
   ]
  },
  {
   "cell_type": "code",
   "execution_count": 38,
   "metadata": {
    "ExecuteTime": {
     "end_time": "2019-01-09T22:54:55.986485Z",
     "start_time": "2019-01-09T22:54:55.967521Z"
    }
   },
   "outputs": [],
   "source": [
    "# this gives list of all identifiers for all of the papers from 2003-2008\n",
    "list_of_identifiers_03_08=Master_Table[0][115130:152154+1]"
   ]
  },
  {
   "cell_type": "code",
   "execution_count": 88,
   "metadata": {
    "ExecuteTime": {
     "end_time": "2019-01-09T23:14:05.093532Z",
     "start_time": "2019-01-09T23:14:05.089631Z"
    }
   },
   "outputs": [
    {
     "data": {
      "text/plain": [
       "37025"
      ]
     },
     "execution_count": 88,
     "metadata": {},
     "output_type": "execute_result"
    }
   ],
   "source": [
    "# what is the number of papers in those years\n",
    "len(list_of_identifiers_03_08)"
   ]
  },
  {
   "cell_type": "code",
   "execution_count": 112,
   "metadata": {
    "ExecuteTime": {
     "end_time": "2019-01-11T18:23:40.248963Z",
     "start_time": "2019-01-10T16:59:14.589016Z"
    }
   },
   "outputs": [
    {
     "name": "stderr",
     "output_type": "stream",
     "text": [
      "100%|██████████| 5000/5000 [25:24:25<00:00, 18.29s/it]   \n"
     ]
    }
   ],
   "source": [
    "# query ads for these papers\n",
    "# at the moment just testing with 5000 papers\n",
    "# 18 seconds sleep assures that you do not break ads limit and we get only 5000 papers every day\n",
    "articles=[]\n",
    "for bibcode in tqdm(list_of_identifiers_03_08[0:5000]):\n",
    "    time.sleep(18) \n",
    "    try:\n",
    "        articles.append(list(ads.SearchQuery(bibcode=bibcode))[0])\n",
    "    except:\n",
    "        pass"
   ]
  },
  {
   "cell_type": "code",
   "execution_count": 115,
   "metadata": {
    "ExecuteTime": {
     "end_time": "2019-01-27T19:48:58.243208Z",
     "start_time": "2019-01-27T19:48:57.132835Z"
    }
   },
   "outputs": [],
   "source": [
    "# export the data\n",
    "import pickle\n",
    "with open('/Users/nevencaplar/Documents/Gender/Gender2019_data/' + 'articles.pkl', 'wb') as f:\n",
    "    pickle.dump(articles,f, protocol=pickle.HIGHEST_PROTOCOL)"
   ]
  },
  {
   "cell_type": "code",
   "execution_count": 116,
   "metadata": {
    "ExecuteTime": {
     "end_time": "2019-01-27T19:49:08.560070Z",
     "start_time": "2019-01-27T19:48:59.486418Z"
    }
   },
   "outputs": [],
   "source": [
    "# import the data\n",
    "with open('/Users/nevencaplar/Documents/Gender/Gender2019_data/articles.pkl', 'rb') as f:\n",
    "    articles=pickle.load(f)"
   ]
  },
  {
   "cell_type": "markdown",
   "metadata": {},
   "source": [
    "# Find papers by a single author and see if you can identify the name uniquely"
   ]
  },
  {
   "cell_type": "code",
   "execution_count": 119,
   "metadata": {
    "ExecuteTime": {
     "end_time": "2019-01-27T19:56:25.554583Z",
     "start_time": "2019-01-27T19:56:25.544384Z"
    }
   },
   "outputs": [],
   "source": [
    "# get the list of all first authors\n",
    "list_of_first_author=[]\n",
    "for i in range(len(articles)):\n",
    "    list_of_first_author.append(articles[i].first_author)"
   ]
  },
  {
   "cell_type": "code",
   "execution_count": null,
   "metadata": {
    "ExecuteTime": {
     "start_time": "2019-02-03T19:08:23.869Z"
    }
   },
   "outputs": [],
   "source": [
    "# gets all the papers for one first author \n",
    "list_of_first_author_index=8\n",
    "\n",
    "papers = list(ads.SearchQuery(author=list_of_first_author[list_of_first_author_index]))\n",
    "\n",
    "surname_of_the_first_author=list_of_first_author[list_of_first_author_index].split(\",\",1)[0]\n",
    "surname_of_the_first_author"
   ]
  },
  {
   "cell_type": "code",
   "execution_count": 226,
   "metadata": {
    "ExecuteTime": {
     "end_time": "2019-01-27T21:11:54.806333Z",
     "start_time": "2019-01-27T21:11:54.793961Z"
    }
   },
   "outputs": [],
   "source": [
    "list_of_papers_for_one_author=[]\n",
    "for i in range(len(papers)):\n",
    "    list_of_papers_for_one_author.append(papers[i].author)\n",
    "    \n",
    "array_of_papers_for_one_author=np.array(list_of_papers_for_one_author)"
   ]
  },
  {
   "cell_type": "code",
   "execution_count": 227,
   "metadata": {
    "ExecuteTime": {
     "end_time": "2019-01-27T21:11:55.181996Z",
     "start_time": "2019-01-27T21:11:55.178564Z"
    }
   },
   "outputs": [],
   "source": [
    "indices = [i for i, x in enumerate(list_of_papers_for_one_author) if x == surname_of_the_first_author]"
   ]
  },
  {
   "cell_type": "code",
   "execution_count": 228,
   "metadata": {
    "ExecuteTime": {
     "end_time": "2019-01-27T21:11:55.577270Z",
     "start_time": "2019-01-27T21:11:55.562144Z"
    }
   },
   "outputs": [
    {
     "data": {
      "text/plain": [
       "array([list(['Picard, Jean', 'Richer', 'Auzout', 'Romer']),\n",
       "       list(['Arnold, L.', 'Baumann, R.', 'Chambit, E.', 'Filliger, M.', 'Fuchs, C.', 'Kieber, C.', 'Klein, D.', 'Medina, P.', 'Parisel, C.', 'Richer, M.', 'Santos, C.', 'Weber, C.']),\n",
       "       list(['Borissova, J.', 'Georgiev, L.', 'Kurtev, R.', 'Rosado, M.', 'Ivanov, V. D.', 'Richer, M.', 'Valdez-Gutiérrez, M.']),\n",
       "       list(['Arrieta, A.', 'Richer, M.', 'Georgiev, L. N.', 'Torres-Peimbert, S.']),\n",
       "       list(['Nunnemann, A.', 'Prescher, Th', 'Richer, M.', 'Schmidt, M.', 'Sonntag, B.', 'Wetzel, H. E.', 'Zimmermann, P.']),\n",
       "       list(['Lehner, M.', 'Wang, S.', 'Zhang, Z.', 'Ho, P.', 'Yen, W.', 'Reyes-Ruiz, M.', 'Richer, M.', 'Cook, K.', 'Hsu, S.', 'Chen, H.', 'Chang, Y.', 'Hiriart, D.', 'Ricci, D.', 'Szentgyorgyi, A.', 'Norton, T.', 'Geary, J.', 'Furesz, G.', 'Alcock, C.', 'Byun, Y.']),\n",
       "       list(['Butler, N.', 'Watson, A.', 'Kutyrev, A.', 'Richer, M.']),\n",
       "       list(['Arrieta, A.', 'Georgiev, L.', 'Richer, M.', 'Torres-Peimbert, S.']),\n",
       "       list(['Torres-Peimbert, S.', 'Arrieta, A.', 'Georgiev, L.', 'Richer, M.']),\n",
       "       list(['Greenlees, P. T.', 'Herzberg, R. -D.', 'Ketelhut, S.', 'Ackermann, D.', 'Butler, P. A.', 'Chatillon, A.', 'Eeckhaudt, S.', 'Gall, B. J. P.', 'Grahn, T.', 'Gray-Jones, C.', 'Görgen, A.', 'Heßberger, F. -P.', 'Jakobsson, U.', 'Jones, G. D.', 'Jones, P.', 'Julin, R.', 'Juutinen, S.', 'Khoo, T. -L.', 'Korten, W.', 'Leino, M.', 'Moon, S.', 'Nyman, M.', 'Pakarinen, J.', 'Papadakis, P.', 'Peura, P.', 'Rahkila, P.', 'Richer, M.', 'Rostron, D.', 'Santos, C.', 'Sarén, J.', 'Scholey, C.', 'Sorri, J.', 'Tandel, S. K.', 'Theisen, Ch.', 'Uusitalo, J.', 'Venhart, M.']),\n",
       "       list(['Tapia, M.', 'Cruz-González, I.', 'Hiriart, D.', 'Richer, M.']),\n",
       "       list(['Torres-Peimbert, S.', 'Arrieta, A.', 'Georgiev, L.', 'Richer, M.']),\n",
       "       list(['Tovmassian, G.', 'Tomsick, J.', 'Napiwotzki, R.', 'Yungelson, L.', 'Stasínska, G.', 'Peña, M.', 'Richer, M.']),\n",
       "       list(['López, J. A.', 'Richer, M.', 'Riesgo, H.', 'Steffen, W.', 'Meaburn, J.', 'García-Segura, G.', 'Escalante, K.']),\n",
       "       list(['Peña, M.', 'Richer, M.', 'Stasińska, G.']),\n",
       "       list(['Koenigsberger, G.', 'Georgiev, L.', 'Richer, M.', 'Canalizo, G.', 'Arrieta, A.', 'Moreno, E.', 'Toledano, O.']),\n",
       "       list(['Rozas, M.', 'López, J. A.', 'Richer, M.', 'Beckman, J. E.', 'Zurita, A.']),\n",
       "       list(['López, J. A.', 'Rozas, M.', 'Richer, M.']),\n",
       "       list(['Zharikov, S.', 'Tovmassian, G.', 'Richer, M.']),\n",
       "       list(['Rapchun, David A.', 'Alardin, W.', 'Bigelow, B. C.', 'Bloom, J.', 'Butler, N.', 'Farah, A.', 'Fox, O. D.', 'Gehrels, N.', 'Gonzalez, J.', 'Klein, C.', 'Kutyrev, A. S.', 'Lotkin, G.', 'Morisset, C.', 'Moseley, S. H.', 'Richer, M.', 'Robinson, F. D.', 'Samuel, M. V.', 'Sparr, L. M.', 'Tucker, C.', 'Watson, A.']),\n",
       "       list(['Krawchuk, C. A. P.', 'McCall, M. L.', 'Komljenovic, M.', 'Kingsburgh, R.', 'Richer, M.', 'Stevenson, Ch.']),\n",
       "       list(['Krawchuk, C. A. P.', 'McCall, M. L.', 'Komljenovic, M.', 'Kingsburgh, R.', 'Richer, M.', 'Stevenson, C.']),\n",
       "       list(['Bartel, N.', 'Bietenholz, M.', 'Rupen, M.', 'Conway, J.', 'Beasley, T.', 'Sramek, R.', 'Romney, J.', 'Titus, M.', 'Graham, D.', 'Altunin, V.', 'Jones, D.', 'Rius, A.', 'Venturi, T.', 'Umana, G.', 'Francis, R.', 'McCall, M.', 'Richer, M.', 'Stevenson, C.', 'Weiler, K.', 'van Dyk, S.', 'Panagia, N.', 'Cannon, W.', 'Popelar, J.', 'Davis, R.']),\n",
       "       list(['Rupen, M.', 'Conway, J.', 'Bartel, N.', 'Bietenholz, M.', 'Beasley, T.', 'Sramek, R.', 'Romney, J.', 'Titus, M.', 'Graham, D.', 'Altunin, V.', 'Jones, D.', 'Rius, A.', 'Venturi, T.', 'Umana, G.', 'Francis, R.', 'McCall, M.', 'Richer, M.', 'Stevenson, C.', 'Weiler, K.', 'van Dyk, S.', 'Panagia, N.', 'Cannon, W.', 'Popelar, J.', 'Davis, R.']),\n",
       "       list(['Percy, J. R.', 'Richer, M.', 'Harmanec, P.', 'Horn, J.', 'Koubsky, P.', 'Reisenweber, R. C.']),\n",
       "       list(['The KM3NeT Collaboration', 'Aiello, S.', 'Akrame, S. E.', 'Ameli, F.', 'Anassontzis, E. G.', 'Andre, M.', 'Androulakis, G.', 'Anghinolfi, M.', 'Anton, G.', 'Ardid, M.', 'Aublin, J.', 'Avgitas, T.', 'Bagatelas, C.', 'Barbarino, G.', 'Baret, B.', 'Barrios-Martí, J.', 'Belias, A.', 'Berbee, E.', 'van den Berg, A.', 'Bertin, V.', 'Biagi, S.', 'Biagioni, A.', 'Biernoth, C.', 'Boumaaza, J.', 'Bourret, S.', 'Bouta, M.', 'Bouwhuis, M.', 'Bozza, C.', 'Brânzas, H.', 'Bruchner, M.', 'Bruijn, R.', 'Brunner, J.', 'Buis, E.', 'Buompane, R.', 'Busto, J.', 'Calvo, D.', 'Capone, A.', 'Celli, S.', 'Chabab, M.', 'Chau, N.', 'Cherubini, S.', 'Chiarella, V.', 'Chiarusi, T.', 'Circella, M.', 'Cocimano, R.', 'Coelho, J. A. B.', 'Coleiro, A.', 'Colomer Molla, M.', 'Coniglione, R.', 'Coyle, P.', 'Creusot, A.', 'Cuttone, G.', \"D'Onofrio, A.\", 'Dallier, R.', 'De Sio, C.', 'Di Palma, I.', 'Díaz, A. F.', 'Diego-Tortosa, D.', 'Distefano, C.', 'Domi, A.', 'Donà, R.', 'Donzaud, C.', 'Dornic, D.', 'Dörr, M.', 'Durocher, M.', 'Eberl, T.', 'van Eijk, D.', 'El Bojaddaini, I.', 'Eljarrari, H.', 'Elsaesser, D.', 'Enzenhöfer, A.', 'Fermani, P.', 'Ferrara, G.', 'Filipovic, M. D.', 'Fusco, L. A.', 'Gal, T.', 'Garcia, A.', 'Garufi, F.', 'Gialanella, L.', 'Giorgio, E.', 'Giuliante, A.', 'Gozzini, S. R.', 'Gracia, R.', 'Graf, K.', 'Grasso, D.', 'Grégoire, T.', 'Grella, G.', 'Hallmann, S.', 'Hamdaoui, H.', 'van Haren, H.', 'Heid, T.', 'Heijboer, A.', 'Hekalo, A.', 'Hernández-Rey, J. J.', 'Hofestädt, J.', 'Illuminati, G.', 'James, C. W.', 'Jongen, M.', 'de Jong, M.', 'de Jong, P.', 'Kadler, M.', 'Kalaczynski, P.', 'Kalekin, O.', 'Katz, U. F.', 'Chowdhury, N. R. Khan', 'Kiessling, D.', 'Koffeman, E. N.', 'Kooijman, P.', 'Kouchner, A.', 'Kreter, M.', 'Kulikovskiy, V.', 'Kunhikannan-Kannichankandy, M.', 'Lahmann, R.', 'Larosa, G.', 'Le Breton, R.', 'Leone, F.', 'Leonora, E.', 'Levi, G.', 'Lincetto, M.', 'Lonardo, A.', 'Longhitano, F.', 'Lopez Coto, D.', 'Lotze, M.', 'Maderer, L.', 'Maggi, G.', 'Manczak, J.', 'Mannheim, K.', 'Margiotta, A.', 'Marinelli, A.', 'Markou, C.', 'Martin, L.', 'Martínez-Mora, J. A.', 'Martini, A.', 'Marzaioli, F.', 'Mele, R.', 'Melis, K. W.', 'Migliozzi, P.', 'Migneco, E.', 'Mijakowski, P.', 'Miranda, L. S.', 'Mollo, C. M.', 'Morganti, M.', 'Moser, M.', 'Moussa, A.', 'Muller, R.', 'Musumeci, M.', 'Nauta, L.', 'Navas, S.', 'Nicolau, C. A.', 'Nielsen, C.', 'Fearraigh, B. Ó', 'Organokov, M.', 'Orlando, A.', 'Ottonello, S.', 'Panagopoulos, V.', 'Papalashvili, G.', 'Papaleo, R.', 'Păvălaș, G. E.', 'Pellegrino, C.', 'Perrin-Terrin, M.', 'Piattelli, P.', 'Pikounis, K.', 'Pisanti, O.', 'Poirè, C.', 'Polydefki, G.', 'Popa, V.', 'Post, M.', 'Pradier, T.', 'Pühlhofer, G.', 'Pulvirenti, S.', 'Quinn, L.', 'Raffaelli, F.', 'Randazzo, N.', 'Razzaque, S.', 'Real, D.', 'Resvanis, L.', 'Reubelt, J.', 'Riccobene, G.', 'Richer, M.', 'Rigalleau, L.', 'Rovelli, A.', 'Saffer, M.', 'Salvadori, I.', 'Samtleben, D. F. E.', 'Sánchez Losa, A.', 'Sanguineti, M.', 'Santangelo, A.', 'Santonocito, D.', 'Sapienza, P.', 'Schumann, J.', 'Sciacca, V.', 'Seneca, J.', 'Sgura, I.', 'Shanidze, R.', 'Sharma, A.', 'Simeone, F.', 'Sinopoulou, A.', 'Spisso, B.', 'Spurio, M.', 'Stavropoulos, D.', 'Steijger, J.', 'Stellacci, S. M.', 'Strandberg, B.', 'Stransky, D.', 'Stüven, T.', 'Taiuti, M.', 'Tatone, F.', 'Tayalati, Y.', 'Tenllado, E.', 'Thakore, T.', 'Trovato, A.', 'Tzamariudaki, E.', 'Tzanetatos, D.', 'Van Elewyck, V.', 'Versari, F.', 'Viola, S.', 'Vivolo, D.', 'Wilms, J.', 'de Wolf, E.', 'Zaborov, D.', 'Zornoza, J. D.', 'Zúñiga, J.']),\n",
       "       list(['Heine, M.', 'Courtin, S.', 'Fruet, G.', 'Jenkins, D. G.', 'Morris, L.', 'Montanari, D.', 'Rudigier, M.', 'Adsley, P.', 'Curien, D.', 'Della Negra, S.', 'Lesrel, J.', 'Beck, C.', 'Charles, L.', 'Dené, P.', 'Haas, F.', 'Hammache, F.', 'Heitz, G.', 'Krauth, M.', 'Meyer, A.', 'Podolyák, Zs.', 'Regan, P. H.', 'Richer, M.', 'de Séréville, N.', 'Stodel, C.']),\n",
       "       list(['Aiello, S.', 'Akrame, S. E.', 'Ameli, F.', 'Anassontzis, E. G.', 'Andre, M.', 'Androulakis, G.', 'Anghinolfi, M.', 'Anton, G.', 'Ardid, M.', 'Aublin, J.', 'Avgitas, T.', 'Baars, M.', 'Bagatelas, C.', 'Barbarino, G.', 'Baret, B.', 'Barrios-Martí, J.', 'Belias, A.', 'Berbee, E.', 'van den Berg, A.', 'Bertin, V.', 'Biagi, S.', 'Biagioni, A.', 'Biernoth, C.', 'Bormuth, R.', 'Boumaaza, J.', 'Bourret, S.', 'Bouwhuis, M.', 'Bozza, C.', 'Brânzaș, H.', 'Briukhanova, N.', 'Bruijn, R.', 'Brunner, J.', 'Buis, E.', 'Buompane, R.', 'Busto, J.', 'Calvo, D.', 'Capone, A.', 'Caramete, L.', 'Celli, S.', 'Chabab, M.', 'Cherubini, S.', 'Chiarella, V.', 'Chiarusi, T.', 'Circella, M.', 'Cocimano, R.', 'Coelho, J. A. B.', 'Coleiro, A.', 'Colomer Molla, M.', 'Coniglione, R.', 'Coyle, P.', 'Creusot, A.', 'Cuttone, G.', \"D'Onofrio, A.\", 'Dallier, R.', 'De Sio, C.', 'Di Palma, I.', 'Díaz, A. F.', 'Distefano, C.', 'Domi, A.', 'Donà, R.', 'Donzaud, C.', 'Dornic, D.', 'Dörr, M.', 'Durocher, M.', 'Eberl, T.', 'van Eijk, D.', 'El Bojaddaini, I.', 'Elsaesser, D.', 'Enzenhöfer, A.', 'Ferrara, G.', 'Fusco, L. A.', 'Gal, T.', 'Garufi, F.', 'Gauchery, S.', 'Geißelsöder, S.', 'Gialanella, L.', 'Giorgio, E.', 'Giuliante, A.', 'Gozzini, S. R.', 'Ruiz, R. Gracia', 'Graf, K.', 'Grasso, D.', 'Grégoire, T.', 'Grella, G.', 'Hallmann, S.', 'van Haren, H.', 'Heid, T.', 'Heijboer, A.', 'Hekalo, A.', 'Hernández-Rey, J. J.', 'Hofestädt, J.', 'Illuminati, G.', 'James, C. W.', 'Jongen, M.', 'Jongewaard, B.', 'de Jong, M.', 'de Jong, P.', 'Kadler, M.', 'Kalaczyński, P.', 'Kalekin, O.', 'Katz, U. F.', 'Chowdhury, N. R. Khan', 'Kieft, G.', 'Kießling, D.', 'Koffeman, E. N.', 'Kooijman, P.', 'Kouchner, A.', 'Kreter, M.', 'Kulikovskiy, V.', 'Lahmann, R.', 'Le Breton, R.', 'Leone, F.', 'Leonora, E.', 'Levi, G.', 'Lincetto, M.', 'Lonardo, A.', 'Longhitano, F.', 'Lotze, M.', 'Loucatos, S.', 'Maggi, G.', 'Mańczak, J.', 'Mannheim, K.', 'Margiotta, A.', 'Marinelli, A.', 'Markou, C.', 'Martin, L.', 'Martínez-Mora, J. A.', 'Martini, A.', 'Marzaioli, F.', 'Mele, R.', 'Melis, K. W.', 'Migliozzi, P.', 'Migneco, E.', 'Mijakowski, P.', 'Miranda, L. S.', 'Mollo, C. M.', 'Morganti, M.', 'Moser, M.', 'Moussa, A.', 'Muller, R.', 'Musumeci, M.', 'Nauta, L.', 'Navas, S.', 'Nicolau, C. A.', 'Nielsen, C.', 'Organokov, M.', 'Orlando, A.', 'Panagopoulos, V.', 'Papalashvili, G.', 'Papaleo, R.', 'Păvălaș, G. E.', 'Pellegrini, G.', 'Pellegrino, C.', 'Pérez Romero, J.', 'Perrin-Terrin, M.', 'Piattelli, P.', 'Pikounis, K.', 'Pisanti, O.', 'Poirè, C.', 'Polydefki, G.', 'Poma, G. E.', 'Popa, V.', 'Post, M.', 'Pradier, T.', 'Pühlhofer, G.', 'Pulvirenti, S.', 'Quinn, L.', 'Raffaelli, F.', 'Randazzo, N.', 'Razzaque, S.', 'Real, D.', 'Resvanis, L.', 'Reubelt, J.', 'Riccobene, G.', 'Richer, M.', 'Rovelli, A.', 'Salvadori, I.', 'Samtleben, D. F. E.', 'Sánchez Losa, A.', 'Sanguineti, M.', 'Santangelo, A.', 'Sapienza, P.', 'Schermer, B.', 'Sciacca, V.', 'Seneca, J.', 'Sgura, I.', 'Shanidze, R.', 'Sharma, A.', 'Simeone, F.', 'Sinopoulou, A.', 'Spisso, B.', 'Spurio, M.', 'Stavropoulos, D.', 'Steijger, J.', 'Stellacci, S. M.', 'Strandberg, B.', 'Stransky, D.', 'Stüven, T.', 'Taiuti, M.', 'Tatone, F.', 'Tayalati, Y.', 'Tenllado, E.', 'Thakore, T.', 'Timmer, P.', 'Trovato, A.', 'Tsagkli, S.', 'Tzamariudaki, E.', 'Tzanetatos, D.', 'Valieri, C.', 'Vallage, B.', 'Van Elewyck, V.', 'Versari, F.', 'Viola, S.', 'Vivolo, D.', 'Volkert, M.', 'de Waardt, L.', 'Wilms, J.', 'de Wolf, E.', 'Zaborov, D.', 'Zornoza, J. D.', 'Zúñiga, J.']),\n",
       "       list(['Tovmassian, G.', 'Stasińska, G.', 'Yungelson, L.', 'Napiwotzki, R.', 'Rauch, T.', 'Richer, M.', 'Morisset, C.']),\n",
       "       list(['Heine, M.', 'Courtin, S.', 'Fruet, G.', 'Jenkins, D. G.', 'Montanari, D.', 'Adsley, P.', 'Beck, C.', 'Della Negra, S.', 'Dené, P.', 'Haas, F.', 'Hammache, F.', 'Heitz, G.', 'Kirsebom, O. S.', 'Krauth, M.', 'Lesrel, J.', 'Meyer, A.', 'Morris, L.', 'Regan, P. H.', 'Richer, M.', 'Rudigier, M.', 'de Séréville, N.', 'Stodel, C.']),\n",
       "       list(['Lehner, Matthew', 'Wang, S.', 'Ho, P.', 'Zhang, Z.', 'Cook, K.', 'Yen, W.', 'Reyes-Ruiz, M.', 'Hiriart, D.', 'Richer, M.', 'Alcock, C.', 'Szentgyorgyi, A.', 'Geary, J.', 'Norton, T.', 'Furesz, G.']),\n",
       "       list(['Adam, W.', 'Bergauer, T.', 'Dragicevic, M.', 'Friedl, M.', 'Fruehwirth, R.', 'Hoch, M.', 'Hrubec, J.', 'Krammer, M.', 'Treberspurg, W.', 'Waltenberger, W.', 'Alderweireldt, S.', 'Beaumont, W.', 'Janssen, X.', 'Luyckx, S.', 'Van Mechelen, P.', 'Van Remortel, N.', 'Van Spilbeeck, A.', 'Barria, P.', 'Caillol, C.', 'Clerbaux, B.', 'De Lentdecker, G.', 'Dobur, D.', 'Favart, L.', 'Grebenyuk, A.', 'Lenzi, Th.', 'Léonard, A.', 'Maerschalk, Th.', 'Mohammadi, A.', 'Perniè, L.', 'Randle-Conde, A.', 'Reis, T.', 'Seva, T.', 'Thomas, L.', 'Vander Velde, C.', 'Vanlaer, P.', 'Wang, J.', 'Zenoni, F.', 'Abu Zeid, S.', 'Blekman, F.', 'De Bruyn, I.', \"D'Hondt, J.\", 'Daci, N.', 'Deroover, K.', 'Heracleous, N.', 'Keaveney, J.', 'Lowette, S.', 'Moreels, L.', 'Olbrechts, A.', 'Python, Q.', 'Tavernier, S.', 'Van Mulders, P.', 'Van Onsem, G.', 'Van Parijs, I.', 'Strom, D. A.', 'Basegmez, S.', 'Bruno, G.', 'Castello, R.', 'Caudron, A.', 'Ceard, L.', 'De Callatay, B.', 'Delaere, C.', 'Du Pree, T.', 'Forthomme, L.', 'Giammanco, A.', 'Hollar, J.', 'Jez, P.', 'Michotte, D.', 'Nuttens, C.', 'Perrini, L.', 'Pagano, D.', 'Quertenmont, L.', 'Selvaggi, M.', 'Vidal Marono, M.', 'Beliy, N.', 'Caebergs, T.', 'Daubie, E.', 'Hammad, G. H.', 'Härkönen, J.', 'Lampén, T.', 'Luukka, P. -R.', 'Mäenpää, T.', 'Peltola, T.', 'Tuominen, E.', 'Tuovinen, E.', 'Eerola, P.', 'Tuuva, T.', 'Beaulieu, G.', 'Boudoul, G.', 'Combaret, C.', 'Contardo, D.', 'Gallbit, G.', 'Lumb, N.', 'Mathez, H.', 'Mirabito, L.', 'Perries, S.', 'Sabes, D.', 'Vander Donckt, M.', 'Verdier, P.', 'Viret, S.', 'Zoccarato, Y.', 'Agram, J. -L.', 'Conte, E.', 'Fontaine, J. -Ch.', 'Andrea, J.', 'Bloch, D.', 'Bonnin, C.', 'Brom, J. -M.', 'Chabert, E.', 'Charles, L.', 'Goetzmann, Ch.', 'Gross, L.', 'Hosselet, J.', 'Mathieu, C.', 'Richer, M.', 'Skovpen, K.', 'Pistone, C.', 'Fluegge, G.', 'Kuensken, A.', 'Geisler, M.', 'Pooth, O.', 'Stahl, A.', 'Autermann, C.', 'Edelhoff, M.', 'Esser, H.', 'Feld, L.', 'Karpinski, W.', 'Klein, K.', 'Lipinski, M.', 'Ostapchuk, A.', 'Pierschel, G.', 'Preuten, M.', 'Raupach, F.', 'Sammet, J.', 'Schael, S.', 'Schwering, G.', 'Wittmer, B.', 'Wlochal, M.', 'Zhukov, V.', 'Bartosik, N.', 'Behr, J.', 'Burgmeier, A.', 'Calligaris, L.', 'Dolinska, G.', 'Eckerlin, G.', 'Eckstein, D.', 'Eichhorn, T.', 'Fluke, G.', 'Garay Garcia, J.', 'Gizhko, A.', 'Hansen, K.', 'Harb, A.', 'Hauk, J.', 'Kalogeropoulos, A.', 'Kleinwort, C.', 'Korol, I.', 'Lange, W.', 'Lohmann, W.', 'Mankel, R.', 'Maser, H.', 'Mittag, G.', 'Muhl, C.', 'Mussgiller, A.', 'Nayak, A.', 'Ntomari, E.', 'Perrey, H.', 'Pitzl, D.', 'Schroeder, M.', 'Seitz, C.', 'Spannagel, S.', 'Zuber, A.', 'Biskop, H.', 'Blobel, V.', 'Buhmann, P.', 'Centis-Vignali, M.', 'Draeger, A. -R.', 'Erfle, J.', 'Garutti, E.', 'Haller, J.', 'Hoffmann, M.', 'Junkes, A.', 'Lapsien, T.', 'Mättig, S.', 'Matysek, M.', 'Perieanu, A.', 'Poehlsen, J.', 'Poehlsen, T.', 'Scharf, Ch.', 'Schleper, P.', 'Schmidt, A.', 'Sola, V.', 'Steinbrück, G.', 'Wellhausen, J.', 'Barvich, T.', 'Barth, Ch.', 'Boegelspacher, F.', 'De Boer, W.', 'Butz, E.', 'Casele, M.', 'Colombo, F.', 'Dierlamm, A.', 'Eber, R.', 'Freund, B.', 'Hartmann, F.', 'Hauth, Th.', 'Heindl, S.', 'Hoffmann, K. -H.', 'Husemann, U.', 'Kornmeyer, A.', 'Mallows, S.', 'Muller, Th.', 'Nuernberg, A.', 'Printz, M.', 'Simonis, H. J.', 'Steck, P.', 'Weber, M.', 'Weiler, Th.', 'Bhardwaj, A.', 'Kumar, A.', 'Kumar, A.', 'Ranjan, K.', 'Bakhshiansohl, H.', 'Behnamian, H.', 'Khakzad, M.', 'Naseri, M.', 'Cariola, P.', 'De Robertis, G.', 'Fiore, L.', 'Franco, M.', 'Loddo, F.', 'Sala, G.', 'Silvestris, L.', 'Creanza, D.', 'De Palma, M.', 'Maggi, G.', 'My, S.', 'Selvaggi, G.', 'Albergo, S.', 'Cappello, G.', 'Chiorboli, M.', 'Costa, S.', 'Giordano, F.', 'Di Mattia, A.', 'Potenza, R.', 'Saizu, M. A.', 'Tricomi, A.', 'Tuvè, C.', 'Barbagli, G.', 'Brianzi, M.', 'Ciaranfi, R.', 'Civinini, C.', 'Gallo, E.', 'Meschini, M.', 'Paoletti, S.', 'Sguazzoni, G.', 'Ciulli, V.', \"D'Alessandro, R.\", 'Gonzi, S.', 'Gori, V.', 'Focardi, E.', 'Lenzi, P.', 'Scarlini, E.', 'Tropiano, A.', 'Viliani, L.', 'Ferro, F.', 'Robutti, E.', 'Lo Vetere, M.', 'Gennai, S.', 'Malvezzi, S.', 'Menasce, D.', 'Moroni, L.', 'Pedrini, D.', 'Dinardo, M.', 'Fiorendi, S.', 'Manzoni, R. A.', 'Azzi, P.', 'Bacchetta, N.', 'Bisello, D.', \"Dall'Osso, M.\", 'Dorigo, T.', 'Giubilato, P.', 'Pozzobon, N.', 'Tosi, M.', 'Zucchetta, A.', 'De Canio, F.', 'Gaioni, L.', 'Manghisoni, M.', 'Nodari, B.', 'Re, V.', 'Traversi, G.', 'Comotti, D.', 'Ratti, L.', 'Bilei, G. M.', 'Bissi, L.', 'Checcucci, B.', 'Magalotti, D.', 'Menichelli, M.', 'Saha, A.', 'Servoli, L.', 'Storchi, L.', 'Biasini, M.', 'Conti, E.', 'Ciangottini, D.', 'Fanò, L.', 'Lariccia, P.', 'Mantovani, G.', 'Passeri, D.', 'Placidi, P.', 'Salvatore, M.', 'Santocchia, A.', 'Solestizi, L. A.', 'Spiezia, A.', 'Androsov, K.', 'Azzurri, P.', 'Arezzini, S.', 'Bagliesi, G.', 'Basti, A.', 'Boccali, T.', 'Bosi, F.', 'Castaldi, R.', 'Ciampa, A.', 'Ciocci, M. A.', \"Dell'Orso, R.\", 'Fedi, G.', 'Giassi, A.', 'Grippo, M. T.', 'Lomtadze, T.', 'Magazzu, G.', 'Mazzoni, E.', 'Minuti, M.', 'Moggi, A.', 'Moon, C. S.', 'Morsani, F.', 'Palla, F.', 'Palmonari, F.', 'Raffaelli, F.', 'Savoy-Navarro, A.', 'Serban, A. T.', 'Spagnolo, P.', 'Tenchini, R.', 'Venturi, A.', 'Verdini, P. G.', 'Martini, L.', 'Messineo, A.', 'Rizzi, A.', 'Tonelli, G.', 'Calzolari, F.', 'Donato, S.', 'Fiori, F.', 'Ligabue, F.', 'Vernieri, C.', 'Demaria, N.', 'Rivetti, A.', 'Bellan, R.', 'Casasso, S.', 'Costa, M.', 'Covarelli, R.', 'Migliore, E.', 'Monteil, E.', 'Musich, M.', 'Pacher, L.', 'Ravera, F.', 'Romero, A.', 'Solano, A.', 'Trapani, P.', 'Jaramillo Echeverria, R.', 'Fernandez, M.', 'Gomez, G.', 'Moya, D.', 'Gonzalez Sanchez, F. J.', 'Munoz Sanchez, F. J.', 'Vila, I.', 'Virto, A. L.', 'Abbaneo, D.', 'Ahmed, I.', 'Albert, E.', 'Auzinger, G.', 'Berruti, G.', 'Bianchi, G.', 'Blanchot, G.', 'Breuker, H.', 'Ceresa, D.', 'Christiansen, J.', 'Cichy, K.', 'Daguin, J.', \"D'Alfonso, M.\", \"D'Auria, A.\", 'Detraz, S.', 'De Visscher, S.', 'Deyrail, D.', 'Faccio, F.', 'Felici, D.', 'Frank, N.', 'Gill, K.', 'Giordano, D.', 'Harris, P.', 'Honma, A.', 'Kaplon, J.', 'Kornmayer, A.', 'Kottelat, L.', 'Kovacs, M.', 'Mannelli, M.', 'Marchioro, A.', 'Marconi, S.', 'Martina, S.', 'Mersi, S.', 'Michelis, S.', 'Moll, M.', 'Onnela, A.', 'Pakulski, T.', 'Pavis, S.', 'Peisert, A.', 'Pernot, J. -F.', 'Petagna, P.', 'Petrucciani, G.', 'Postema, H.', 'Rose, P.', 'Rzonca, M.', 'Stoye, M.', 'Tropea, P.', 'Troska, J.', 'Tsirou, A.', 'Vasey, F.', 'Vichoudis, P.', 'Verlaat, B.', 'Zwalinski, L.', 'Bachmair, F.', 'Becker, R.', 'Bäni, L.', 'di Calafiori, D.', 'Casal, B.', 'Djambazov, L.', 'Donega, M.', 'Dünser, M.', 'Eller, P.', 'Grab, C.', 'Hits, D.', 'Horisberger, U.', 'Hoss, J.', 'Kasieczka, G.', 'Lustermann, W.', 'Mangano, B.', 'Marionneau, M.', 'Martinez Ruiz del Arbol, P.', 'Masciovecchio, M.', 'Perrozzi, L.', 'Roeser, U.', 'Rossini, M.', 'Starodumov, A.', 'Takahashi, M.', 'Wallny, R.', 'Amsler, C.', 'Bösiger, K.', 'Caminada, L.', 'Canelli, F.', 'Chiochia, V.', 'de Cosa, A.', 'Galloni, C.', 'Hreus, T.', 'Kilminster, B.', 'Lange, C.', 'Maier, R.', 'Ngadiuba, J.', 'Pinna, D.', 'Robmann, P.', 'Taroni, S.', 'Yang, Y.', 'Bertl, W.', 'Deiters, K.', 'Erdmann, W.', 'Horisberger, R.', 'Kaestli, H. -C.', 'Kotlinski, D.', 'Langenegger, U.', 'Meier, B.', 'Rohe, T.', 'Streuli, S.', 'Chen, P. -H.', 'Dietz, C.', 'Grundler, U.', 'Hou, W. -S.', 'Lu, R. -S.', 'Moya, M.', 'Wilken, R.', 'Cussans, D.', 'Flacher, H.', 'Goldstein, J.', 'Grimes, M.', 'Jacob, J.', 'Seif El Nasr-Storey, S.', 'Cole, J.', 'Hobson, P.', 'Leggat, D.', 'Reid, I. D.', 'Teodorescu, L.', 'Bainbridge, R.', 'Dauncey, P.', 'Fulcher, J.', 'Hall, G.', 'Magnan, A. -M.', 'Pesaresi, M.', 'Raymond, D. M.', 'Uchida, K.', 'Coughlan, J. A.', 'Harder, K.', 'Ilic, J.', 'Tomalin, I. R.', 'Garabedian, A.', 'Heintz, U.', 'Narain, M.', 'Nelson, J.', 'Sagir, S.', 'Speer, T.', 'Swanson, J.', 'Tersegno, D.', 'Watson-Daniels, J.', 'Chertok, M.', 'Conway, J.', 'Conway, R.', 'Flores, C.', 'Lander, R.', 'Pellett, D.', 'Ricci-Tam, F.', 'Squires, M.', 'Thomson, J.', 'Burt, K.', 'Ellison, J.', 'Hanson, G.', 'Malberti, M.', 'Olmedo, M.', 'Cerati, G.', 'Sharma, V.', 'Vartak, A.', 'Yagil, A.', 'Zevi Della Porta, G.', 'Dutta, V.', 'Gouskos, L.', 'Incandela, J.', 'Kyre, S.', 'McColl, N.', 'Mullin, S.', 'White, D.', 'Cumalat, J. P.', 'Ford, W. T.', 'Gaz, A.', 'Krohn, M.', 'Stenson, K.', 'Wagner, S. R.', 'Baldin, B.', 'Bolla, G.', 'Burkett, K.', 'Butler, J.', 'Cheung, H.', 'Chramowicz, J.', 'Christian, D.', 'Cooper, W. E.', 'Deptuch, G.', 'Derylo, G.', 'Gingu, C.', 'Gruenendahl, S.', 'Hasegawa, S.', 'Hoff, J.', 'Howell, J.', 'Hrycyk, M.', 'Jindariani, S.', 'Johnson, M.', 'Jung, A.', 'Joshi, U.', 'Kahlid, F.', 'Lei, C. M.', 'Lipton, R.', 'Liu, T.', 'Los, S.', 'Matulik, M.', 'Merkel, P.', 'Nahn, S.', 'Prosser, A.', 'Rivera, R.', 'Shenai, A.', 'Spiegel, L.', 'Tran, N.', 'Uplegger, L.', 'Voirin, E.', 'Yin, H.', 'Adams, M. R.', 'Berry, D. R.', 'Evdokimov, A.', 'Evdokimov, O.', 'Gerber, C. E.', 'Hofman, D. J.', 'Kapustka, B. K.', \"O'Brien, C.\", 'Sandoval Gonzalez, D. I.', 'Trauger, H.', 'Turner, P.', 'Parashar, N.', 'Stupak, J.', 'Bortoletto, D.', 'Bubna, M.', 'Hinton, N.', 'Jones, M.', 'Miller, D. H.', 'Shi, X.', 'Tan, P.', 'Baringer, P.', 'Bean, A.', 'Benelli, G.', 'Gray, J.', 'Majumder, D.', 'Noonan, D.', 'Sanders, S.', 'Stringer, R.', 'Ivanov, A.', 'Makouski, M.', 'Skhirtladze, N.', 'Taylor, R.', 'Anderson, I.', 'Fehling, D.', 'Gritsan, A.', 'Maksimovic, P.', 'Martin, C.', 'Nash, K.', 'Osherson, M.', 'Swartz, M.', 'Xiao, M.', 'Acosta, J. G.', 'Cremaldi, L. M.', 'Oliveros, S.', 'Perera, L.', 'Summers, D.', 'Bloom, K.', 'Bose, S.', 'Claes, D. R.', 'Dominguez, A.', 'Fangmeier, C.', 'Gonzalez Suarez, R.', 'Meier, F.', 'Monroy, J.', 'Hahn, K.', 'Sevova, S.', 'Sung, K.', 'Trovato, M.', 'Bartz, E.', 'Duggan, D.', 'Halkiadakis, E.', 'Lath, A.', 'Park, M.', 'Schnetzer, S.', 'Stone, R.', 'Walker, M.', 'Malik, S.', 'Mendez, H.', 'Ramirez Vargas, J. E.', 'Alyari, M.', 'Dolen, J.', 'George, J.', 'Godshalk, A.', 'Iashvili, I.', 'Kaisen, J.', 'Kharchilava, A.', 'Kumar, A.', 'Rappoccio, S.', 'Alexander, J.', 'Chaves, J.', 'Chu, J.', 'Dittmer, S.', 'Kaufman, G.', 'Mirman, N.', 'Ryd, A.', 'Salvati, E.', 'Skinnari, L.', 'Thom, J.', 'Thompson, J.', 'Tucker, J.', 'Winstrom, L.', 'Akgün, B.', 'Ecklund, K. M.', 'Nussbaum, T.', 'Zabel, J.', 'Betchart, B.', 'Covarelli, R.', 'Demina, R.', 'Hindrichs, O.', 'Petrillo, G.', 'Eusebi, R.', 'Osipenkov, I.', 'Perloff, A.', 'Ulmer, K. A.', 'Delannoy, A. G.', \"D'Angelo, P.\", 'Johns, W.']),\n",
       "       list(['Akkoyun, S.', 'Algora, A.', 'Alikhani, B.', 'Ameil, F.', 'de Angelis, G.', 'Arnold, L.', 'Astier, A.', 'Ataç, A.', 'Aubert, Y.', 'Aufranc, C.', 'Austin, A.', 'Aydin, S.', 'Azaiez, F.', 'Badoer, S.', 'Balabanski, D. L.', 'Barrientos, D.', 'Baulieu, G.', 'Baumann, R.', 'Bazzacco, D.', 'Beck, F. A.', 'Beck, T.', 'Bednarczyk, P.', 'Bellato, M.', 'Bentley, M. A.', 'Benzoni, G.', 'Berthier, R.', 'Berti, L.', 'Beunard, R.', 'Lo Bianco, G.', 'Birkenbach, B.', 'Bizzeti, P. G.', 'Bizzeti-Sona, A. M.', 'Le Blanc, F.', 'Blasco, J. M.', 'Blasi, N.', 'Bloor, D.', 'Boiano, C.', 'Borsato, M.', 'Bortolato, D.', 'Boston, A. J.', 'Boston, H. C.', 'Bourgault, P.', 'Boutachkov, P.', 'Bouty, A.', 'Bracco, A.', 'Brambilla, S.', 'Brawn, I. P.', 'Brondi, A.', 'Broussard, S.', 'Bruyneel, B.', 'Bucurescu, D.', 'Burrows, I.', 'Bürger, A.', 'Cabaret, S.', 'Cahan, B.', 'Calore, E.', 'Camera, F.', 'Capsoni, A.', 'Carrió, F.', 'Casati, G.', 'Castoldi, M.', 'Cederwall, B.', 'Cercus, J. -L.', 'Chambert, V.', 'El Chambit, M.', 'Chapman, R.', 'Charles, L.', 'Chavas, J.', 'Clément, E.', 'Cocconi, P.', 'Coelli, S.', 'Coleman-Smith, P. J.', 'Colombo, A.', 'Colosimo, S.', 'Commeaux, C.', 'Conventi, D.', 'Cooper, R. J.', 'Corsi, A.', 'Cortesi, A.', 'Costa, L.', 'Crespi, F. C. L.', 'Cresswell, J. R.', 'Cullen, D. M.', 'Curien, D.', 'Czermak, A.', 'Delbourg, D.', 'Depalo, R.', 'Descombes, T.', 'Désesquelles, P.', 'Detistov, P.', 'Diarra, C.', 'Didierjean, F.', 'Dimmock, M. R.', 'Doan, Q. T.', 'Domingo-Pardo, C.', 'Doncel, M.', 'Dorangeville, F.', 'Dosme, N.', 'Drouen, Y.', 'Duchêne, G.', 'Dulny, B.', 'Eberth, J.', 'Edelbruck, P.', 'Egea, J.', 'Engert, T.', 'Erduran, M. N.', 'Ertürk, S.', 'Fanin, C.', 'Fantinel, S.', 'Farnea, E.', 'Faul, T.', 'Filliger, M.', 'Filmer, F.', 'Finck, Ch.', 'de France, G.', 'Gadea, A.', 'Gast, W.', 'Geraci, A.', 'Gerl, J.', 'Gernhäuser, R.', 'Giannatiempo, A.', 'Giaz, A.', 'Gibelin, L.', 'Givechev, A.', 'Goel, N.', 'González, V.', 'Gottardo, A.', 'Grave, X.', 'Grebosz, J.', 'Griffiths, R.', 'Grint, A. N.', 'Gros, P.', 'Guevara, L.', 'Gulmini, M.', 'Görgen, A.', 'Ha, H. T. M.', 'Habermann, T.', 'Harkness, L. J.', 'Harroch, H.', 'Hauschild, K.', 'He, C.', 'Hernández-Prieto, A.', 'Hervieu, B.', 'Hess, H.', 'Hüyük, T.', 'Ince, E.', 'Isocrate, R.', 'Jaworski, G.', 'Johnson, A.', 'Jolie, J.', 'Jones, P.', 'Jonson, B.', 'Joshi, P.', 'Judson, D. S.', 'Jungclaus, A.', 'Kaci, M.', 'Karkour, N.', 'Karolak, M.', 'Kașkaș, A.', 'Kebbiri, M.', 'Kempley, R. S.', 'Khaplanov, A.', 'Klupp, S.', 'Kogimtzis, M.', 'Kojouharov, I.', 'Korichi, A.', 'Korten, W.', 'Kröll, Th.', 'Krücken, R.', 'Kurz, N.', 'Ky, B. Y.', 'Labiche, M.', 'Lafay, X.', 'Lavergne, L.', 'Lazarus, I. H.', 'Leboutelier, S.', 'Lefebvre, F.', 'Legay, E.', 'Legeard, L.', 'Lelli, F.', 'Lenzi, S. M.', 'Leoni, S.', 'Lermitage, A.', 'Lersch, D.', 'Leske, J.', 'Letts, S. C.', 'Lhenoret, S.', 'Lieder, R. M.', 'Linget, D.', 'Ljungvall, J.', 'Lopez-Martens, A.', 'Lotodé, A.', 'Lunardi, S.', 'Maj, A.', 'van der Marel, J.', 'Mariette, Y.', 'Marginean, N.', 'Marginean, R.', 'Maron, G.', 'Mather, A. R.', 'Meçzyński, W.', 'Mendéz, V.', 'Medina, P.', 'Melon, B.', 'Menegazzo, R.', 'Mengoni, D.', 'Merchan, E.', 'Mihailescu, L.', 'Michelagnoli, C.', 'Mierzejewski, J.', 'Milechina, L.', 'Million, B.', 'Mitev, K.', 'Molini, P.', 'Montanari, D.', 'Moon, S.', 'Morbiducci, F.', 'Moro, R.', 'Morrall, P. S.', 'Möller, O.', 'Nannini, A.', 'Napoli, D. R.', 'Nelson, L.', 'Nespolo, M.', 'Ngo, V. L.', 'Nicoletto, M.', 'Nicolini, R.', 'Le Noa, Y.', 'Nolan, P. J.', 'Norman, M.', 'Nyberg, J.', 'Obertelli, A.', 'Olariu, A.', 'Orlandi, R.', 'Oxley, D. C.', 'Özben, C.', 'Ozille, M.', 'Oziol, C.', 'Pachoud, E.', 'Palacz, M.', 'Palin, J.', 'Pancin, J.', 'Parisel, C.', 'Pariset, P.', 'Pascovici, G.', 'Peghin, R.', 'Pellegri, L.', 'Perego, A.', 'Perrier, S.', 'Petcu, M.', 'Petkov, P.', 'Petrache, C.', 'Pierre, E.', 'Pietralla, N.', 'Pietri, S.', 'Pignanelli, M.', 'Piqueras, I.', 'Podolyak, Z.', 'Le Pouhalec, P.', 'Pouthas, J.', 'Pugnére, D.', 'Pucknell, V. F. E.', 'Pullia, A.', 'Quintana, B.', 'Raine, R.', 'Rainovski, G.', 'Ramina, L.', 'Rampazzo, G.', 'La Rana, G.', 'Rebeschini, M.', 'Recchia, F.', 'Redon, N.', 'Reese, M.', 'Reiter, P.', 'Regan, P. H.', 'Riboldi, S.', 'Richer, M.', 'Rigato, M.', 'Rigby, S.', 'Ripamonti, G.', 'Robinson, A. P.', 'Robin, J.', 'Roccaz, J.', 'Ropert, J. -A.', 'Rossé, B.', 'Rossi Alvarez, C.', 'Rosso, D.', 'Rubio, B.', 'Rudolph, D.', 'Saillant, F.', 'Şahin, E.', 'Salomon, F.', 'Salsac, M. -D.', 'Salt, J.', 'Salvato, G.', 'Sampson, J.', 'Sanchis, E.', 'Santos, C.', 'Schaffner, H.', 'Schlarb, M.', 'Scraggs, D. P.', 'Seddon, D.', 'Şenyiğit, M.', 'Sigward, M. -H.', 'Simpson, G.', 'Simpson, J.', 'Slee, M.', 'Smith, J. F.', 'Sona, P.', 'Sowicki, B.', 'Spolaore, P.', 'Stahl, C.', 'Stanios, T.', 'Stefanova, E.', 'Stézowski, O.', 'Strachan, J.', 'Suliman, G.', 'Söderström, P. -A.', 'Tain, J. L.', 'Tanguy, S.', 'Tashenov, S.', 'Theisen, Ch.', 'Thornhill, J.', 'Tomasi, F.', 'Toniolo, N.', 'Touzery, R.', 'Travers, B.', 'Triossi, A.', 'Tripon, M.', 'Tun-Lanoë, K. M. M.', 'Turcato, M.', 'Unsworth, C.', 'Ur, C. A.', 'Valiente-Dobon, J. J.', 'Vandone, V.', 'Vardaci, E.', 'Venturelli, R.', 'Veronese, F.', 'Veyssiere, Ch.', 'Viscione, E.', 'Wadsworth, R.', 'Walker, P. M.', 'Warr, N.', 'Weber, C.', 'Weisshaar, D.', 'Wells, D.', 'Wieland, O.', 'Wiens, A.', 'Wittwer, G.', 'Wollersheim, H. J.', 'Zocca, F.', 'Zamfir, N. V.', 'Ziebliński, M.', 'Zucchiatti, A.']),\n",
       "       list(['Tovmassian, G.', 'Tomsick, J.', 'Napiwotzki, R.', 'Yungelson, L.', 'Stasińska, G.', 'Peña, M.', 'Richer, M.']),\n",
       "       list(['Acharya, B. S.', 'Actis, M.', 'Aghajani, T.', 'Agnetta, G.', 'Aguilar, J.', 'Aharonian, F.', 'Ajello, M.', 'Akhperjanian, A.', 'Alcubierre, M.', 'Aleksić, J.', 'Alfaro, R.', 'Aliu, E.', 'Allafort, A. J.', 'Allan, D.', 'Allekotte, I.', 'Amato, E.', 'Anderson, J.', 'Angüner, E. O.', 'Antonelli, L. A.', 'Antoranz, P.', 'Aravantinos, A.', 'Arlen, T.', 'Armstrong, T.', 'Arnaldi, H.', 'Arrabito, L.', 'Asano, K.', 'Ashton, T.', 'Asorey, H. G.', 'Awane, Y.', 'Baba, H.', 'Babic, A.', 'Baby, N.', 'Bähr, J.', 'Bais, A.', 'Baixeras, C.', 'Bajtlik, S.', 'Balbo, M.', 'Balis, D.', 'Balkowski, C.', 'Bamba, A.', 'Bandiera, R.', 'Barber, A.', 'Barbier, C.', 'Barceló, M.', 'Barnacka, A.', 'Barnstedt, J.', 'Barres de Almeida, U.', 'Barrio, J. A.', 'Basili, A.', 'Basso, S.', 'Bastieri, D.', 'Bauer, C.', 'Baushev, A.', 'Becerra, J.', 'Becherini, Y.', 'Bechtol, K. C.', 'Becker Tjus, J.', 'Beckmann, V.', 'Bednarek, W.', 'Behera, B.', 'Belluso, M.', 'Benbow, W.', 'Berdugo, J.', 'Berger, K.', 'Bernard, F.', 'Bernardino, T.', 'Bernlöhr, K.', 'Bhat, N.', 'Bhattacharyya, S.', 'Bigongiari, C.', 'Biland, A.', 'Billotta, S.', 'Bird, T.', 'Birsin, E.', 'Bissaldi, E.', 'Biteau, J.', 'Bitossi, M.', 'Blake, S.', 'Blanch Bigas, O.', 'Blasi, P.', 'Bobkov, A.', 'Boccone, V.', 'Boettcher, M.', 'Bogacz, L.', 'Bogart, J.', 'Bogdan, M.', 'Boisson, C.', 'Boix Gargallo, J.', 'Bolmont, J.', 'Bonanno, G.', 'Bonardi, A.', 'Bonev, T.', 'Bonifacio, P.', 'Bonnoli, G.', 'Bordas, P.', 'Borgland, A.', 'Borkowski, J.', 'Bose, R.', 'Botner, O.', 'Bottani, A.', 'Bouchet, L.', 'Bourgeat, M.', 'Boutonnet, C.', 'Bouvier, A.', 'Brau-Nogué, S.', 'Braun, I.', 'Bretz, T.', 'Briggs, M.', 'Bringmann, T.', 'Brook, P.', 'Brun, P.', 'Brunetti, L.', 'Buanes, T.', 'Buckley, J.', 'Buehler, R.', 'Bugaev, V.', 'Bulgarelli, A.', 'Bulik, T.', 'Busetto, G.', 'Buson, S.', 'Byrum, K.', 'Cailles, M.', 'Cameron, R.', 'Camprecios, J.', 'Canestrari, R.', 'Cantu, S.', 'Capalbi, M.', 'Caraveo, P.', 'Carmona, E.', 'Carosi, A.', 'Carr, J.', 'Carton, P. -H.', 'Casanova, S.', 'Casiraghi, M.', 'Catalano, O.', 'Cavazzani, S.', 'Cazaux, S.', 'Cerruti, M.', 'Chabanne, E.', 'Chadwick, P.', 'Champion, C.', 'Chen, A.', 'Chiang, J.', 'Chiappetti, L.', 'Chikawa, M.', 'Chitnis, V. R.', 'Chollet, F.', 'Chudoba, J.', 'Cieślar, M.', 'Cillis, A.', 'Cohen-Tanugi, J.', 'Colafrancesco, S.', 'Colin, P.', 'Colome, J.', 'Colonges, S.', 'Compin, M.', 'Conconi, P.', 'Conforti, V.', 'Connaughton, V.', 'Conrad, J.', 'Contreras, J. L.', 'Coppi, P.', 'Corona, P.', 'Corti, D.', 'Cortina, J.', 'Cossio, L.', 'Costantini, H.', 'Cotter, G.', 'Courty, B.', 'Couturier, S.', 'Covino, S.', 'Crimi, G.', 'Criswell, S. J.', 'Croston, J.', 'Cusumano, G.', 'Dafonseca, M.', 'Dale, O.', 'Daniel, M.', 'Darling, J.', 'Davids, I.', 'Dazzi, F.', 'De Angelis, A.', 'De Caprio, V.', 'De Frondat, F.', 'de Gouveia Dal Pino, E. M.', 'de la Calle, I.', 'De La Vega, G. A.', 'de los Reyes Lopez, R.', 'De Lotto, B.', 'De Luca, A.', 'de Mello Neto, J. R. T.', 'de Naurois, M.', 'de Oliveira, Y.', 'de Oña Wilhelmi, E.', 'de Souza, V.', 'Decerprit, G.', 'Decock, G.', 'Deil, C.', 'Delagnes, E.', 'Deleglise, G.', 'Delgado, C.', 'Della Volpe, D.', 'Demange, P.', 'Depaola, G.', 'Dettlaff, A.', 'Di Paola, A.', 'Di Pierro, F.', 'Díaz, C.', 'Dick, J.', 'Dickherber, R.', 'Dickinson, H.', 'Diez-Blanco, V.', 'Digel, S.', 'Dimitrov, D.', 'Disset, G.', 'Djannati-Ataï, A.', 'Doert, M.', 'Dohmke, M.', 'Domainko, W.', 'Dominis Prester, D.', 'Donat, A.', 'Dorner, D.', 'Doro, M.', 'Dournaux, J. -L.', 'Drake, G.', 'Dravins, D.', 'Drury, L.', 'Dubois, F.', 'Dubois, R.', 'Dubus, G.', 'Dufour, C.', 'Dumas, D.', 'Dumm, J.', 'Durand, D.', 'Dyks, J.', 'Dyrda, M.', 'Ebr, J.', 'Edy, E.', 'Egberts, K.', 'Eger, P.', 'Einecke, S.', 'Eleftheriadis, C.', 'Elles, S.', 'Emmanoulopoulos, D.', 'Engelhaupt, D.', 'Enomoto, R.', 'Ernenwein, J. -P.', 'Errando, M.', 'Etchegoyen, A.', 'Evans, P.', 'Falcone, A.', 'Fantinel, D.', 'Farakos, K.', 'Farnier, C.', 'Fasola, G.', 'Favill, B.', 'Fede, E.', 'Federici, S.', 'Fegan, S.', 'Feinstein, F.', 'Ferenc, D.', 'Ferrando, P.', 'Fesquet, M.', 'Fiasson, A.', 'Fillin-Martino, E.', 'Fink, D.', 'Finley, C.', 'Finley, J. P.', 'Fiorini, M.', 'Firpo Curcoll, R.', 'Flores, H.', 'Florin, D.', 'Focke, W.', 'Föhr, C.', 'Fokitis, E.', 'Font, L.', 'Fontaine, G.', 'Fornasa, M.', 'Förster, A.', 'Fortson, L.', 'Fouque, N.', 'Franckowiak, A.', 'Fransson, C.', 'Fraser, G.', 'Frei, R.', 'Albuquerque, I. F. M.', 'Fresnillo, L.', 'Fruck, C.', 'Fujita, Y.', 'Fukazawa, Y.', 'Fukui, Y.', 'Funk, S.', 'Gäbele, W.', 'Gabici, S.', 'Gabriele, R.', 'Gadola, A.', 'Galante, N.', 'Gall, D.', 'Gallant, Y.', 'Gámez-García, J.', 'García, B.', 'Garcia López, R.', 'Gardiol, D.', 'Garrido, D.', 'Garrido, L.', 'Gascon, D.', 'Gaug, M.', 'Gaweda, J.', 'Gebremedhin, L.', 'Geffroy, N.', 'Gerard, L.', 'Ghedina, A.', 'Ghigo, M.', 'Giannakaki, E.', 'Gianotti, F.', 'Giarrusso, S.', 'Giavitto, G.', 'Giebels, B.', 'Gika, V.', 'Giommi, P.', 'Girard, N.', 'Giro, E.', 'Giuliani, A.', 'Glanzman, T.', 'Glicenstein, J. -F.', 'Godinovic, N.', 'Golev, V.', 'Gomez Berisso, M.', 'Gómez-Ortega, J.', 'Gonzalez, M. M.', 'González, A.', 'González, F.', 'González Muñoz, A.', 'Gothe, K. S.', 'Gougerot, M.', 'Graciani, R.', 'Grandi, P.', 'Grañena, F.', 'Granot, J.', 'Grasseau, G.', 'Gredig, R.', 'Green, A.', 'Greenshaw, T.', 'Grégoire, T.', 'Grimm, O.', 'Grube, J.', 'Grudzinska, M.', 'Gruev, V.', 'Grünewald, S.', 'Grygorczuk, J.', 'Guarino, V.', 'Gunji, S.', 'Gyuk, G.', 'Hadasch, D.', 'Hagiwara, R.', 'Hahn, J.', 'Hakansson, N.', 'Hallgren, A.', 'Hamer Heras, N.', 'Hara, S.', 'Hardcastle, M. J.', 'Harris, J.', 'Hassan, T.', 'Hatanaka, K.', 'Haubold, T.', 'Haupt, A.', 'Hayakawa, T.', 'Hayashida, M.', 'Heller, R.', 'Henault, F.', 'Henri, G.', 'Hermann, G.', 'Hermel, R.', 'Herrero, A.', 'Hidaka, N.', 'Hinton, J.', 'Hoffmann, D.', 'Hofmann, W.', 'Hofverberg, P.', 'Holder, J.', 'Horns, D.', 'Horville, D.', 'Houles, J.', 'Hrabovsky, M.', 'Hrupec, D.', 'Huan, H.', 'Huber, B.', 'Huet, J. -M.', 'Hughes, G.', 'Humensky, T. B.', 'Huovelin, J.', 'Ibarra, A.', 'Illa, J. M.', 'Impiombato, D.', 'Incorvaia, S.', 'Inoue, S.', 'Inoue, Y.', 'Ioka, K.', 'Ismailova, E.', 'Jablonski, C.', 'Jacholkowska, A.', 'Jamrozy, M.', 'Janiak, M.', 'Jean, P.', 'Jeanney, C.', 'Jimenez, J. J.', 'Jogler, T.', 'Johnson, T.', 'Journet, L.', 'Juffroy, C.', 'Jung, I.', 'Kaaret, P.', 'Kabuki, S.', 'Kagaya, M.', 'Kakuwa, J.', 'Kalkuhl, C.', 'Kankanyan, R.', 'Karastergiou, A.', 'Kärcher, K.', 'Karczewski, M.', 'Karkar, S.', 'Kasperek, J.', 'Kastana, D.', 'Katagiri, H.', 'Kataoka, J.', 'Katarzyński, K.', 'Katz, U.', 'Kawanaka, N.', 'Kellner-Leidel, B.', 'Kelly, H.', 'Kendziorra, E.', 'Khélifi, B.', 'Kieda, D. B.', 'Kifune, T.', 'Kihm, T.', 'Kishimoto, T.', 'Kitamoto, K.', 'Kluźniak, W.', 'Knapic, C.', 'Knapp, J.', 'Knödlseder, J.', 'Köck, F.', 'Kocot, J.', 'Kodani, K.', 'Köhne, J. -H.', 'Kohri, K.', 'Kokkotas, K.', 'Kolitzus, D.', 'Komin, N.', 'Kominis, I.', 'Konno, Y.', 'Köppel, H.', 'Korohoda, P.', 'Kosack, K.', 'Koss, G.', 'Kossakowski, R.', 'Kostka, P.', 'Koul, R.', 'Kowal, G.', 'Koyama, S.', 'Kozioł, J.', 'Krähenbühl, T.', 'Krause, J.', 'Krawzcynski, H.', 'Krennrich, F.', 'Krepps, A.', 'Kretzschmann, A.', 'Krobot, R.', 'Krueger, P.', 'Kubo, H.', 'Kudryavtsev, V. A.', 'Kushida, J.', 'Kuznetsov, A.', 'La Barbera, A.', 'La Palombara, N.', 'La Parola, V.', 'La Rosa, G.', 'Lacombe, K.', 'Lamanna, G.', 'Lande, J.', 'Languignon, D.', 'Lapington, J.', 'Laporte, P.', 'Lavalley, C.', 'Le Flour, T.', 'Le Padellec, A.', 'Lee, S. -H.', 'Lee, W. H.', 'Leigui de Oliveira, M. A.', 'Lelas, D.', 'Lenain, J. -P.', 'Leopold, D. J.', 'Lerch, T.', 'Lessio, L.', 'Lieunard, B.', 'Lindfors, E.', 'Liolios, A.', 'Lipniacka, A.', 'Lockart, H.', 'Lohse, T.', 'Lombardi, S.', 'Lopatin, A.', 'Lopez, M.', 'López-Coto, R.', 'López-Oramas, A.', 'Lorca, A.', 'Lorenz, E.', 'Lubinski, P.', 'Lucarelli, F.', 'Lüdecke, H.', 'Ludwin, J.', 'Luque-Escamilla, P. L.', 'Lustermann, W.', 'Luz, O.', 'Lyard, E.', 'Maccarone, M. C.', 'Maccarone, T. J.', 'Madejski, G. M.', 'Madhavan, A.', 'Mahabir, M.', 'Maier, G.', 'Majumdar, P.', 'Malaguti, G.', 'Maltezos, S.', 'Manalaysay, A.', 'Mancilla, A.', 'Mandat, D.', 'Maneva, G.', 'Mangano, A.', 'Manigot, P.', 'Mannheim, K.', 'Manthos, I.', 'Maragos, N.', 'Marcowith, A.', 'Mariotti, M.', 'Marisaldi, M.', 'Markoff, S.', 'Marszałek, A.', 'Martens, C.', 'Martí, J.', 'Martin, J. -M.', 'Martin, P.', 'Martínez, G.', 'Martínez, F.', 'Martínez, M.', 'Masserot, A.', 'Mastichiadis, A.', 'Mathieu, A.', 'Matsumoto, H.', 'Mattana, F.', 'Mattiazzo, S.', 'Maurin, G.', 'Maxfield, S.', 'Maya, J.', 'Mazin, D.', 'Mc Comb, L.', 'McCubbin, N.', 'McHardy, I.', 'McKay, R.', 'Medina, C.', 'Melioli, C.', 'Melkumyan, D.', 'Mereghetti, S.', 'Mertsch, P.', 'Meucci, M.', 'Michałowski, J.', 'Micolon, P.', 'Mihailidis, A.', 'Mineo, T.', 'Minuti, M.', 'Mirabal, N.', 'Mirabel, F.', 'Miranda, J. M.', 'Mirzoyan, R.', 'Mizuno, T.', 'Moal, B.', 'Moderski, R.', 'Mognet, I.', 'Molinari, E.', 'Molinaro, M.', 'Montaruli, T.', 'Monteiro, I.', 'Moore, P.', 'Moralejo Olaizola, A.', 'Mordalska, M.', 'Morello, C.', 'Mori, K.', 'Mottez, F.', 'Moudden, Y.', 'Moulin, E.', 'Mrusek, I.', 'Mukherjee, R.', 'Munar-Adrover, P.', 'Muraishi, H.', 'Murase, K.', 'Murphy, A.', 'Nagataki, S.', 'Naito, T.', 'Nakajima, D.', 'Nakamori, T.', 'Nakayama, K.', 'Naumann, C.', 'Naumann, D.', 'Naumann-Godo, M.', 'Nayman, P.', 'Nedbal, D.', 'Neise, D.', 'Nellen, L.', 'Neustroev, V.', 'Neyroud, N.', 'Nicastro, L.', 'Nicolau-Kukliński, J.', 'Niedźwiecki, A.', 'Niemiec, J.', 'Nieto, D.', 'Nikolaidis, A.', 'Nishijima, K.', 'Nolan, S.', 'Northrop, R.', 'Nosek, D.', 'Nowak, N.', 'Nozato, A.', \"O'Brien, P.\", 'Ohira, Y.', 'Ohishi, M.', 'Ohm, S.', 'Ohoka, H.', 'Okuda, T.', 'Okumura, A.', 'Olive, J. -F.', 'Ong, R. A.', 'Orito, R.', 'Orr, M.', 'Osborne, J.', 'Ostrowski, M.', 'Otero, L. A.', 'Otte, N.', 'Ovcharov, E.', 'Oya, I.', 'Ozieblo, A.', 'Padilla, L.', 'Paiano, S.', 'Paillot, D.', 'Paizis, A.', 'Palanque, S.', 'Palatka, M.', 'Pallota, J.', 'Panagiotidis, K.', 'Panazol, J. -L.', 'Paneque, D.', 'Panter, M.', 'Paoletti, R.', 'Papayannis, A.', 'Papyan, G.', 'Paredes, J. M.', 'Pareschi, G.', 'Parks, G.', 'Parraud, J. -M.', 'Parsons, D.', 'Paz Arribas, M.', 'Pech, M.', 'Pedaletti, G.', 'Pelassa, V.', 'Pelat, D.', 'Perez, M. d. C.', 'Persic, M.', 'Petrucci, P. -O.', 'Peyaud, B.', 'Pichel, A.', 'Pita, S.', 'Pizzolato, F.', 'Platos, Ł.', 'Platzer, R.', 'Pogosyan, L.', 'Pohl, M.', 'Pojmanski, G.', 'Ponz, J. D.', 'Potter, W.', 'Poutanen, J.', 'Prandini, E.', 'Prast, J.', 'Preece, R.', 'Profeti, F.', 'Prokoph, H.', 'Prouza, M.', 'Proyetti, M.', 'Puerto-Gimenez, I.', 'Pühlhofer, G.', 'Puljak, I.', 'Punch, M.', 'Pyzioł, R.', 'Quel, E. J.', 'Quinn, J.', 'Quirrenbach, A.', 'Racero, E.', 'Rajda, P. J.', 'Ramon, P.', 'Rando, R.', 'Rannot, R. C.', 'Rataj, M.', 'Raue, M.', 'Reardon, P.', 'Reimann, O.', 'Reimer, A.', 'Reimer, O.', 'Reitberger, K.', 'Renaud, M.', 'Renner, S.', 'Reville, B.', 'Rhode, W.', 'Ribó, M.', 'Ribordy, M.', 'Richer, M. G.', 'Rico, J.', 'Ridky, J.', 'Rieger, F.', 'Ringegni, P.', 'Ripken, J.', 'Ristori, P. R.', 'Riviére, A.', 'Rivoire, S.', 'Rob, L.', 'Roeser, U.', 'Rohlfs, R.', 'Rojas, G.', 'Romano, P.', 'Romaszkan, W.', 'Romero, G. E.', 'Rosen, S.', 'Rosier Lees, S.', 'Ross, D.', 'Rouaix, G.', 'Rousselle, J.', 'Rousselle, S.', 'Rovero, A. C.', 'Roy, F.', 'Royer, S.', 'Rudak, B.', 'Rulten, C.', 'Rupiński, M.', 'Russo, F.', 'Ryde, F.', 'Sacco, B.', 'Saemann, E. O.', 'Saggion, A.', 'Sahakian, V.', 'Saito, K.', 'Saito, T.', 'Saito, Y.', 'Sakaki, N.', 'Sakonaka, R.', 'Salini, A.', 'Sanchez, F.', 'Sanchez-Conde, M.', 'Sandoval, A.', 'Sandaker, H.', \"Sant'Ambrogio, E.\", 'Santangelo, A.', 'Santos, E. M.', 'Sanuy, A.', 'Sapozhnikov, L.', 'Sarkar, S.', 'Sartore, N.', 'Sasaki, H.', 'Satalecka, K.', 'Sawada, M.', 'Scalzotto, V.', 'Scapin, V.', 'Scarcioffolo, M.', 'Schafer, J.', 'Schanz, T.', 'Schlenstedt, S.', 'Schlickeiser, R.', 'Schmidt, T.', 'Schmoll, J.', 'Schovanek, P.', 'Schroedter, M.', 'Schultz, C.', 'Schultze, J.', 'Schulz, A.', 'Schure, K.', 'Schwab, T.', 'Schwanke, U.', 'Schwarz, J.', 'Schwarzburg, S.', 'Schweizer, T.', 'Schwemmer, S.', 'Segreto, A.', 'Seiradakis, J. -H.', 'Sembroski, G. H.', 'Seweryn, K.', 'Sharma, M.', 'Shayduk, M.', 'Shellard, R. C.', 'Shi, J.', 'Shibata, T.', 'Shibuya, A.', 'Shum, E.', 'Sidoli, L.', 'Sidz, M.', 'Sieiro, J.', 'Sikora, M.', 'Silk, J.', 'Sillanpää, A.', 'Singh, B. B.', 'Sitarek, J.', 'Skole, C.', 'Smareglia, R.', 'Smith, A.', 'Smith, D.', 'Smith, J.', 'Smith, N.', 'Sobczyńska, D.', 'Sol, H.', 'Sottile, G.', 'Sowiński, M.', 'Spanier, F.', 'Spiga, D.', 'Spyrou, S.', 'Stamatescu, V.', 'Stamerra, A.', 'Starling, R.', 'Stawarz, Ł.', 'Steenkamp, R.', 'Stegmann, C.', 'Steiner, S.', 'Stergioulas, N.', 'Sternberger, R.', 'Sterzel, M.', 'Stinzing, F.', 'Stodulski, M.', 'Straumann, U.', 'Strazzeri, E.', 'Stringhetti, L.', 'Suarez, A.', 'Suchenek, M.', 'Sugawara, R.', 'Sulanke, K. -H.', 'Sun, S.', 'Supanitsky, A. D.', 'Suric, T.', 'Sutcliffe, P.', 'Sykes, J.', 'Szanecki, M.', 'Szepieniec, T.', 'Szostek, A.', 'Tagliaferri, G.', 'Tajima, H.', 'Takahashi, H.', 'Takahashi, K.', 'Takalo, L.', 'Takami, H.', 'Talbot, G.', 'Tammi, J.', 'Tanaka, M.', 'Tanaka, S.', 'Tasan, J.', 'Tavani, M.', 'Tavernet, J. -P.', 'Tejedor, L. A.', 'Telezhinsky, I.', 'Temnikov, P.', 'Tenzer, C.', 'Terada, Y.', 'Terrier, R.', 'Teshima, M.', 'Testa, V.', 'Tezier, D.', 'Thuermann, D.', 'Tibaldo, L.', 'Tibolla, O.', 'Tiengo, A.', 'Tluczykont, M.', 'Todero Peixoto, C. J.', 'Tokanai, F.', 'Tokarz, M.', 'Toma, K.', 'Torii, K.', 'Tornikoski, M.', 'Torres, D. F.', 'Torres, M.', 'Tosti, G.', 'Totani, T.', 'Toussenel, F.', 'Tovmassian, G.', 'Travnicek, P.', 'Trifoglio, M.', 'Troyano, I.', 'Tsinganos, K.', 'Ueno, H.', 'Umehara, K.', 'Upadhya, S. S.', 'Usher, T.', 'Uslenghi, M.', 'Valdes-Galicia, J. F.', 'Vallania, P.', 'Vallejo, G.', 'van Driel, W.', 'van Eldik, C.', 'Vandenbrouke, J.', 'Vanderwalt, J.', 'Vankov, H.', 'Vasileiadis, G.', 'Vassiliev, V.', 'Veberic, D.', 'Vegas, I.', 'Vercellone, S.', 'Vergani, S.', 'Veyssiére, C.', 'Vialle, J. P.', 'Viana, A.', 'Videla, M.', 'Vincent, P.', 'Vincent, S.', 'Vink, J.', 'Vlahakis, N.', 'Vlahos, L.', 'Vogler, P.', 'Vollhardt, A.', 'von Gunten, H. -P.', 'Vorobiov, S.', 'Vuerli, C.', 'Waegebaert, V.', 'Wagner, R.', 'Wagner, R. G.', 'Wagner, S.', 'Wakely, S. P.', 'Walter, R.', 'Walther, T.', 'Warda, K.', 'Warwick, R.', 'Wawer, P.', 'Wawrzaszek, R.', 'Webb, N.', 'Wegner, P.', 'Weinstein, A.', 'Weitzel, Q.', 'Welsing, R.', 'Werner, M.', 'Wetteskind, H.', 'White, R.', 'Wierzcholska, A.', 'Wiesand, S.', 'Wilkinson, M.', 'Williams, D. A.', 'Willingale, R.', 'Winiarski, K.', 'Wischnewski, R.', 'Wiśniewski, Ł.', 'Wood, M.', 'Wörnlein, A.', 'Xiong, Q.', 'Yadav, K. K.', 'Yamamoto, H.', 'Yamamoto, T.', 'Yamazaki, R.', 'Yanagita, S.', 'Yebras, J. M.', 'Yelos, D.', 'Yoshida, A.', 'Yoshida, T.', 'Yoshikoshi, T.', 'Zabalza, V.', 'Zacharias, M.', 'Zajczyk, A.', 'Zanin, R.', 'Zdziarski, A.', 'Zech, A.', 'Zhao, A.', 'Zhou, X.', 'Ziętara, K.', 'Ziolkowski, J.', 'Ziółkowski, P.', 'Zitelli, V.', 'Zurbach, C.', 'Żychowski, P.', 'CTA Consortium']),\n",
       "       list(['CTA Consortium, The', ':', 'Abchiche, A.', 'Abeysekara, U.', 'Abril, Ó.', 'Acero, F.', 'Acharya, B. S.', 'Actis, M.', 'Agnetta, G.', 'Aguilar, J. A.', 'Aharonian, F.', 'Akhperjanian, A.', 'Albert, A.', 'Alcubierre, M.', 'Alfaro, R.', 'Aliu, E.', 'Allafort, A. J.', 'Allan, D.', 'Allekotte, I.', 'Aloisio, R.', 'Amans, J. -P.', 'Amato, E.', 'Ambrogi, L.', 'Ambrosi, G.', 'Ambrosio, M.', 'Anderson, J.', 'Anduze, M.', 'Angüner, E. O.', 'Antolini, E.', 'Antonelli, L. A.', 'Antonucci, M.', 'Antonuccio, V.', 'Antoranz, P.', 'Aramo, C.', 'Aravantinos, A.', 'Argan, A.', 'Armstrong, T.', 'Arnaldi, H.', 'Arnold, L.', 'Arrabito, L.', 'Arrieta, M.', 'Arrieta, M.', 'Asano, K.', 'Asorey, H. G.', 'Aune, T.', 'Singh, C. B.', 'Babic, A.', 'Backes, M.', 'Bais, A.', 'Bajtlik, S.', 'Balazs, C.', 'Balbo, M.', 'Balis, D.', 'Balkowski, C.', 'Ballester, O.', 'Ballet, J.', 'Balzer, A.', 'Bamba, A.', 'Bandiera, R.', 'Barber, A.', 'Barbier, C.', 'Barceló, M.', 'Barnacka, A.', 'Barres de Almeida, U.', 'Barrio, J. A.', 'Basso, S.', 'Bastieri, D.', 'Bauer, C.', 'Baushev, A.', 'Becciani, U.', 'Becherini, Y.', 'Becker Tjus, J.', 'Beckmann, V.', 'Bednarek, W.', 'Benbow, W.', 'Benedico Ventura, D.', 'Berdugo, J.', 'Berge, D.', 'Bernardini, E.', 'Bernhard, S.', 'Bernlöhr, K.', 'Bertucci, B.', 'Besel, M. -A.', 'Bhatt, N.', 'Bhattacharjee, P.', 'Bhattachryya, S.', 'Biasuzzi, B.', 'Bicknell, G.', 'Bigongiari, C.', 'Biland, A.', 'Billotta, S.', 'Bilnik, W.', 'Biondo, B.', 'Bird, T.', 'Birsin, E.', 'Bissaldi, E.', 'Biteau, J.', 'Bitossi, M.', 'Blanch Bigas, O.', 'Blasi, P.', 'Boehm, C.', 'Bogacz, L.', 'Bogdan, M.', 'Bohacova, M.', 'Boisson, C.', 'Boix Gargallo, J.', 'Bolmont, J.', 'Bonanno, G.', 'Bonardi, A.', 'Bonifacio, P.', 'Bonnoli, G.', 'Borkowski, J.', 'Bose, R.', 'Bosnjak, Z.', 'Bottani, A.', 'Böttcher, M.', 'Bousquet, J. -J.', 'Boutonnet, C.', 'Bouyjou, F.', 'Braiding, C.', 'Brandt, L.', 'Brau-Nogué, S.', 'Bregeon, J.', 'Bretz, T.', 'Briggs, M.', 'Brigida, M.', 'Bringmann, T.', 'Brisken, W.', 'Brocato, E.', 'Brook, P.', 'Brown, A. M.', 'Brun, P.', 'Brunetti, G.', 'Brunetti, L.', 'Bruno, P.', 'Bryan, M.', 'Buanes, T.', 'Bucciantini, N.', 'Buchholtz, G.', 'Buckley, J.', 'Bugaev, V.', 'Bühler, R.', 'Bulgarelli, A.', 'Bulik, T.', 'Burton, M.', 'Burtovoi, A.', 'Busetto, G.', 'Buson, S.', 'Buss, J.', 'Byrum, K.', 'Cameron, R.', 'Camprecios, J.', 'Canelli, F.', 'Canestrari, R.', 'Cantu, S.', 'Capalbi, M.', 'Capasso, M.', 'Capobianco, G.', 'Caraveo, P.', 'Cardenzana, J.', 'Carius, S.', 'Carlile, C.', 'Carmona, E.', 'Carosi, A.', 'Carosi, R.', 'Carr, J.', 'Carroll, M.', 'Carter, J.', 'Carton, P. -H.', 'Caruso, R.', 'Casandjian, J. -M.', 'Casanova, S.', 'Cascone, E.', 'Casiraghi, M.', 'Castellina, A.', 'Catalano, O.', 'Catalanotti, S.', 'Cavazzani, S.', 'Cazaux, S.', 'Cefalà, M.', 'Cerchiara, P.', 'Cereda, M.', 'Cerruti, M.', 'Chabanne, E.', 'Chadwick, P.', 'Champion, C.', 'Chaty, S.', 'Chaves, R.', 'Cheimets, P.', 'Chen, A.', 'Chen, X.', 'Chernyakova, M.', 'Chiappetti, L.', 'Chikawa, M.', 'Chinn, D.', 'Chitnis, V. R.', 'Cho, N.', 'Christov, A.', 'Chudoba, J.', 'Cieślar, M.', 'Cillis, A.', 'Ciocci, M. A.', 'Clay, R.', 'Cohen-Tanugi, J.', 'Colafrancesco, S.', 'Colin, P.', 'Colombo, E.', 'Colome, J.', 'Colonges, S.', 'Compin, M.', 'Conforti, V.', 'Connaughton, V.', 'Connell, S.', 'Conrad, J.', 'Contreras, J. L.', 'Coppi, P.', 'Corbel, S.', 'Coridian, J.', 'Corona, P.', 'Corti, D.', 'Cortina, J.', 'Cossio, L.', 'Costa, A.', 'Costantini, H.', 'Cotter, G.', 'Courty, B.', 'Covino, S.', 'Covone, G.', 'Crimi, G.', 'Criswell, S. J.', 'Crocker, R.', 'Croston, J.', 'Cusumano, G.', 'Da Vela, P.', 'Dale, Ø.', \"D'Ammando, F.\", 'Dang, D.', 'Daniel, M.', 'Davids, I.', 'Dawson, B.', 'Dazzi, F.', 'de Aguiar Costa, B.', 'De Angelis, A.', 'de Araujo Cardoso, R. F.', 'De Caprio, V.', 'De Cesare, G.', 'De Franco, A.', 'De Frondat, F.', 'de Gouveia Dal Pino, E. M.', 'de la Calle, I.', 'De La Vega, G. A.', 'de los Reyes Lopez, R.', 'De Lotto, B.', 'De Luca, A.', 'de Mello Neto, J. R. T.', 'de Naurois, M.', 'de Oña Wilhelmi, E.', 'De Palma, F.', 'de Souza, V.', 'Decock, G.', 'Deil, C.', 'Del Santo, M.', 'Delagnes, E.', 'Deleglise, G.', 'Delgado, C.', 'della Volpe, D.', 'Deloye, P.', 'Depaola, G.', 'Detournay, M.', 'Dettlaff, A.', 'Di Girolamo, T.', 'Di Giulio, C.', 'Di Paola, A.', 'Di Pierro, F.', 'Di Sciascio, G.', 'Díaz, C.', 'Dick, J.', 'Dickinson, H.', 'Diebold, S.', 'Diez, V.', 'Digel, S.', 'Dipold, J.', 'Disset, G.', 'Distefano, A.', 'Djannati-Ataï, A.', 'Doert, M.', 'Dohmke, M.', 'Domainko, W.', 'Dominik, N.', 'Dominis Prester, D.', 'Donat, A.', 'Donnarumma, I.', 'Dorner, D.', 'Doro, M.', 'Dournaux, J. -L.', 'Doyle, K.', 'Drake, G.', 'Dravins, D.', 'Drury, L.', 'Dubus, G.', 'Dumas, D.', 'Dumm, J.', 'Durand, D.', \"D'Urso, D.\", 'Dwarkadas, V.', 'Dyks, J.', 'Dyrda, M.', 'Ebr, J.', 'Echaniz, J. C.', 'Edy, E.', 'Egberts, K.', 'Egberts, K.', 'Eger, P.', 'Einecke, S.', 'Eisch, J.', 'Eisenkolb, F.', 'Eleftheriadis, C.', 'Elsässer, D.', 'Emmanoulopoulos, D.', 'Engelbrecht, C.', 'Engelhaupt, D.', 'Ernenwein, J. -P.', 'Errando, M.', 'Eschbach, S.', 'Etchegoyen, A.', 'Evans, P.', 'Fairbairn, M.', 'Falcone, A.', 'Fantinel, D.', 'Farakos, K.', 'Farnier, C.', 'Farrell, E.', 'Farrell, S.', 'Fasola, G.', 'Fegan, S.', 'Feinstein, F.', 'Ferenc, D.', 'Fernandez, A.', 'Fernandez-Alonso, M.', 'Ferreira, O.', 'Fesquet, M.', 'Fetfatzis, P.', 'Fiasson, A.', 'Filipčič, A.', 'Filipovic, M.', 'Fink, D.', 'Finley, C.', 'Finley, J. P.', 'Finoguenov, A.', 'Fioretti, V.', 'Fiorini, M.', 'Firpo Curcoll, R.', 'Fleischhack, H.', 'Flores, H.', 'Florin, D.', 'Föhr, C.', 'Fokitis, E.', 'Font, L.', 'Fontaine, G.', 'Fontes, B.', 'Forest, F.', 'Fornasa, M.', 'Förster, A.', 'Fortin, P.', 'Fortson, L.', 'Fouque, N.', 'Franckowiak, A.', 'Franco, F. J.', 'Frankowski, A.', 'Frega, N.', 'Freire Mota Albuquerque, I.', 'Freixas Coromina, L.', 'Fresnillo, L.', 'Fruck, C.', 'Fuessling, M.', 'Fugazza, D.', 'Fujita, Y.', 'Fukami, S.', 'Fukazawa, Y.', 'Fukuda, T.', 'Fukui, Y.', 'Funk, S.', 'Gäbele, W.', 'Gabici, S.', 'Gadola, A.', 'Galante, N.', 'Gall, D. D.', 'Gallant, Y.', 'Galloway, D.', 'Gallozzi, S.', 'Gao, S.', 'Garcia, B.', 'García Gil, R.', 'Garcia López, R.', 'Garczarczyk, M.', 'Gardiol, D.', 'Gargano, C.', 'Gargano, F.', 'Garozzo, S.', 'Garrecht, F.', 'Garrido, D.', 'Garrido, L.', 'Gascon, D.', 'Gaskins, J.', 'Gaudemard, J.', 'Gaug, M.', 'Gaweda, J.', 'Geffroy, N.', 'Gérard, L.', 'Ghalumyan, A.', 'Ghedina, A.', 'Ghigo, M.', 'Ghislain, P.', 'Giannakaki, E.', 'Gianotti, F.', 'Giarrusso, S.', 'Giavitto, G.', 'Giebels, B.', 'Giglietto, N.', 'Gika, V.', 'Gimenes, R.', 'Giomi, M.', 'Giommi, P.', 'Giordano, F.', 'Giovannini, G.', 'Giro, E.', 'Giroletti, M.', 'Giuliani, A.', 'Glicenstein, J. -F.', 'Godinovic, N.', 'Goldoni, P.', 'Gomez Berisso, M.', 'Gomez Vargas, G. A.', 'Gonzalez, M. M.', 'González, A.', 'González, F.', 'González Muñoz, A.', 'Gothe, K. S.', 'Gotz, D.', 'Grabarczyk, T.', 'Graciani, R.', 'Grandi, P.', 'Grañena, F.', 'Granot, J.', 'Grasseau, G.', 'Gredig, R.', 'Green, A. J.', 'Green, A. M.', 'Greenshaw, T.', 'Grenier, I.', 'Grillo, A.', 'Grondin, M. -H.', 'Grube, J.', 'Grudzinska, M.', 'Grygorczuk, J.', 'Guarino, V.', 'Guberman, D.', 'Gunji, S.', 'Gyuk, G.', 'Hadasch, D.', 'Hagedorn, A.', 'Hahn, J.', 'Hakansson, N.', 'Hamer Heras, N.', 'Hanabata, Y.', 'Hara, S.', 'Hardcastle, M. J.', 'Harris, J.', 'Hassan, T.', 'Hatanaka, K.', 'Haubold, T.', 'Haupt, A.', 'Hayakawa, T.', 'Hayashida, M.', 'Heller, M.', 'Heller, R.', 'Henault, F.', 'Henri, G.', 'Hermann, G.', 'Hermel, R.', 'Herrera Llorente, J.', 'Herrero, A.', 'Hervet, O.', 'Hidaka, N.', 'Hinton, J.', 'Hirai, W.', 'Hirotani, K.', 'Hoard, D.', 'Hoffmann, D.', 'Hofmann, W.', 'Hofverberg, P.', 'Holch, T.', 'Holder, J.', 'Hooper, S.', 'Horan, D.', 'Hörandel, J. R.', 'Hormigos, S.', 'Horns, D.', 'Hose, J.', 'Houles, J.', 'Hovatta, T.', 'Hrabovsky, M.', 'Hrupec, D.', 'Huet, J. -M.', 'Hütten, M.', 'Humensky, T. B.', 'Huovelin, J.', 'Huppert, J. -F.', 'Iacovacci, M.', 'Ibarra, A.', 'Idźkowski, B.', 'Ikawa, D.', 'Illa, J. M.', 'Impiombato, D.', 'Incorvaia, S.', 'Inome, Y.', 'Inoue, S.', 'Inoue, T.', 'Inoue, Y.', 'Iocco, F.', 'Ioka, K.', 'Iori, M.', 'Ishio, K.', 'Israel, G. L.', 'Jablonski, C.', 'Jacholkowska, A.', 'Jacquemier, J.', 'Jamrozy, M.', 'Janecek, P.', 'Janiak, M.', 'Jankowsky, F.', 'Jean, P.', 'Jeanney, C.', 'Jegouzo, I.', 'Jenke, P.', 'Jimenez, J. J.', 'Jingo, M.', 'Jingo, M.', 'Jocou, L.', 'Jogler, T.', 'Johnson, C. A.', 'Journet, L.', 'Juffroy, C.', 'Jung, I.', 'Kaaret, P. E.', 'Kagaya, M.', 'Kakuwa, J.', 'Kalekin, O.', 'Kalkuhl, C.', 'Kankanyan, R.', 'Karastergiou, A.', 'Kärcher, K.', 'Karczewski, M.', 'Karkar, S.', 'Karn, P.', 'Kasperek, J.', 'Katagiri, H.', 'Kataoka, J.', 'Katarzyński, K.', 'Katz, U.', 'Kaufmann, S.', 'Kawanaka, N.', 'Kawashima, T.', 'Kazanas, D.', 'Kelley-Hoskins, N.', 'Kellner-Leidel, B.', 'Kendziorra, E.', 'Kersten, J.', 'Khélifi, B.', 'Kieda, D. B.', 'Kihm, T.', 'Kisaka, S.', 'Kissmann, R.', 'Klepser, S.', 'Kluźniak, W.', 'Knapen, J.', 'Knapp, J.', 'Knödlseder, J.', 'Köck, F.', 'Kocot, J.', 'Kodakkadan, A.', 'Kodani, K.', 'Kohri, K.', 'Kojima, T.', 'Kokkotas, K.', 'Kolitzus, D.', 'Komin, N.', 'Kominis, I.', 'Konno, Y.', 'Kosack, K.', 'Koss, G.', 'Koul, R.', 'Kowal, G.', 'Koyama, S.', 'Kozioł, J.', 'Kraus, M.', 'Krause, J.', 'Krause, M.', 'Krawzcynski, H.', 'Krennrich, F.', 'Kretzschmann, A.', 'Kruger, P.', 'Kubo, H.', 'Kudryavtsev, V.', 'Kukec Mezek, G.', 'Kushida, J.', 'Kuznetsov, A.', 'La Barbera, A.', 'La Palombara, N.', 'La Parola, V.', 'La Rosa, G.', 'Laffon, H.', 'Lagadec, T.', 'Lahmann, R.', 'Lalik, K.', 'Lamanna, G.', 'Landriu, D.', 'Landt, H.', 'Lang, R. G.', 'Languignon, D.', 'Lapington, J.', 'Laporte, P.', 'Latovski, N.', 'Law-Green, D.', 'Le Fèvre, J. -P.', 'Le Flour, T.', 'Le Sidaner, P.', 'Lee, S. -H.', 'Lee, W. H.', 'Leffhalm, K.', 'Leich, H.', 'Leigui de Oliveira, M. A.', 'Lelas, D.', 'Lemière, A.', 'Lemoine-Goumard, M.', 'Lenain, J. -P.', 'Leonard, R.', 'Leoni, R.', 'Lessio, L.', 'Leto, G.', 'Leveque, A.', 'Lieunard, B.', 'Limon, M.', 'Lindemann, R.', 'Lindfors, E.', 'Liolios, A.', 'Lipniacka, A.', 'Lockart, H.', 'Lohse, T.', 'Loiseau, D.', 'Łokas, E.', 'Lombardi, S.', 'Longo, F.', 'Longo, G.', 'Lopatin, A.', 'Lopez, M.', 'López-Coto, R.', 'López-Oramas, A.', 'Loreggia, D.', 'Louge, T.', 'Louis, F.', 'Lu, C. -C.', 'Lucarelli, F.', 'Lucchesi, D.', 'Lüdecke, H.', 'Luque-Escamilla, P. L.', 'Luz, O.', 'Lyard, E.', 'Maccarone, M. C.', 'Maccarone, T. J.', 'Mach, E.', 'Madejski, G. M.', 'Madonna, A.', 'Mahabir, M.', 'Maier, G.', 'Majumdar, P.', 'Makariev, M.', 'Malaguti, G.', 'Malaspina, G.', 'Mallot, A. K.', 'Maltezos, S.', 'Mancilla, A.', 'Mandat, D.', 'Maneva, G.', 'Manigot, P.', 'Mankushiyil, N.', 'Mannheim, K.', 'Maragos, N.', 'Marano, D.', 'Marchegiani, P.', 'Marcomini, J. A.', 'Marcowith, A.', 'Mariotti, M.', 'Marisaldi, M.', 'Markoff, S.', 'Marszałek, A.', 'Martens, C.', 'Martí, J.', 'Martin, J. -M.', 'Martin, P.', 'Martínez, G.', 'Martínez, M.', 'Martínez, O.', 'Marx, R.', 'Massimino, P.', 'Mastichiadis, A.', 'Mastroianni, S.', 'Mastropietro, M.', 'Masuda, S.', 'Matsumoto, H.', 'Matsuoka, S.', 'Mattiazzo, S.', 'Maurin, G.', 'Maxted, N.', 'Maya, J.', 'Mayer, M.', 'Mazin, D.', 'Mazureau, E.', 'Mazziotta, M. N.', 'Mc Comb, L.', 'McCann, A.', 'McCubbin, N.', 'McHardy, I.', 'McKay, R.', 'McKinney, K.', 'Meagher, K.', 'Medina, C.', 'Mehrez, F.', 'Melioli, C.', 'Melkumyan, D.', 'Melo, D.', 'Melse, T.', 'Mereghetti, S.', 'Mertsch, P.', 'Meyer, M.', 'Meyrelles, J. L., jr', 'Miccichè, A.', 'Michałowski, J.', 'Micolon, P.', 'Mientjes, P.', 'Mignot, S.', 'Mihailidis, A.', 'Mineo, T.', 'Minuti, M.', 'Mirabal, N.', 'Mirabel, F.', 'Miranda, J. M.', 'Mirzoyan, R.', 'Mistò, A.', 'Mitchell, A.', 'Mizuno, T.', 'Moderski, R.', 'Mognet, I.', 'Mohammed, M.', 'Moharana, R.', 'Molinari, E.', 'Monmarthe, E.', 'Monnier, G.', 'Montaruli, T.', 'Monte, C.', 'Monteiro, I.', 'Moore, P.', 'Moralejo Olaizola, A.', 'Morello, C.', 'Moretti, E.', 'Mori, K.', 'Morlino, G.', 'Morselli, A.', 'Mottez, F.', 'Moudden, Y.', 'Moulin, E.', 'Mrusek, I.', 'Mueller, S.', 'Mukherjee, R.', 'Munar-Adrover, P.', 'Mundell, C.', 'Muraishi, H.', 'Murase, K.', 'Muronga, A.', 'Murphy, A.', 'Nagataki, S.', 'Nagayoshi, T.', 'Nagesh, B. K.', 'Naito, T.', 'Nakajima, D.', 'Nakamori, T.', 'Nakayama, K.', 'Naumann, D.', 'Nayman, P.', 'Nellen, L.', 'Nemmen, R.', 'Neronov, A.', 'Neustroev, V.', 'Neyroud, N.', 'Nguyen, T.', 'Nicastro, L.', 'Nicolau-Kukliński, J.', 'Niederwanger, F.', 'Niedźwiecki, A.', 'Niemiec, J.', 'Nieto, D.', 'Nievas, M.', 'Nikolaidis, A.', 'Nishijima, K.', 'Nishikawa, K. -I.', 'Noda, K.', 'Nogues, L.', 'Nolan, S.', 'Northrop, R.', 'Nosek, D.', 'Nozka, L.', 'Nunio, F.', 'Oakes, L.', \"O'Brien, P.\", 'Occhipinti, G.', \"O'Faolain de Bhroithe, A.\", 'Ogino, M.', 'Ohira, Y.', 'Ohishi, M.', 'Ohm, S.', 'Ohoka, H.', 'Okumura, A.', 'Olive, J. -F.', 'Olszowski, D.', 'Ong, R. A.', 'Ono, S.', 'Orienti, M.', 'Orito, R.', 'Orlati, A.', 'Orlati, A.', 'Osborne, J.', 'Ostrowski, M.', 'Otero, L. A.', 'Ottaway, D.', 'Otte, N.', 'Oya, I.', 'Ozieblo, A.', 'Padovani, M.', 'Pagano, I.', 'Paiano, S.', 'Paizis, A.', 'Palacio, J.', 'Palatka, M.', 'Pallotta, J.', 'Panagiotidis, K.', 'Panazol, J. -L.', 'Paneque, D.', 'Panter, M.', 'Panzera, M. R.', 'Paoletti, R.', 'Paolillo, M.', 'Papayannis, A.', 'Papyan, G.', 'Paravac, A.', 'Paredes, J. M.', 'Pareschi, G.', 'Park, N.', 'Parsons, D.', 'Paśko, P.', 'Pavy, S.', 'Arribas, M. Paz', 'Pech, M.', 'Peck, A.', 'Pedaletti, G.', 'Peet, S.', 'Pelassa, V.', 'Pelat, D.', 'Peres, C.', 'Perez, M. d. C.', 'Perri, L.', 'Persic, M.', 'Petrashyk, A.', 'Petrucci, P. -O.', 'Peyaud, B.', 'Pfeifer, M.', 'Pfeiffer, G.', 'Piano, G.', 'Pichel, A.', 'Pieloth, D.', 'Pierbattista, M.', 'Pierre, E.', 'Pinto de Pinho, F.', 'García, C. Pio', 'Piret, Y.', 'Pita, S.', 'Planes, A.', 'Platino, M.', 'Platos, Ł.', 'Platzer, R.', 'Podkladkin, S.', 'Pogosyan, L.', 'Pohl, M.', 'Poinsignon, P.', 'Ponz, J. D.', 'Porcelli, A.', 'Potter, W.', 'Poulios, S.', 'Poutanen, J.', 'Prandini, E.', 'Prast, J.', 'Preece, R.', 'Profeti, F.', 'Prokhorov, D.', 'Prokoph, H.', 'Prouza, M.', 'Proyetti, M.', 'Pruchniewicz, R.', 'Pueschel, E.', 'Pühlhofer, G.', 'Puljak, I.', 'Punch, M.', 'Pyzioł, R.', 'Queiroz, F.', 'Quel, E. J.', 'Quinn, J.', 'Quirrenbach, A.', 'Racero, E.', 'Räck, T.', 'Rafalski, J.', 'Rafighi, I.', 'Rainò, S.', 'Rajda, P. J.', 'Rameez, M.', 'Rando, R.', 'Rannot, R. C.', 'Rataj, M.', 'Rateau, S.', 'Ravel, T.', 'Ravignani, D.', 'Razzaque, S.', 'Reardon, P.', 'Reimann, O.', 'Reimer, A.', 'Reimer, O.', 'Reitberger, K.', 'Renaud, M.', 'Renner, S.', 'Reposeur, T.', 'Rettig, R.', 'Reville, B.', 'Rhode, W.', 'Ribeiro, D.', 'Ribó, M.', 'Richards, G.', 'Richer, M. G.', 'Rico, J.', 'Ridky, J.', 'Rieger, F.', 'Ringegni, P.', 'Ristori, P. R.', 'Rivière, A.', 'Rivoire, S.', 'Roache, E.', 'Rodeghiero, G.', 'Rodriguez, J.', 'Rodriguez Fernandez, G.', 'Rodríguez Vázquez, J. J.', 'Rogers, T.', 'Rojas, G.', 'Romano, P.', 'Romay Rodriguez, M. P.', 'Romeo, G.', 'Romero, G. E.', 'Roncadelli, M.', 'Rose, J.', 'Rosen, S.', 'Rosier Lees, S.', 'Ross, D.', 'Rossiter, P.', 'Rouaix, G.', 'Rousselle, J.', 'Rovero, A. C.', 'Rowell, G.', 'Roy, F.', 'Royer, S.', 'Różańska, A.', 'Rudak, B.', 'Rugliancich, A.', 'Rulten, C.', 'Rupiński, M.', 'Russo, F.', 'Rutkowski, K.', 'Saavedra, O.', 'Sabatini, S.', 'Sacco, B.', 'Saemann, E. O.', 'Saggion, A.', 'Saha, L.', 'Sahakian, V.', 'Saito, K.', 'Saito, T.', 'Sakaki, N.', 'Salega, M.', 'Salek, D.', 'Salgado, J.', 'Salini, A.', 'Sanchez, D.', 'Sanchez, F.', 'Sanchez-Conde, M.', 'Sandaker, H.', 'Sandoval, A.', 'Sangiorgi, P.', 'Sanguillon, M.', 'Sano, H.', 'Santander, M.', 'Santangelo, A.', 'Santos, E. M.', 'Santos-Lima, R.', 'Sanuy, A.', 'Sapozhnikov, L.', 'Sarkar, S.', 'Satalecka, K.', 'Savalle, R.', 'Sawada, M.', 'Sayède, F.', 'Schafer, J.', 'Schanne, S.', 'Schanz, T.', 'Schioppa, E. J.', 'Schlenstedt, S.', 'Schlickeiser, R.', 'Schmidt, T.', 'Schmoll, J.', 'Schneider, M.', 'Schovanek, P.', 'Schubert, A.', 'Schultz, C.', 'Schultze, J.', 'Schulz, A.', 'Schulz, S.', 'Schure, K.', 'Schussler, F.', 'Schwab, T.', 'Schwanke, U.', 'Schwarz, J.', 'Schweizer, T.', 'Schwemmer, S.', 'Schwendicke, U.', 'Schwerdt, C.', 'Segreto, A.', 'Seiradakis, J. -H.', 'Sembroski, G. H.', 'Semikoz, D.', 'Serre, N.', 'Servillat, M.', 'Seweryn, K.', 'Shafi, N.', 'Sharma, M.', 'Shayduk, M.', 'Shellard, R. C.', 'Shibata, T.', 'Shiningayamwe Pandeni, K.', 'Shukla, A.', 'Shum, E.', 'Sidoli, L.', 'Sidz, M.', 'Sieiro, J.', 'Siejkowski, H.', 'Silk, J.', 'Sillanpää, A.', 'Simone, D.', 'Singh, B. B.', 'Sinha, A.', 'Sironi, G.', 'Sitarek, J.', 'Sizun, P.', 'Slyusar, V.', 'Smith, A.', 'Smith, J.', 'Sobczyńska, D.', 'Sol, H.', 'Sottile, G.', 'Sowiński, M.', 'Spanier, F.', 'Spengler, G.', 'Spiga, D.', 'Stadler, R.', 'Stahl, O.', 'Stamatescu, V.', 'Stamerra, A.', 'Stanič, S.', 'Starling, R.', 'Stawarz, Ł.', 'Steenkamp, R.', 'Stefanik, S.', 'Stegmann, C.', 'Steiner, S.', 'Stella, C.', 'Stergioulas, N.', 'Sternberger, R.', 'Sterzel, M.', 'Stevenson, B.', 'Stinzing, F.', 'Stodulska, M.', 'Stodulski, M.', 'Stolarczyk, T.', 'Straumann, U.', 'Strazzeri, E.', 'Stringhetti, L.', 'Strzys, M.', 'Stuik, R.', 'Sulanke, K. -H.', 'Supanitsky, A. D.', 'Suric, T.', 'Sushch, I.', 'Sutcliffe, P.', 'Sykes, J.', 'Szanecki, M.', 'Szepieniec, T.', 'Szwarnog, P.', 'Tacchini, A.', 'Tachihara, K.', 'Tagliaferri, G.', 'Tajima, H.', 'Takahashi, H.', 'Takahashi, K.', 'Takahashi, M.', 'Takalo, L.', 'Takami, H.', 'Talbot, G.', 'Tammi, J.', 'Tanaka, M.', 'Tanaka, S.', 'Tanaka, T.', 'Tanaka, Y.', 'Tanci, C.', 'Tarantino, E.', 'Tavani, M.', 'Tavecchio, F.', 'Tavernet, J. -P.', 'Tayabaly, K.', 'Tejedor, L. A.', 'Telezhinsky, I.', 'Temme, F.', 'Temnikov, P.', 'Tenzer, C.', 'Terada, Y.', 'Terrier, R.', 'Tescaro, D.', 'Teshima, M.', 'Testa, V.', 'Tezier, D.', 'Thayer, J.', 'Thomas, V.', 'Thornhill, J.', 'Thuermann, D.', 'Tibaldo, L.', 'Tibolla, O.', 'Tiengo, A.', 'Tijsseling, G.', 'Timpanaro, M. C.', 'Tluczykont, M.', 'Todero Peixoto, C. J.', 'Tokanai, F.', 'Tokarz, M.', 'Toma, K.', 'Toma, K.', 'Tomastik, J.', 'Tomono, Y.', 'Tonachini, A.', 'Tonev, D.', 'Torii, K.', 'Tornikoski, M.', 'Torres, D. F.', 'Torres, M.', 'Torresi, E.', 'Toscano, S.', 'Toso, G.', 'Tosti, G.', 'Totani, T.', 'Tothill, N.', 'Toussenel, F.', 'Tovmassian, G.', 'Townsley, C.', 'Toyama, T.', 'Travnicek, P.', 'Trifoglio, M.', 'Troyano Pujadas, I.', 'Troyano Pujadas, I.', 'Trzeciak, M.', 'Tsinganos, K.', 'Tsubone, Y.', 'Tsuchiya, Y.', 'Tsujimoto, S.', 'Tsuru, T.', 'Uchiyama, Y.', 'Umana, G.', 'Umetsu, Y.', 'Underwood, C.', 'Upadhya, S. S.', 'Uslenghi, M.', 'Vagnetti, F.', 'Valdes-Galicia, J.', 'Vallania, P.', 'Vallejo, G.', 'Valore, L.', 'van Driel, W.', 'van Eldik, C.', 'van Soelen, B.', 'Vandenbroucke, J.', 'Vanderwalt, J.', 'Vasileiadis, G.', 'Vassiliev, V.', 'Vázquez Acosta, M. L.', 'Vecchi, M.', 'Vegas, I.', 'Veitch, P.', 'Venema, L.', 'Venter, C.', 'Vercellone, S.', 'Vergani, S.', 'Verma, K.', 'Verzi, V.', 'Vettolani, G. P.', 'Viana, A.', 'Vicha, J.', 'Videla, M.', 'Vigorito, C.', 'Vincent, P.', 'Vincent, S.', 'Vink, J.', 'Vittorini, V.', 'Vlahakis, N.', 'Vlahos, L.', 'Voelk, H.', 'Vogler, P.', 'Voisin, V.', 'Vollhardt, A.', 'Volpicelli, A.', 'Vorobiov, S.', 'Vovk, I.', 'Vu, L. V.', 'Wagner, R.', 'Wagner, R. M.', 'Wagner, R. G.', 'Wagner, S. J.', 'Wakely, S. P.', 'Walter, R.', 'Walther, T.', 'Ward, J. E.', 'Ward, M.', 'Warda, K.', 'Warwick, R.', 'Wassberg, S.', 'Watson, J.', 'Wawer, P.', 'Wawrzaszek, R.', 'Webb, N.', 'Wegner, P.', 'Weinstein, A.', 'Weitzel, Q.', 'Wells, R.', 'Werner, F.', 'Werner, M.', 'Wetteskind, H.', 'White, M.', 'White, R.', 'Więcek, M.', 'Wierzcholska, A.', 'Wiesand, S.', 'Wijers, R.', 'Wild, N.', 'Wilhelm, A.', 'Wilkinson, M.', 'Will, M.', 'Williams, D. A.', 'Williams, J. T.', 'Willingale, R.', 'Winde, M.', 'Winiarski, K.', 'Winkler, H.', 'Wischnewski, R.', 'Wojcik, P.', 'Wolf, D.', 'Wood, M.', 'Wörnlein, A.', 'Wu, E.', 'Wu, T.', 'Yadav, K. K.', 'Yamamoto, H.', 'Yamamoto, T.', 'Yamazaki, R.', 'Yanagita, S.', 'Yang, L.', 'Yebras, J. M.', 'Yelos, D.', 'Yeung, W.', 'Yoshida, A.', 'Yoshida, T.', 'Yoshiike, S.', 'Yoshikoshi, T.', 'Yu, P.', 'Zabalza, V.', 'Zabalza, V.', 'Zacharias, M.', 'Zaharijas, G.', 'Zajczyk, A.', 'Zampieri, L.', 'Zandanel, F.', 'Zanin, R.', 'Zanmar Sanchez, R.', 'Zavrtanik, D.', 'Zavrtanik, M.', 'Zdziarski, A.', 'Zech, A.', 'Zechlin, H.', 'Zhao, A.', 'Ziegler, A.', 'Ziemann, J.', 'Ziętara, K.', 'Ziółkowski, J.', 'Zitelli, V.', 'Zoli, A.', 'Zurbach, C.', 'Żychowski, P.']),\n",
       "       list(['Pereyra, M.', 'Richer, M. G.', 'López, J. A.']),\n",
       "       list(['Richer, M. G.', 'Georgiev, L.', 'Arrieta, A.', 'Torres Peimbert, S.']),\n",
       "       list(['CTA Consortium, The', ':', 'Abril, O.', 'Acharya, B. S.', 'Actis, M.', 'Agnetta, G.', 'Aguilar, J. A.', 'Aharonian, F.', 'Ajello, M.', 'Akhperjanian, A.', 'Alcubierre, M.', 'Aleksic, J.', 'Alfaro, R.', 'Aliu, E.', 'Allafort, A. J.', 'Allan, D.', 'Allekotte, I.', 'Aloisio, R.', 'Amato, E.', 'Ambrosi, G.', 'Ambrosio, M.', 'Anderson, J.', 'Angüner, E. O.', 'Antonelli, L. A.', 'Antonuccio, V.', 'Antonucci, M.', 'Antoranz, P.', 'Aravantinos, A.', 'Argan, A.', 'Arlen, T.', 'Aramo, C.', 'Armstrong, T.', 'Arnaldi, H.', 'Arrabito, L.', 'Asano, K.', 'Ashton, T.', 'Asorey, H. G.', 'Aune, T.', 'Awane, Y.', 'Baba, H.', 'Babic, A.', 'Baby, N.', 'Bähr, J.', 'Bais, A.', 'Baixeras, C.', 'Bajtlik, S.', 'Balbo, M.', 'Balis, D.', 'Balkowski, C.', 'Ballet, J.', 'Bamba, A.', 'Bandiera, R.', 'Barber, A.', 'Barbier, C.', 'Barceló, M.', 'Barnacka, A.', 'Barnstedt, J.', 'Barres de Almeida, U.', 'Barrio, J. A.', 'Basili, A.', 'Basso, S.', 'Bastieri, D.', 'Bauer, C.', 'Baushev, A.', 'Becciani, U.', 'Becerra, J.', 'Becerra, J.', 'Becherini, Y.', 'Bechtol, K. C.', 'Becker Tjus, J.', 'Beckmann, V.', 'Bednarek, W.', 'Behera, B.', 'Belluso, M.', 'Benbow, W.', 'Berdugo, J.', 'Berge, D.', 'Berger, K.', 'Bernard, F.', 'Bernardino, T.', 'Bernlöhr, K.', 'Bertucci, B.', 'Bhat, N.', 'Bhattacharyya, S.', 'Biasuzzi, B.', 'Bigongiari, C.', 'Biland, A.', 'Billotta, S.', 'Bird, T.', 'Birsin, E.', 'Bissaldi, E.', 'Biteau, J.', 'Bitossi, M.', 'Blake, S.', 'Blanch Bigas, O.', 'Blasi, P.', 'Bobkov, A.', 'Boccone, V.', 'Böttcher, M.', 'Bogacz, L.', 'Bogart, J.', 'Bogdan, M.', 'Boisson, C.', 'Boix Gargallo, J.', 'Bolmont, J.', 'Bonanno, G.', 'Bonardi, A.', 'Bonev, T.', 'Bonifacio, P.', 'Bonnoli, G.', 'Bordas, P.', 'Borgland, A.', 'Borkowski, J.', 'Bose, R.', 'Botner, O.', 'Bottani, A.', 'Bouchet, L.', 'Bourgeat, M.', 'Boutonnet, C.', 'Bouvier, A.', 'Brau-Nogué, S.', 'Braun, I.', 'Bretz, T.', 'Briggs, M.', 'Brigida, M.', 'Bringmann, T.', 'Britto, R.', 'Brook, P.', 'Brun, P.', 'Brunetti, L.', 'Bruno, P.', 'Bucciantini, N.', 'Buanes, T.', 'Buckley, J.', 'Bühler, R.', 'Bugaev, V.', 'Bulgarelli, A.', 'Bulik, T.', 'Busetto, G.', 'Buson, S.', 'Byrum, K.', 'Cailles, M.', 'Cameron, R.', 'Camprecios, J.', 'Canestrari, R.', 'Cantu, S.', 'Capalbi, M.', 'Caraveo, P.', 'Carmona, E.', 'Carosi, A.', 'Carosi, R.', 'Carr, J.', 'Carter, J.', 'Carton, P. -H.', 'Caruso, R.', 'Casanova, S.', 'Cascone, E.', 'Casiraghi, M.', 'Castellina, A.', 'Catalano, O.', 'Cavazzani, S.', 'Cazaux, S.', 'Cerchiara, P.', 'Cerruti, M.', 'Chabanne, E.', 'Chadwick, P.', 'Champion, C.', 'Chaves, R.', 'Cheimets, P.', 'Chen, A.', 'Chiang, J.', 'Chiappetti, L.', 'Chikawa, M.', 'Chitnis, V. R.', 'Chollet, F.', 'Christof, A.', 'Chudoba, J.', 'Cieślar, M.', 'Cillis, A.', 'Cilmo, M.', 'Codino, A.', 'Cohen-Tanugi, J.', 'Colafrancesco, S.', 'Colin, P.', 'Colome, J.', 'Colonges, S.', 'Compin, M.', 'Conconi, P.', 'Conforti, V.', 'Connaughton, V.', 'Conrad, J.', 'Contreras, J. L.', 'Coppi, P.', 'Coridian, J.', 'Corona, P.', 'Corti, D.', 'Cortina, J.', 'Cossio, L.', 'Costa, A.', 'Costantini, H.', 'Cotter, G.', 'Courty, B.', 'Couturier, S.', 'Covino, S.', 'Crimi, G.', 'Criswell, S. J.', 'Croston, J.', 'Cusumano, G.', 'Dafonseca, M.', 'Dale, O.', 'Daniel, M.', 'Darling, J.', 'Davids, I.', 'Dazzi, F.', 'de Angelis, A.', 'De Caprio, V.', 'De Frondat, F.', 'de Gouveia Dal Pino, E. M.', 'de la Calle, I.', 'De La Vega, G. A.', 'de los Reyes Lopez, R.', 'de Lotto, B.', 'De Luca, A.', 'de Naurois, M.', 'de Oliveira, Y.', 'de Oña Wilhelmi, E.', 'de Palma, F.', 'de Souza, V.', 'Decerprit, G.', 'Decock, G.', 'Deil, C.', 'Delagnes, E.', 'Deleglise, G.', 'Delgado, C.', 'della Volpe, D.', 'Demange, P.', 'Depaola, G.', 'Dettlaff, A.', 'Di Girolamo, T.', 'Di Giulio, C.', 'Di Paola, A.', 'Di Pierro, F.', 'di Sciascio, G.', 'Díaz, C.', 'Dick, J.', 'Dickherber, R.', 'Dickinson, H.', 'Diez-Blanco, V.', 'Digel, S.', 'Dimitrov, D.', 'Disset, G.', 'Djannati-Ataï, A.', 'Doert, M.', 'Dohmke, M.', 'Domainko, W.', 'Dominis Prester, D.', 'Donat, A.', 'Dorner, D.', 'Doro, M.', 'Dournaux, J. -L.', 'Drake, G.', 'Dravins, D.', 'Drury, L.', 'Dubois, F.', 'Dubois, R.', 'Dubus, G.', 'Dufour, C.', 'Dumas, D.', 'Dumm, J.', 'Durand, D.', 'Dwarkadas, V.', 'Dyks, J.', 'Dyrda, M.', 'Ebr, J.', 'Edy, E.', 'Egberts, K.', 'Eger, P.', 'Einecke, S.', 'Eleftheriadis, C.', 'Elles, S.', 'Emmanoulopoulos, D.', 'Engelhaupt, D.', 'Enomoto, R.', 'Ernenwein, J. -P.', 'Errando, M.', 'Etchegoyen, A.', 'Evans, P. A.', 'Falcone, A.', 'Faltenbacher, A.', 'Fantinel, D.', 'Farakos, K.', 'Farnier, C.', 'Farrell, E.', 'Fasola, G.', 'Favill, B. W.', 'Fede, E.', 'Federici, S.', 'Fegan, S.', 'Feinstein, F.', 'Ferenc, D.', 'Ferrando, P.', 'Fesquet, M.', 'Fetfatzis, P.', 'Fiasson, A.', 'Fillin-Martino, E.', 'Fink, D.', 'Finley, C.', 'Finley, J. P.', 'Fiorini, M.', 'Firpo Curcoll, R.', 'Flandrini, E.', 'Fleischhack, H.', 'Flores, H.', 'Florin, D.', 'Focke, W.', 'Föhr, C.', 'Fokitis, E.', 'Font, L.', 'Fontaine, G.', 'Fornasa, M.', 'Förster, A.', 'Fortson, L.', 'Fouque, N.', 'Franckowiak, A.', 'Franco, F. J.', 'Frankowski, A.', 'Fransson, C.', 'Fraser, G. W.', 'Frei, R.', 'Fresnillo, L.', 'Fruck, C.', 'Fugazza, D.', 'Fujita, Y.', 'Fukazawa, Y.', 'Fukui, Y.', 'Funk, S.', 'Gäbele, W.', 'Gabici, S.', 'Gabriele, R.', 'Gadola, A.', 'Galante, N.', 'Gall, D.', 'Gallant, Y.', 'Gámez-García, J.', 'Garczarczyk, M.', 'García, B.', 'Garcia López, R.', 'Gardiol, D.', 'Gargano, F.', 'Garrido, D.', 'Garrido, L.', 'Gascon, D.', 'Gaug, M.', 'Gaweda, J.', 'Gebremedhin, L.', 'Geffroy, N.', 'Gerard, L.', 'Ghedina, A.', 'Ghigo, M.', 'Ghislain, P.', 'Giannakaki, E.', 'Gianotti, F.', 'Giarrusso, S.', 'Giavitto, G.', 'Giebels, B.', 'Giglietto, N.', 'Gika, V.', 'Giomi, M.', 'Giommi, P.', 'Giordano, F.', 'Girard, N.', 'Giro, E.', 'Giuliani, A.', 'Glanzman, T.', 'Glicenstein, J. -F.', 'Godinovic, N.', 'Golev, V.', 'Gomez Berisso, M.', 'Gómez-Ortega, J.', 'Gonzalez, M. M.', 'González, A.', 'González, F.', 'González Muñoz, A.', 'Gothe, K. S.', 'Grabarczyk, T.', 'Gougerot, M.', 'Graciani, R.', 'Grandi, P.', 'Grañena, F.', 'Granot, J.', 'Grasseau, G.', 'Gredig, R.', 'Green, A.', 'Greenshaw, T.', 'Grégoire, T.', 'Grillo, A.', 'Grimm, O.', 'Grondin, M. -H.', 'Grube, J.', 'Grudzinska, M.', 'Gruev, V.', 'Grünewald, S.', 'Grygorczuk, J.', 'Guarino, V.', 'Gunji, S.', 'Gyuk, G.', 'Hadasch, D.', 'Hagedorn, A.', 'Hagiwara, R.', 'Hahn, J.', 'Hakansson, N.', 'Hallgren, A.', 'Hamer Heras, N.', 'Hara, S.', 'Hardcastle, M. J.', 'Harezlak, D.', 'Harris, J.', 'Hassan, T.', 'Hatanaka, K.', 'Haubold, T.', 'Haupt, A.', 'Hayakawa, T.', 'Hayashida, M.', 'Heller, R.', 'Henault, F.', 'Henri, G.', 'Hermann, G.', 'Hermel, R.', 'Herrero, A.', 'Hervet, O.', 'Hidaka, N.', 'Hinton, J. A.', 'Hirotani, K.', 'Hoffmann, D.', 'Hofmann, W.', 'Hofverberg, P.', 'Holder, J.', 'Hörandel, J. R.', 'Horns, D.', 'Horville, D.', 'Houles, J.', 'Hrabovsky, M.', 'Hrupec, D.', 'Huan, H.', 'Huber, B.', 'Huet, J. -M.', 'Hughes, G.', 'Humensky, T. B.', 'Huovelin, J.', 'Huppert, J. -F.', 'Ibarra, A.', 'Ikawa, D.', 'Illa, J. M.', 'Impiombato, D.', 'Incorvaia, S.', 'Inoue, S.', 'Inoue, Y.', 'Iocco, F.', 'Ioka, K.', 'Israel, G. L.', 'Jablonski, C.', 'Jacholkowska, A.', 'Jacquemier, J.', 'Jamrozy, M.', 'Janiak, M.', 'Jean, P.', 'Jeanney, C.', 'Jimenez, J. J.', 'Jogler, T.', 'Johnson, C.', 'Johnson, T.', 'Journet, L.', 'Juffroy, C.', 'Jung, I.', 'Kaaret, P.', 'Kabuki, S.', 'Kagaya, M.', 'Kakuwa, J.', 'Kalkuhl, C.', 'Kankanyan, R.', 'Karastergiou, A.', 'Kärcher, K.', 'Karczewski, M.', 'Karkar, S.', 'Kasperek, J.', 'Kastana, D.', 'Katagiri, H.', 'Kataoka, J.', 'Katarzyński, K.', 'Katz, U.', 'Kawanaka, N.', 'Kazanas, D.', 'Kelley-Hoskins, N.', 'Kellner-Leidel, B.', 'Kelly, H.', 'Kendziorra, E.', 'Khélifi, B.', 'Kieda, D. B.', 'Kifune, T.', 'Kihm, T.', 'Kishimoto, T.', 'Kitamoto, K.', 'Kluźniak, W.', 'Knapic, C.', 'Knapp, J.', 'Knödlseder, J.', 'Köck, F.', 'Kocot, J.', 'Kodani, K.', 'Köhne, J. -H.', 'Kohri, K.', 'Kokkotas, K.', 'Kolitzus, D.', 'Komin, N.', 'Kominis, I.', 'Konno, Y.', 'Köppel, H.', 'Korohoda, P.', 'Kosack, K.', 'Koss, G.', 'Kossakowski, R.', 'Koul, R.', 'Kowal, G.', 'Koyama, S.', 'Kozioł, J.', 'Krähenbühl, T.', 'Krause, J.', 'Krawzcynski, H.', 'Krennrich, F.', 'Krepps, A.', 'Kretzschmann, A.', 'Krobot, R.', 'Krueger, P.', 'Kubo, H.', 'Kudryavtsev, V. A.', 'Kushida, J.', 'Kuznetsov, A.', 'La Barbera, A.', 'La Palombara, N.', 'La Parola, V.', 'La Rosa, G.', 'Lacombe, K.', 'Lamanna, G.', 'Lande, J.', 'Languignon, D.', 'Lapington, J. S.', 'Laporte, P.', 'Laurent, B.', 'Lavalley, C.', 'Le Flour, T.', 'Le Padellec, A.', 'Lee, S. -H.', 'Lee, W. H.', 'Lefèvre, J. -P.', 'Leich, H.', 'Leigui de Oliveira, M. A.', 'Lelas, D.', 'Lenain, J. -P.', 'Leoni, R.', 'Leopold, D. J.', 'Lerch, T.', 'Lessio, L.', 'Leto, G.', 'Lieunard, B.', 'Lieunard, S.', 'Lindemann, R.', 'Lindfors, E.', 'Liolios, A.', 'Lipniacka, A.', 'Lockart, H.', 'Lohse, T.', 'Lombardi, S.', 'Longo, F.', 'Lopatin, A.', 'Lopez, M.', 'López-Coto, R.', 'López-Oramas, A.', 'Lorca, A.', 'Lorenz, E.', 'Louis, F.', 'Lubinski, P.', 'Lucarelli, F.', 'Lüdecke, H.', 'Ludwin, J.', 'Luque-Escamilla, P. L.', 'Lustermann, W.', 'Luz, O.', 'Lyard, E.', 'Maccarone, M. C.', 'Maccarone, T. J.', 'Madejski, G. M.', 'Madhavan, A.', 'Mahabir, M.', 'Maier, G.', 'Majumdar, P.', 'Malaguti, G.', 'Malaspina, G.', 'Maltezos, S.', 'Manalaysay, A.', 'Mancilla, A.', 'Mandat, D.', 'Maneva, G.', 'Mangano, A.', 'Manigot, P.', 'Mannheim, K.', 'Manthos, I.', 'Maragos, N.', 'Marcowith, A.', 'Mariotti, M.', 'Marisaldi, M.', 'Markoff, S.', 'Marszałek, A.', 'Martens, C.', 'Martí, J.', 'Martin, J. -M.', 'Martin, P.', 'Martínez, G.', 'Martínez, F.', 'Martínez, M.', 'Massaro, F.', 'Masserot, A.', 'Mastichiadis, A.', 'Mathieu, A.', 'Matsumoto, H.', 'Mattana, F.', 'Mattiazzo, S.', 'Maurer, A.', 'Maurin, G.', 'Maxfield, S.', 'Maya, J.', 'Mazin, D.', 'Mc Comb, L.', 'McCann, A.', 'McCubbin, N.', 'McHardy, I.', 'McKay, R.', 'Meagher, K.', 'Medina, C.', 'Melioli, C.', 'Melkumyan, D.', 'Melo, D.', 'Mereghetti, S.', 'Mertsch, P.', 'Meucci, M.', 'Meyer, M.', 'Michałowski, J.', 'Micolon, P.', 'Mihailidis, A.', 'Mineo, T.', 'Minuti, M.', 'Mirabal, N.', 'Mirabel, F.', 'Miranda, J. M.', 'Mirzoyan, R.', 'Mistò, A.', 'Mizuno, T.', 'Moal, B.', 'Moderski, R.', 'Mognet, I.', 'Molinari, E.', 'Molinaro, M.', 'Montaruli, T.', 'Monte, C.', 'Monteiro, I.', 'Moore, P.', 'Moralejo Olaizola, A.', 'Mordalska, M.', 'Morello, C.', 'Mori, K.', 'Morlino, G.', 'Morselli, A.', 'Mottez, F.', 'Moudden, Y.', 'Moulin, E.', 'Mrusek, I.', 'Mukherjee, R.', 'Munar-Adrover, P.', 'Muraishi, H.', 'Murase, K.', 'StJ. Murphy, A.', 'Nagataki, S.', 'Naito, T.', 'Nakajima, D.', 'Nakamori, T.', 'Nakayama, K.', 'Naumann, C.', 'Naumann, D.', 'Naumann-Godo, M.', 'Nayman, P.', 'Nedbal, D.', 'Neise, D.', 'Nellen, L.', 'Neronov, A.', 'Neustroev, V.', 'Neyroud, N.', 'Nicastro, L.', 'Nicolau-Kukliński, J.', 'Niedźwiecki, A.', 'Niemiec, J.', 'Nieto, D.', 'Nikolaidis, A.', 'Nishijima, K.', 'Nishikawa, K. -I.', 'Noda, K.', 'Nolan, S.', 'Northrop, R.', 'Nosek, D.', 'Nowak, N.', 'Nozato, A.', 'Oakes, L.', \"O'Brien, P. T.\", 'Ohira, Y.', 'Ohishi, M.', 'Ohm, S.', 'Ohoka, H.', 'Okuda, T.', 'Okumura, A.', 'Olive, J. -F.', 'Ong, R. A.', 'Orito, R.', 'Orr, M.', 'Osborne, J. P.', 'Ostrowski, M.', 'Otero, L. A.', 'Otte, N.', 'Ovcharov, E.', 'Oya, I.', 'Ozieblo, A.', 'Padilla, L.', 'Pagano, I.', 'Paiano, S.', 'Paillot, D.', 'Paizis, A.', 'Palanque, S.', 'Palatka, M.', 'Pallota, J.', 'Palatiello, M.', 'Panagiotidis, K.', 'Panazol, J. -L.', 'Paneque, D.', 'Panter, M.', 'Panzera, M. R.', 'Paoletti, R.', 'Papayannis, A.', 'Papyan, G.', 'Paredes, J. M.', 'Pareschi, G.', 'Parraud, J. -M.', 'Parsons, D.', 'Pauletta, G.', 'Paz Arribas, M.', 'Pech, M.', 'Pedaletti, G.', 'Pelassa, V.', 'Pelat, D.', 'Perez, M. d. C.', 'Persic, M.', 'Petrucci, P. -O.', 'Peyaud, B.', 'Pichel, A.', 'Pieloth, D.', 'Pierre, E.', 'Pita, S.', 'Pivato, G.', 'Pizzolato, F.', 'Platino, M.', 'Platos, Ł.', 'Platzer, R.', 'Podkladkin, S.', 'Pogosyan, L.', 'Pohl, M.', 'Pojmanski, G.', 'Ponz, J. D.', 'Potter, W.', 'Poutanen, J.', 'Prandini, E.', 'Prast, J.', 'Preece, R.', 'Profeti, F.', 'Prokoph, H.', 'Prouza, M.', 'Proyetti, M.', 'Puerto-Giménez, I.', 'Pühlhofer, G.', 'Puljak, I.', 'Punch, M.', 'Pyzioł, R.', 'Quel, E. J.', 'Quesada, J.', 'Quinn, J.', 'Quirrenbach, A.', 'Racero, E.', 'Rainò, S.', 'Rajda, P. J.', 'Rameez, M.', 'Ramon, P.', 'Rando, R.', 'Rannot, R. C.', 'Rataj, M.', 'Raue, M.', 'Ravignani, D.', 'Reardon, P.', 'Reimann, O.', 'Reimer, A.', 'Reimer, O.', 'Reitberger, K.', 'Renaud, M.', 'Renner, S.', 'Reville, B.', 'Rhode, W.', 'Ribó, M.', 'Ribordy, M.', 'Richards, G.', 'Richer, M. G.', 'Rico, J.', 'Ridky, J.', 'Rieger, F.', 'Ringegni, P.', 'Ripken, J.', 'Ristori, P. R.', 'Rivière, A.', 'Rivoire, S.', 'Rob, L.', 'Rodeghiero, G.', 'Roeser, U.', 'Rohlfs, R.', 'Rojas, G.', 'Romano, P.', 'Romaszkan, W.', 'Romero, G. E.', 'Rosen, S. R.', 'Rosier Lees, S.', 'Ross, D.', 'Rouaix, G.', 'Rousselle, J.', 'Rousselle, S.', 'Rovero, A. C.', 'Roy, F.', 'Royer, S.', 'Rudak, B.', 'Rulten, C.', 'Rupiński, M.', 'Russo, F.', 'Ryde, F.', 'Saavedra, O.', 'Sacco, B.', 'Saemann, E. O.', 'Saggion, A.', 'Sahakian, V.', 'Saito, K.', 'Saito, T.', 'Saito, Y.', 'Sakaki, N.', 'Sakonaka, R.', 'Salini, A.', 'Sanchez, F.', 'Sanchez-Conde, M.', 'Sandoval, A.', 'Sandaker, H.', \"Sant'Ambrogio, E.\", 'Santangelo, A.', 'Santos, E. M.', 'Sanuy, A.', 'Sapozhnikov, L.', 'Sarkar, S.', 'Sartore, N.', 'Sasaki, H.', 'Satalecka, K.', 'Sawada, M.', 'Scalzotto, V.', 'Scapin, V.', 'Scarcioffolo, M.', 'Schafer, J.', 'Schanz, T.', 'Schlenstedt, S.', 'Schlickeiser, R.', 'Schmidt, T.', 'Schmoll, J.', 'Schovanek, P.', 'Schroedter, M.', 'Schubert, A.', 'Schultz, C.', 'Schultze, J.', 'Schulz, A.', 'Schure, K.', 'Schussler, F.', 'Schwab, T.', 'Schwanke, U.', 'Schwarz, J.', 'Schwarzburg, S.', 'Schweizer, T.', 'Schwemmer, S.', 'Schwendicke, U.', 'Schwerdt, C.', 'Segreto, A.', 'Seiradakis, J. -H.', 'Sembroski, G. H.', 'Servillat, M.', 'Seweryn, K.', 'Sharma, M.', 'Shayduk, M.', 'Shellard, R. C.', 'Shi, J.', 'Shibata, T.', 'Shibuya, A.', 'Shore, S.', 'Shum, E.', 'Sideras-Haddad, E.', 'Sidoli, L.', 'Sidz, M.', 'Sieiro, J.', 'Sikora, M.', 'Silk, J.', 'Sillanpää, A.', 'Singh, B. B.', 'Sironi, G.', 'Sitarek, J.', 'Skole, C.', 'Smareglia, R.', 'Smith, A.', 'Smith, D.', 'Smith, J.', 'Smith, N.', 'Sobczyńska, D.', 'Sol, H.', 'Sottile, G.', 'Sowiński, M.', 'Spanier, F.', 'Spiga, D.', 'Spyrou, S.', 'Stamatescu, V.', 'Stamerra, A.', 'Starling, R. L. C.', 'Stawarz, Ł.', 'Steenkamp, R.', 'Stegmann, C.', 'Steiner, S.', 'Stella, C.', 'Stergioulas, N.', 'Sternberger, R.', 'Sterzel, M.', 'Stinzing, F.', 'Stodulski, M.', 'Stolarczyk, Th.', 'Straumann, U.', 'Strazzeri, E.', 'Stringhetti, L.', 'Suarez, A.', 'Suchenek, M.', 'Sugawara, R.', 'Sulanke, K. -H.', 'Sun, S.', 'Supanitsky, A. D.', 'Suric, T.', 'Sutcliffe, P.', 'Sykes, J. M.', 'Szanecki, M.', 'Szepieniec, T.', 'Szostek, A.', 'Tagliaferri, G.', 'Tajima, H.', 'Takahashi, H.', 'Takahashi, K.', 'Takalo, L.', 'Takami, H.', 'Talbot, G.', 'Tammi, J.', 'Tanaka, M.', 'Tanaka, S.', 'Tasan, J.', 'Tavani, M.', 'Tavernet, J. -P.', 'Tejedor, L. A.', 'Telezhinsky, I.', 'Temnikov, P.', 'Tenzer, C.', 'Terada, Y.', 'Terrier, R.', 'Teshima, M.', 'Testa, V.', 'Tezier, D.', 'Thayer, J.', 'Thuermann, D.', 'Tibaldo, L.', 'Tibaldo, L.', 'Tibolla, O.', 'Tiengo, A.', 'Timpanaro, M. C.', 'Tluczykont, M.', 'Todero Peixoto, C. J.', 'Tokanai, F.', 'Tokarz, M.', 'Toma, K.', 'Tonachini, A.', 'Torii, K.', 'Tornikoski, M.', 'Torres, D. F.', 'Torres, M.', 'Toscano, S.', 'Toso, G.', 'Tosti, G.', 'Totani, T.', 'Toussenel, F.', 'Tovmassian, G.', 'Travnicek, P.', 'Treves, A.', 'Trifoglio, M.', 'Troyano, I.', 'Tsinganos, K.', 'Ueno, H.', 'Umana, G.', 'Umehara, K.', 'Upadhya, S. S.', 'Usher, T.', 'Uslenghi, M.', 'Vagnetti, F.', 'Valdes-Galicia, J. F.', 'Vallania, P.', 'Vallejo, G.', 'van Driel, W.', 'van Eldik, C.', 'Vandenbrouke, J.', 'Vanderwalt, J.', 'Vankov, H.', 'Vasileiadis, G.', 'Vassiliev, V.', 'Veberic, D.', 'Vegas, I.', 'Vercellone, S.', 'Vergani, S.', 'Verzi, V.', 'Vettolani, G. P.', 'Veyssière, C.', 'Vialle, J. P.', 'Viana, A.', 'Videla, M.', 'Vigorito, C.', 'Vincent, P.', 'Vincent, S.', 'Vink, J.', 'Vlahakis, N.', 'Vlahos, L.', 'Vogler, P.', 'Voisin, V.', 'Vollhardt, A.', 'von Gunten, H. -P.', 'Vorobiov, S.', 'Vuerli, C.', 'Waegebaert, V.', 'Wagner, R.', 'Wagner, R. G.', 'Wagner, S.', 'Wakely, S. P.', 'Walter, R.', 'Walther, T.', 'Warda, K.', 'Warwick, R. S.', 'Wawer, P.', 'Wawrzaszek, R.', 'Webb, N.', 'Wegner, P.', 'Weinstein, A.', 'Weitzel, Q.', 'Welsing, R.', 'Werner, M.', 'Wetteskind, H.', 'White, R. J.', 'Wierzcholska, A.', 'Wiesand, S.', 'Wilhelm, A.', 'Wilkinson, M. I.', 'Williams, D. A.', 'Willingale, R.', 'Winde, M.', 'Winiarski, K.', 'Wischnewski, R.', 'Wiśniewski, Ł.', 'Wojcik, P.', 'Wood, M.', 'Wörnlein, A.', 'Xiong, Q.', 'Yadav, K. K.', 'Yamamoto, H.', 'Yamamoto, T.', 'Yamazaki, R.', 'Yanagita, S.', 'Yebras, J. M.', 'Yelos, D.', 'Yoshida, A.', 'Yoshida, T.', 'Yoshikoshi, T.', 'Yu, P.', 'Zabalza, V.', 'Zacharias, M.', 'Zajczyk, A.', 'Zampieri, L.', 'Zanin, R.', 'Zdziarski, A.', 'Zech, A.', 'Zhao, A.', 'Zhou, X.', 'Zietara, K.', 'Ziolkowski, J.', 'Ziółkowski, P.', 'Zitelli, V.', 'Zurbach, C.', 'Zychowski, P.']),\n",
       "       list(['Watson, A. M.', 'Butler, N.', 'Kutyrev, A.', 'Lee, W. H.', 'Richer, M. G.', 'Klein, C.', 'Fox, O.', 'Prochaska, J. X.', 'Bloom, J.', 'Cucchiara, A.', 'Troja, E.', 'Littlejohns, O.', 'Ramirez-Ruiz, E.', 'de Diego, J. A.', 'Georgiev, L.', 'Gonzalez, J.', 'Roman-Zuniga, C.', 'Gehrels, N.', 'Moseley, H.', 'Lien, A. Y.']),\n",
       "       list(['Butler, N.', 'Watson, A. M.', 'Kutyrev, A.', 'Lee, W. H.', 'Richer, M. G.', 'Klein, C.', 'Fox, O.', 'Prochaska, J. X.', 'Bloom, J.', 'Cucchiara, A.', 'Troja, E.', 'Littlejohns, O.', 'Ramirez-Ruiz, E.', 'de Diego, J. A.', 'Georgiev, L.', 'Gonzalez, J.', 'Roman-Zuniga, C.', 'Gehrels, N.', 'Moseley, H.']),\n",
       "       list(['Watson, A. M.', 'Butler, N.', 'Kutyrev, A.', 'Lee, W. H.', 'Richer, M. G.', 'Klein, C.', 'Fox, O.', 'Prochaska, J. X.', 'Bloom, J.', 'Cucchiara, A.', 'Troja, E.', 'Littlejohns, O.', 'Ramirez-Ruiz, E.', 'de Diego, J. A.', 'Georgiev, L.', 'Gonzalez, J.', 'Roman-Zuniga, C.', 'Gehrels, N.', 'Moseley, H.']),\n",
       "       list(['Watson, A. M.', 'Butler, N.', 'Kutyrev, A.', 'Lee, W. H.', 'Richer, M. G.', 'Klein, C.', 'Fox, O.', 'Prochaska, J. X.', 'Bloom, J.', 'Cucchiara, A.', 'Troja, E.', 'Littlejohns, O.', 'Ramirez-Ruiz, E.', 'de Diego, J. A.', 'Georgiev, L.', 'Gonzalez, J.', 'Roman-Zuniga, C.', 'Gehrels, N.', 'Moseley, H.']),\n",
       "       list(['Butler, N.', 'Watson, A. M.', 'Kutyrev, A.', 'Lee, W. H.', 'Richer, M. G.', 'Klein, C.', 'Fox, O.', 'Prochaska, J. X.', 'Bloom, J.', 'Cucchiara, A.', 'Troja, E.', 'Littlejohns, O.', 'Ramirez-Ruiz, E.', 'de Diego, J. A.', 'Georgiev, L.', 'Gonzalez, J.', 'Roman-Zuniga, C.', 'Gehrels, N.', 'Moseley, H.']),\n",
       "       list(['Watson, A. M.', 'Butler, N.', 'Kutyrev, A.', 'Lee, W. H.', 'Richer, M. G.', 'Klein, C.', 'Fox, O.', 'Prochaska, J. X.', 'Bloom, J.', 'Cucchiara, A.', 'Troja, E.', 'Littlejohns, O.', 'Ramirez-Ruiz, E.', 'de Diego, J. A.', 'Georgiev, L.', 'Gonzalez, J.', 'Roman-Zuniga, C.', 'Gehrels, N.', 'Moseley, H.']),\n",
       "       list(['Butler, N.', 'Watson, A. M.', 'Kutyrev, A.', 'Lee, W. H.', 'Richer, M. G.', 'Klein, C.', 'Fox, O.', 'Prochaska, J. X.', 'Bloom, J.', 'Cucchiara, A.', 'Troja, E.', 'Littlejohns, O.', 'Ramirez-Ruiz, E.', 'de Diego, J. A.', 'Georgiev, L.', 'Gonzalez, J.', 'Roman-Zuniga, C.', 'Gehrels, N.', 'Moseley, H.']),\n",
       "       list(['Watson, A. M.', 'Butler, N.', 'Kutyrev, A.', 'Lee, W. H.', 'Richer, M. G.', 'Klein, C.', 'Fox, O.', 'Prochaska, J. X.', 'Bloom, J.', 'Cucchiara, A.', 'Troja, E.', 'Littlejohns, O.', 'Ramirez-Ruiz, E.', 'de Diego, J. A.', 'Georgiev, L.', 'Gonzalez, J.', 'Roman-Zuniga, C.', 'Gehrels, N.', 'Moseley, H.']),\n",
       "       list(['Butler, N.', 'Watson, A. M.', 'Kutyrev, A.', 'Lee, W. H.', 'Richer, M. G.', 'Klein, C.', 'Fox, O.', 'Prochaska, J. X.', 'Bloom, J.', 'Cucchiara, A.', 'Troja, E.', 'Littlejohns, O.', 'Ramirez-Ruiz, E.', 'de Diego, J. A.', 'Georgiev, L.', 'Gonzalez, J.', 'Roman-Zuniga, C.', 'Gehrels, N.', 'Moseley, H.']),\n",
       "       list(['Watson, A. M.', 'Butler, N.', 'Kutyrev, A.', 'Lee, W. H.', 'Richer, M. G.', 'Klein, C.', 'Fox, O.', 'Prochaska, J. X.', 'Bloom, J.', 'Cucchiara, A.', 'Troja, E.', 'Littlejohns, O.', 'Ramirez-Ruiz, E.', 'de Diego, J. A.', 'Georgiev, L.', 'Gonzalez, J.', 'Roman-Zuniga, C.', 'Gehrels, N.', 'Moseley, H.']),\n",
       "       list(['Butler, N.', 'Watson, A. M.', 'Kutyrev, A.', 'Lee, W. H.', 'Richer, M. G.', 'Klein, C.', 'Fox, O.', 'Prochaska, J. X.', 'Bloom, J.', 'Cucchiara, A.', 'Troja, E.', 'Littlejohns, O.', 'Ramirez-Ruiz, E.', 'de Diego, J. A.', 'Georgiev, L.', 'Gonzalez, J.', 'Roman-Zuniga, C.', 'Gehrels, N.', 'Moseley, H.'])],\n",
       "      dtype=object)"
      ]
     },
     "execution_count": 228,
     "metadata": {},
     "output_type": "execute_result"
    }
   ],
   "source": [
    "array_of_papers_for_one_author"
   ]
  },
  {
   "cell_type": "code",
   "execution_count": 229,
   "metadata": {
    "ExecuteTime": {
     "end_time": "2019-01-27T21:11:57.310465Z",
     "start_time": "2019-01-27T21:11:57.299338Z"
    }
   },
   "outputs": [],
   "source": [
    "papers[-1].author\n",
    "list_of_author_names=[]\n",
    "for j in range(len(papers)):\n",
    "    try:\n",
    "        index_for_single_paper_saying_where_author_is = [i for i, x in enumerate(papers[j].author) if surname_of_the_first_author in x ]\n",
    "        list_of_author_names.append(papers[j].author[index_for_single_paper_saying_where_author_is[0]])\n",
    "    # IndexError occurs when we can not find the surname of the authors in the authors list\n",
    "    # this is most often due to different spelling of the name\n",
    "    except IndexError:\n",
    "        print([j,False])"
   ]
  },
  {
   "cell_type": "code",
   "execution_count": 232,
   "metadata": {
    "ExecuteTime": {
     "end_time": "2019-01-27T21:12:09.939253Z",
     "start_time": "2019-01-27T21:12:09.931805Z"
    }
   },
   "outputs": [
    {
     "data": {
      "text/plain": [
       "['Richer',\n",
       " 'Richer, M.',\n",
       " 'Richer, M.',\n",
       " 'Richer, M.',\n",
       " 'Richer, M.',\n",
       " 'Richer, M.',\n",
       " 'Richer, M.',\n",
       " 'Richer, M.',\n",
       " 'Richer, M.',\n",
       " 'Richer, M.',\n",
       " 'Richer, M.',\n",
       " 'Richer, M.',\n",
       " 'Richer, M.',\n",
       " 'Richer, M.',\n",
       " 'Richer, M.',\n",
       " 'Richer, M.',\n",
       " 'Richer, M.',\n",
       " 'Richer, M.',\n",
       " 'Richer, M.',\n",
       " 'Richer, M.',\n",
       " 'Richer, M.',\n",
       " 'Richer, M.',\n",
       " 'Richer, M.',\n",
       " 'Richer, M.',\n",
       " 'Richer, M.',\n",
       " 'Richer, M.',\n",
       " 'Richer, M.',\n",
       " 'Richer, M.',\n",
       " 'Richer, M.',\n",
       " 'Richer, M.',\n",
       " 'Richer, M.',\n",
       " 'Richer, M.',\n",
       " 'Richer, M.',\n",
       " 'Richer, M.',\n",
       " 'Richer, M. G.',\n",
       " 'Richer, M. G.',\n",
       " 'Richer, M. G.',\n",
       " 'Richer, M. G.',\n",
       " 'Richer, M. G.',\n",
       " 'Richer, M. G.',\n",
       " 'Richer, M. G.',\n",
       " 'Richer, M. G.',\n",
       " 'Richer, M. G.',\n",
       " 'Richer, M. G.',\n",
       " 'Richer, M. G.',\n",
       " 'Richer, M. G.',\n",
       " 'Richer, M. G.',\n",
       " 'Richer, M. G.',\n",
       " 'Richer, M. G.',\n",
       " 'Richer, M. G.']"
      ]
     },
     "execution_count": 232,
     "metadata": {},
     "output_type": "execute_result"
    }
   ],
   "source": [
    "list_of_author_names"
   ]
  },
  {
   "cell_type": "code",
   "execution_count": 231,
   "metadata": {
    "ExecuteTime": {
     "end_time": "2019-01-27T21:12:02.929623Z",
     "start_time": "2019-01-27T21:12:02.911089Z"
    }
   },
   "outputs": [
    {
     "ename": "IndexError",
     "evalue": "list index out of range",
     "output_type": "error",
     "traceback": [
      "\u001b[0;31m---------------------------------------------------------------------------\u001b[0m",
      "\u001b[0;31mIndexError\u001b[0m                                Traceback (most recent call last)",
      "\u001b[0;32m<ipython-input-231-f0671e2899fc>\u001b[0m in \u001b[0;36m<module>\u001b[0;34m()\u001b[0m\n\u001b[1;32m      2\u001b[0m \u001b[0mlist_of_given_names_for_a_single_surname_search\u001b[0m\u001b[0;34m=\u001b[0m\u001b[0;34m[\u001b[0m\u001b[0;34m]\u001b[0m\u001b[0;34m\u001b[0m\u001b[0m\n\u001b[1;32m      3\u001b[0m \u001b[0;32mfor\u001b[0m \u001b[0ml\u001b[0m \u001b[0;32min\u001b[0m \u001b[0mrange\u001b[0m\u001b[0;34m(\u001b[0m\u001b[0mlen\u001b[0m\u001b[0;34m(\u001b[0m\u001b[0mlist_of_author_names\u001b[0m\u001b[0;34m)\u001b[0m\u001b[0;34m)\u001b[0m\u001b[0;34m:\u001b[0m\u001b[0;34m\u001b[0m\u001b[0m\n\u001b[0;32m----> 4\u001b[0;31m     \u001b[0mlist_of_given_names_for_a_single_surname_search\u001b[0m\u001b[0;34m.\u001b[0m\u001b[0mappend\u001b[0m\u001b[0;34m(\u001b[0m\u001b[0mlist_of_author_names\u001b[0m\u001b[0;34m[\u001b[0m\u001b[0ml\u001b[0m\u001b[0;34m]\u001b[0m\u001b[0;34m.\u001b[0m\u001b[0msplit\u001b[0m\u001b[0;34m(\u001b[0m\u001b[0;34m\",\"\u001b[0m\u001b[0;34m,\u001b[0m\u001b[0;36m1\u001b[0m\u001b[0;34m)\u001b[0m\u001b[0;34m[\u001b[0m\u001b[0;36m1\u001b[0m\u001b[0;34m]\u001b[0m\u001b[0;34m)\u001b[0m\u001b[0;34m\u001b[0m\u001b[0m\n\u001b[0m",
      "\u001b[0;31mIndexError\u001b[0m: list index out of range"
     ]
    }
   ],
   "source": [
    "# find all the first names that are associated with this author query\n",
    "list_of_given_names_for_a_single_surname_search=[]\n",
    "for l in range(len(list_of_author_names)):\n",
    "    list_of_given_names_for_a_single_surname_search.append(list_of_author_names[l].split(\",\",1)[1])"
   ]
  },
  {
   "cell_type": "code",
   "execution_count": 203,
   "metadata": {
    "ExecuteTime": {
     "end_time": "2019-01-27T21:04:51.388278Z",
     "start_time": "2019-01-27T21:04:51.372039Z"
    }
   },
   "outputs": [
    {
     "name": "stdout",
     "output_type": "stream",
     "text": [
      "False\n"
     ]
    }
   ],
   "source": [
    "list_of_given_names_for_a_single_surname_search_without_short=[]\n",
    "# remove all the names shorter or equal to 3 characters\n",
    "for m in range(len(list_of_given_names_for_a_single_surname_search)):\n",
    "    if len(list_of_given_names_for_a_single_surname_search[m])<=3:\n",
    "        pass\n",
    "    else:\n",
    "        list_of_given_names_for_a_single_surname_search_without_short.append(list_of_given_names_for_a_single_surname_search[m])\n",
    "        \n",
    "def all_same(items):\n",
    "    return all(x == items[0] for x in items)\n",
    "\n",
    "#check if all the first names are the same for this author query\n",
    "if len(list_of_given_names_for_a_single_surname_search_without_short)>2:\n",
    "    print(all_same(list_of_given_names_for_a_single_surname_search_without_short))\n",
    "else:\n",
    "    print(False)"
   ]
  },
  {
   "cell_type": "code",
   "execution_count": 204,
   "metadata": {
    "ExecuteTime": {
     "end_time": "2019-01-27T21:04:53.241570Z",
     "start_time": "2019-01-27T21:04:53.236688Z"
    }
   },
   "outputs": [
    {
     "data": {
      "text/plain": [
       "[' S.',\n",
       " ' S.',\n",
       " ' S.',\n",
       " ' S.',\n",
       " ' S.',\n",
       " ' S.',\n",
       " ' S.',\n",
       " ' S.',\n",
       " ' S.',\n",
       " ' S.',\n",
       " ' S.',\n",
       " ' S.',\n",
       " ' S.',\n",
       " ' S.',\n",
       " ' S.',\n",
       " ' S.',\n",
       " ' S.',\n",
       " ' S.',\n",
       " ' S.',\n",
       " ' S.',\n",
       " ' S.',\n",
       " ' S.',\n",
       " ' S.',\n",
       " ' S.',\n",
       " ' S.',\n",
       " ' S.',\n",
       " ' S.',\n",
       " ' S.',\n",
       " ' S.',\n",
       " ' S.',\n",
       " ' S.',\n",
       " ' S.',\n",
       " ' S.',\n",
       " ' S.',\n",
       " ' S.',\n",
       " ' S.',\n",
       " ' S.',\n",
       " ' S.',\n",
       " ' S.',\n",
       " ' S.',\n",
       " ' S.',\n",
       " ' S.',\n",
       " ' S.',\n",
       " ' S.',\n",
       " ' S.',\n",
       " ' S.',\n",
       " ' S.',\n",
       " ' S.',\n",
       " ' S.',\n",
       " ' S.']"
      ]
     },
     "execution_count": 204,
     "metadata": {},
     "output_type": "execute_result"
    }
   ],
   "source": [
    "list_of_given_names_for_a_single_surname_search"
   ]
  },
  {
   "cell_type": "code",
   "execution_count": 169,
   "metadata": {
    "ExecuteTime": {
     "end_time": "2019-01-27T20:49:56.194881Z",
     "start_time": "2019-01-27T20:49:56.184924Z"
    }
   },
   "outputs": [
    {
     "data": {
      "text/plain": [
       "3"
      ]
     },
     "execution_count": 169,
     "metadata": {},
     "output_type": "execute_result"
    }
   ],
   "source": [
    "len(list_of_given_names_for_a_single_surname_search[10])"
   ]
  },
  {
   "cell_type": "code",
   "execution_count": null,
   "metadata": {},
   "outputs": [],
   "source": []
  }
 ],
 "metadata": {
  "hide_input": false,
  "kernelspec": {
   "display_name": "Python 3",
   "language": "python",
   "name": "python3"
  },
  "language_info": {
   "codemirror_mode": {
    "name": "ipython",
    "version": 3
   },
   "file_extension": ".py",
   "mimetype": "text/x-python",
   "name": "python",
   "nbconvert_exporter": "python",
   "pygments_lexer": "ipython3",
   "version": "3.6.4"
  },
  "toc": {
   "base_numbering": 1,
   "nav_menu": {},
   "number_sections": true,
   "sideBar": true,
   "skip_h1_title": false,
   "title_cell": "Table of Contents",
   "title_sidebar": "Contents",
   "toc_cell": false,
   "toc_position": {},
   "toc_section_display": true,
   "toc_window_display": false
  },
  "varInspector": {
   "cols": {
    "lenName": 16,
    "lenType": 16,
    "lenVar": 40
   },
   "kernels_config": {
    "python": {
     "delete_cmd_postfix": "",
     "delete_cmd_prefix": "del ",
     "library": "var_list.py",
     "varRefreshCmd": "print(var_dic_list())"
    },
    "r": {
     "delete_cmd_postfix": ") ",
     "delete_cmd_prefix": "rm(",
     "library": "var_list.r",
     "varRefreshCmd": "cat(var_dic_list()) "
    }
   },
   "types_to_exclude": [
    "module",
    "function",
    "builtin_function_or_method",
    "instance",
    "_Feature"
   ],
   "window_display": false
  }
 },
 "nbformat": 4,
 "nbformat_minor": 2
}
