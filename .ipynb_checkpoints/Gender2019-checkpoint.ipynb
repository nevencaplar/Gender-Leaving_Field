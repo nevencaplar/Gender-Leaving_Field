{
 "cells": [
  {
   "cell_type": "code",
   "execution_count": 22,
   "metadata": {
    "ExecuteTime": {
     "end_time": "2019-01-09T00:10:53.941397Z",
     "start_time": "2019-01-09T00:10:53.932531Z"
    }
   },
   "outputs": [
    {
     "name": "stdout",
     "output_type": "stream",
     "text": [
      "3.6.4 |Anaconda custom (64-bit)| (default, Jan 16 2018, 12:04:33) \n",
      "[GCC 4.2.1 Compatible Clang 4.0.1 (tags/RELEASE_401/final)]\n"
     ]
    }
   ],
   "source": [
    "import sys\n",
    "print(sys.version)"
   ]
  },
  {
   "cell_type": "code",
   "execution_count": 2,
   "metadata": {
    "ExecuteTime": {
     "end_time": "2019-01-09T00:10:54.931870Z",
     "start_time": "2019-01-09T00:10:54.903207Z"
    }
   },
   "outputs": [
    {
     "data": {
      "text/plain": [
       "'\\nCreated on January 6 2018\\n@author: Neven Caplar\\n@contact: ncaplar@princeton.edu\\n\\nProject by Sandro Tacchella (CfA) and Neven Caplar (PU)\\n'"
      ]
     },
     "execution_count": 2,
     "metadata": {},
     "output_type": "execute_result"
    }
   ],
   "source": [
    "'''\n",
    "Created on January 6 2018\n",
    "@author: Neven Caplar\n",
    "@contact: ncaplar@princeton.edu\n",
    "\n",
    "Project by Sandro Tacchella (CfA) and Neven Caplar (PU)\n",
    "'''"
   ]
  },
  {
   "cell_type": "code",
   "execution_count": 23,
   "metadata": {
    "ExecuteTime": {
     "end_time": "2019-01-09T00:10:56.530568Z",
     "start_time": "2019-01-09T00:10:56.524942Z"
    }
   },
   "outputs": [
    {
     "data": {
      "application/javascript": [
       "try {\n",
       "  require(['base/js/utils'], function (utils) {\n",
       "    utils.load_extension('code_prettify/code_prettify');\n",
       "    utils.load_extension('collapsible_headings/main'); \n",
       "    utils.load_extension('codefolding/edit'); \n",
       "    utils.load_extension('codefolding/main'); \n",
       "    utils.load_extension('execute_time/ExecuteTime');   \n",
       "    utils.load_extension('toc2/main'); \n",
       "  });\n",
       "}\n",
       "catch (err) {\n",
       "  console.log('toc2 load error:', err);\n",
       "}"
      ],
      "text/plain": [
       "<IPython.core.display.Javascript object>"
      ]
     },
     "metadata": {},
     "output_type": "display_data"
    }
   ],
   "source": [
    "%%javascript\n",
    "try {\n",
    "  require(['base/js/utils'], function (utils) {\n",
    "    utils.load_extension('code_prettify/code_prettify');\n",
    "    utils.load_extension('collapsible_headings/main'); \n",
    "    utils.load_extension('codefolding/edit'); \n",
    "    utils.load_extension('codefolding/main'); \n",
    "    utils.load_extension('execute_time/ExecuteTime');   \n",
    "    utils.load_extension('toc2/main'); \n",
    "  });\n",
    "}\n",
    "catch (err) {\n",
    "  console.log('toc2 load error:', err);\n",
    "}"
   ]
  },
  {
   "cell_type": "code",
   "execution_count": 24,
   "metadata": {
    "ExecuteTime": {
     "end_time": "2019-01-09T22:12:50.195192Z",
     "start_time": "2019-01-09T22:12:50.184095Z"
    }
   },
   "outputs": [
    {
     "data": {
      "text/html": [
       "<style>.container { width:100% !important; }</style>"
      ],
      "text/plain": [
       "<IPython.core.display.HTML object>"
      ]
     },
     "metadata": {},
     "output_type": "display_data"
    }
   ],
   "source": [
    "# make notebook nice and wide to fill the entire screen\n",
    "from IPython.core.display import display, HTML\n",
    "display(HTML(\"<style>.container { width:100% !important; }</style>\"))"
   ]
  },
  {
   "cell_type": "code",
   "execution_count": 87,
   "metadata": {
    "ExecuteTime": {
     "end_time": "2019-01-09T23:13:57.997782Z",
     "start_time": "2019-01-09T23:13:57.992873Z"
    }
   },
   "outputs": [],
   "source": [
    "import os\n",
    "import pickle\n",
    "import pandas as pd\n",
    "#https://github.com/andycasey/ads\n",
    "import ads\n",
    "ads.config.token = 'kG2dNKUfa9H6QRqT00CsJYhHkfFz0uqzSx8JorPK'\n",
    "from tqdm import tqdm\n",
    "import time"
   ]
  },
  {
   "cell_type": "code",
   "execution_count": 29,
   "metadata": {
    "ExecuteTime": {
     "end_time": "2019-01-09T22:23:13.410302Z",
     "start_time": "2019-01-09T22:23:13.395211Z"
    }
   },
   "outputs": [
    {
     "data": {
      "text/plain": [
       "'IapetusUSA'"
      ]
     },
     "execution_count": 29,
     "metadata": {},
     "output_type": "execute_result"
    }
   ],
   "source": [
    "import socket\n",
    "socket.gethostname()"
   ]
  },
  {
   "cell_type": "code",
   "execution_count": null,
   "metadata": {},
   "outputs": [],
   "source": [
    "'''\n",
    "Plan\n",
    "\n",
    "1. Get all first authors from the 2003-2008 from A&A, APJ, MNRAS, SCI, Nature\n",
    "2. Find all authors for which we can identify their names\n",
    "3. Query according to the names\n",
    "4. Deduce if there is possible confusion\n",
    "5. If not if they have left the field - if yes, when\n",
    "\n",
    "'''"
   ]
  },
  {
   "cell_type": "code",
   "execution_count": null,
   "metadata": {},
   "outputs": [],
   "source": []
  },
  {
   "cell_type": "code",
   "execution_count": 35,
   "metadata": {
    "ExecuteTime": {
     "end_time": "2019-01-09T22:54:47.878922Z",
     "start_time": "2019-01-09T22:54:43.856640Z"
    }
   },
   "outputs": [],
   "source": [
    "#os.chdir('/Users/nevencaplar/Documents/Gender/')\n",
    "#with open('Master_Table.pickle', 'rb') as handle:\n",
    "#  Master_Table = pickle.load(handle)\n",
    "\n",
    "\n",
    "if socket.gethostname()=='IapetusUSA':\n",
    "    os.chdir('/Users/nevencaplar/Documents/Gender/Gender2019_data/')\n",
    "else:\n",
    "    os.chdir('/home/caplarn/Documents/Astrodataiscool/Gender/MasterTableJuly/')\n",
    "with open('Master_Table.pickle', 'rb') as handle:\n",
    "  Master_Table = pickle.load(handle, encoding='latin1')\n"
   ]
  },
  {
   "cell_type": "code",
   "execution_count": 36,
   "metadata": {
    "ExecuteTime": {
     "end_time": "2019-01-09T22:54:47.884965Z",
     "start_time": "2019-01-09T22:54:47.880521Z"
    }
   },
   "outputs": [
    {
     "data": {
      "text/plain": [
       "208577"
      ]
     },
     "execution_count": 36,
     "metadata": {},
     "output_type": "execute_result"
    }
   ],
   "source": [
    "len(Master_Table[0])"
   ]
  },
  {
   "cell_type": "code",
   "execution_count": 37,
   "metadata": {
    "ExecuteTime": {
     "end_time": "2019-01-09T22:54:48.878485Z",
     "start_time": "2019-01-09T22:54:48.873428Z"
    }
   },
   "outputs": [
    {
     "name": "stdout",
     "output_type": "stream",
     "text": [
      "2003A&A...397....1T\n"
     ]
    },
    {
     "data": {
      "text/plain": [
       "'2008Sci...322.1828E'"
      ]
     },
     "execution_count": 37,
     "metadata": {},
     "output_type": "execute_result"
    }
   ],
   "source": [
    "#first paper from 2003\n",
    "print(Master_Table[0][115130])\n",
    "\n",
    "#last paper from 2008\n",
    "Master_Table[0][152154]\n"
   ]
  },
  {
   "cell_type": "code",
   "execution_count": 38,
   "metadata": {
    "ExecuteTime": {
     "end_time": "2019-01-09T22:54:55.986485Z",
     "start_time": "2019-01-09T22:54:55.967521Z"
    }
   },
   "outputs": [],
   "source": [
    "list_of_identifiers_03_08=Master_Table[0][115130:152154+1]"
   ]
  },
  {
   "cell_type": "code",
   "execution_count": 88,
   "metadata": {
    "ExecuteTime": {
     "end_time": "2019-01-09T23:14:05.093532Z",
     "start_time": "2019-01-09T23:14:05.089631Z"
    }
   },
   "outputs": [
    {
     "data": {
      "text/plain": [
       "37025"
      ]
     },
     "execution_count": 88,
     "metadata": {},
     "output_type": "execute_result"
    }
   ],
   "source": [
    "#number of papers\n",
    "len(list_of_identifiers_03_08)"
   ]
  },
  {
   "cell_type": "code",
   "execution_count": 97,
   "metadata": {
    "ExecuteTime": {
     "end_time": "2019-01-09T23:27:18.363136Z",
     "start_time": "2019-01-09T23:26:06.919328Z"
    }
   },
   "outputs": [
    {
     "name": "stderr",
     "output_type": "stream",
     "text": [
      "\n",
      "  0%|          | 0/500 [00:00<?, ?it/s]\u001b[A\n",
      "  0%|          | 1/500 [00:00<01:06,  7.45it/s]\u001b[A\n",
      "  0%|          | 2/500 [00:00<00:59,  8.30it/s]\u001b[A\n",
      "  1%|          | 3/500 [00:00<01:11,  6.97it/s]\u001b[A\n",
      "  1%|          | 4/500 [00:00<01:06,  7.51it/s]\u001b[A\n",
      "  1%|          | 5/500 [00:00<01:02,  7.89it/s]\u001b[A\n",
      "  1%|          | 6/500 [00:00<01:01,  8.01it/s]\u001b[A\n",
      "  1%|▏         | 7/500 [00:00<01:07,  7.28it/s]\u001b[A\n",
      "  2%|▏         | 8/500 [00:01<01:09,  7.09it/s]\u001b[A\n",
      "  2%|▏         | 9/500 [00:01<01:10,  6.94it/s]\u001b[A\n",
      "  2%|▏         | 11/500 [00:01<01:08,  7.15it/s]\u001b[A\n",
      "  2%|▏         | 12/500 [00:01<01:07,  7.23it/s]\u001b[A\n",
      "  3%|▎         | 13/500 [00:01<01:06,  7.33it/s]\u001b[A\n",
      "  3%|▎         | 14/500 [00:01<01:05,  7.45it/s]\u001b[A\n",
      "  3%|▎         | 15/500 [00:02<01:06,  7.35it/s]\u001b[A\n",
      "  3%|▎         | 16/500 [00:02<01:06,  7.25it/s]\u001b[A\n",
      "  3%|▎         | 17/500 [00:02<01:06,  7.31it/s]\u001b[A\n",
      "  4%|▎         | 18/500 [00:02<01:07,  7.17it/s]\u001b[A\n",
      "  4%|▍         | 19/500 [00:02<01:07,  7.11it/s]\u001b[A\n",
      "  4%|▍         | 20/500 [00:02<01:07,  7.08it/s]\u001b[A\n",
      "  4%|▍         | 21/500 [00:02<01:08,  7.00it/s]\u001b[A\n",
      "  4%|▍         | 22/500 [00:03<01:08,  7.01it/s]\u001b[A\n",
      "  5%|▍         | 23/500 [00:03<01:09,  6.90it/s]\u001b[A\n",
      "  5%|▍         | 24/500 [00:03<01:08,  6.98it/s]\u001b[A\n",
      "  5%|▌         | 25/500 [00:03<01:09,  6.87it/s]\u001b[A\n",
      "  5%|▌         | 26/500 [00:03<01:09,  6.85it/s]\u001b[A\n",
      "  5%|▌         | 27/500 [00:03<01:08,  6.87it/s]\u001b[A\n",
      "  6%|▌         | 28/500 [00:04<01:08,  6.89it/s]\u001b[A\n",
      "  6%|▌         | 29/500 [00:04<01:08,  6.90it/s]\u001b[A\n",
      "  6%|▌         | 30/500 [00:04<01:07,  6.96it/s]\u001b[A\n",
      "  6%|▌         | 31/500 [00:04<01:06,  7.00it/s]\u001b[A\n",
      "  6%|▋         | 32/500 [00:04<01:07,  6.96it/s]\u001b[A\n",
      "  7%|▋         | 33/500 [00:04<01:07,  6.90it/s]\u001b[A\n",
      "  7%|▋         | 34/500 [00:04<01:07,  6.89it/s]\u001b[A\n",
      "  7%|▋         | 35/500 [00:05<01:07,  6.93it/s]\u001b[A\n",
      "  7%|▋         | 36/500 [00:05<01:07,  6.90it/s]\u001b[A\n",
      "  7%|▋         | 37/500 [00:05<01:07,  6.85it/s]\u001b[A\n",
      "  8%|▊         | 38/500 [00:05<01:07,  6.82it/s]\u001b[A\n",
      "  8%|▊         | 39/500 [00:05<01:07,  6.81it/s]\u001b[A\n",
      "  8%|▊         | 40/500 [00:05<01:07,  6.84it/s]\u001b[A\n",
      "  8%|▊         | 41/500 [00:05<01:07,  6.83it/s]\u001b[A\n",
      "  8%|▊         | 42/500 [00:06<01:07,  6.81it/s]\u001b[A\n",
      "  9%|▊         | 43/500 [00:06<01:07,  6.79it/s]\u001b[A\n",
      "  9%|▉         | 44/500 [00:06<01:07,  6.77it/s]\u001b[A\n",
      "  9%|▉         | 45/500 [00:06<01:06,  6.81it/s]\u001b[A\n",
      "  9%|▉         | 46/500 [00:06<01:06,  6.82it/s]\u001b[A\n",
      "  9%|▉         | 47/500 [00:06<01:06,  6.86it/s]\u001b[A\n",
      " 10%|▉         | 48/500 [00:06<01:05,  6.88it/s]\u001b[A\n",
      " 10%|▉         | 49/500 [00:07<01:05,  6.89it/s]\u001b[A\n",
      " 10%|█         | 50/500 [00:07<01:05,  6.91it/s]\u001b[A\n",
      " 10%|█         | 51/500 [00:07<01:05,  6.91it/s]\u001b[A\n",
      " 10%|█         | 52/500 [00:07<01:04,  6.94it/s]\u001b[A\n",
      " 11%|█         | 53/500 [00:07<01:04,  6.95it/s]\u001b[A\n",
      " 11%|█         | 54/500 [00:07<01:03,  6.97it/s]\u001b[A\n",
      "Exception in thread Thread-14:\n",
      "Traceback (most recent call last):\n",
      "  File \"/Users/nevencaplar/anaconda2/envs/py36/lib/python3.6/threading.py\", line 916, in _bootstrap_inner\n",
      "    self.run()\n",
      "  File \"/Users/nevencaplar/anaconda2/envs/py36/lib/python3.6/site-packages/tqdm/_tqdm.py\", line 144, in run\n",
      "    for instance in self.tqdm_cls._instances:\n",
      "  File \"/Users/nevencaplar/anaconda2/envs/py36/lib/python3.6/_weakrefset.py\", line 60, in __iter__\n",
      "    for itemref in self.data:\n",
      "RuntimeError: Set changed size during iteration\n",
      "\n",
      "100%|██████████| 500/500 [01:11<00:00,  7.00it/s]\n"
     ]
    }
   ],
   "source": [
    "articles=[]\n",
    "for bibcode in tqdm(list_of_identifiers_03_08[0:500]):\n",
    "    #time.sleep(1) \n",
    "    try:\n",
    "        articles.append(list(ads.SearchQuery(bibcode=bibcode))[0])\n",
    "    except IndexError:\n",
    "        pass"
   ]
  },
  {
   "cell_type": "code",
   "execution_count": 98,
   "metadata": {
    "ExecuteTime": {
     "end_time": "2019-01-09T23:27:22.740793Z",
     "start_time": "2019-01-09T23:27:22.733835Z"
    }
   },
   "outputs": [],
   "source": [
    "import pickle\n",
    "with open('/Users/nevencaplar/Documents/Gender/Gender2019_data/' + 'articles.pkl', 'wb') as f:\n",
    "    pickle.dump(articles,f, protocol=pickle.HIGHEST_PROTOCOL)"
   ]
  },
  {
   "cell_type": "code",
   "execution_count": 99,
   "metadata": {
    "ExecuteTime": {
     "end_time": "2019-01-09T23:27:24.489425Z",
     "start_time": "2019-01-09T23:27:24.461105Z"
    }
   },
   "outputs": [],
   "source": [
    "with open('/Users/nevencaplar/Documents/Gender/Gender2019_data/articles.pkl', 'rb') as f:\n",
    "    articles=pickle.load(f)"
   ]
  },
  {
   "cell_type": "code",
   "execution_count": 106,
   "metadata": {
    "ExecuteTime": {
     "end_time": "2019-01-09T23:29:53.374777Z",
     "start_time": "2019-01-09T23:29:53.370704Z"
    }
   },
   "outputs": [],
   "source": [
    "list_of_first_author=[]\n",
    "for i in range(len(articles)):\n",
    "    list_of_first_author.append(articles[i].first_author)"
   ]
  },
  {
   "cell_type": "code",
   "execution_count": 107,
   "metadata": {
    "ExecuteTime": {
     "end_time": "2019-01-09T23:29:56.139857Z",
     "start_time": "2019-01-09T23:29:54.370655Z"
    }
   },
   "outputs": [
    {
     "data": {
      "text/plain": [
       "['Tachikawa, H.',\n",
       " 'Leto, G.',\n",
       " 'Teufel, A.',\n",
       " 'Colafrancesco, S.',\n",
       " 'Thierbach, M.',\n",
       " 'Heinämäki, P.',\n",
       " 'Stasińska, G.',\n",
       " 'Israel, F. P.',\n",
       " 'Richer, M. G.',\n",
       " 'Pilyugin, L. S.',\n",
       " 'Vinkó, J.',\n",
       " 'Rieger, F. M.',\n",
       " 'Parma, P.',\n",
       " 'Russeil, D.',\n",
       " 'Pizzolato, N.',\n",
       " 'Halbwachs, J. L.',\n",
       " 'Bica, E.',\n",
       " 'Morata, O.',\n",
       " 'Pandey, A. K.',\n",
       " 'Juvela, M.',\n",
       " 'Paladini, R.',\n",
       " 'Persi, P.',\n",
       " 'Orosz, J. A.',\n",
       " 'Schultz, J.',\n",
       " 'Liang, Y. C.',\n",
       " 'Adelman, Saul J.',\n",
       " 'Mashonkina, L.',\n",
       " 'García-Alvarez, D.',\n",
       " 'López Fuentes, M. C.',\n",
       " 'Babadzhanov, P. B.',\n",
       " 'Sekiguchi, T.',\n",
       " 'Lowry, S. C.',\n",
       " 'Abad, C.',\n",
       " 'Oberti, P.',\n",
       " 'Zhou, Xu',\n",
       " 'Drory, N.',\n",
       " 'Hennebelle, P.',\n",
       " 'Archontis, V.',\n",
       " 'Thieberger, R.',\n",
       " 'Bernardeau, F.',\n",
       " 'Chen, Da-Ming',\n",
       " 'Iglesias-Páramo, J.',\n",
       " 'Mercurio, A.',\n",
       " 'Kaastra, J. S.',\n",
       " 'Ugryumov, A. V.',\n",
       " 'Bik, A.',\n",
       " 'Pilyugin, L. S.',\n",
       " 'Stickel, M.',\n",
       " 'Goicoechea, L. J.',\n",
       " 'Schaerer, D.',\n",
       " 'Sluse, D.',\n",
       " 'Weilbacher, P. M.',\n",
       " 'Boller, Th.',\n",
       " 'Papadakis, I. E.',\n",
       " 'Pokorny, R. S.',\n",
       " 'Homeier, N. L.',\n",
       " 'Dominik, C.',\n",
       " 'Flaccomio, E.',\n",
       " 'Habart, E.',\n",
       " 'von Ballmoos, P.',\n",
       " 'Markoff, S.',\n",
       " 'Josselin, E.',\n",
       " 'Maciel, W. J.',\n",
       " 'Takami, M.',\n",
       " 'Davis, C. J.',\n",
       " 'Rau, A.',\n",
       " 'Di Salvo, T.',\n",
       " 'Vignarca, F.',\n",
       " 'Negueruela, I.',\n",
       " 'Katz, D.',\n",
       " 'Rouppe van der Voort, L. H. M.',\n",
       " 'Cooper, F. C.',\n",
       " 'Vondrák, J.',\n",
       " 'Teufel, A.',\n",
       " 'van Zadelhoff, G. -J.',\n",
       " 'Mbelek, J. P.',\n",
       " 'Schneider, P.',\n",
       " 'Amanullah, R.',\n",
       " 'Asada, H.',\n",
       " 'Sharina, M. E.',\n",
       " 'Lemoine-Busserolle, M.',\n",
       " 'Levshakov, S. A.',\n",
       " 'Schild, H.',\n",
       " 'Pierini, D.',\n",
       " 'Gondoin, P.',\n",
       " 'Jakobsen, P.',\n",
       " 'Sakamoto, T.',\n",
       " 'van der Swaluw, E.',\n",
       " 'van Genderen, A. M.',\n",
       " 'Pereira, C. B.',\n",
       " 'Berlioz-Arthaud, P.',\n",
       " 'Lederle, C.',\n",
       " 'Rogoziecki, P.',\n",
       " 'Kijak, J.',\n",
       " 'Willems, B.',\n",
       " 'Cutispoto, G.',\n",
       " 'Platais, I.',\n",
       " 'Sutaria, F. K.',\n",
       " 'Houdebine, E. R.',\n",
       " 'Chentsov, E. L.',\n",
       " 'Kotak, R.',\n",
       " 'Zhou, Guiping',\n",
       " 'Bi, S. L.',\n",
       " 'Sánchez Cuberes, M.',\n",
       " 'Rempel, M.',\n",
       " 'Rauer, H.',\n",
       " 'Richichi, A.',\n",
       " 'Kamp, I.',\n",
       " 'Hartman, H.',\n",
       " 'Setiawan, J.',\n",
       " 'Soummer, R.',\n",
       " 'Feltzing, S.',\n",
       " 'Ségransan, D.',\n",
       " 'Hilker, M.',\n",
       " 'Jiang, D. R.',\n",
       " 'Gérard, E.',\n",
       " 'Belsole, E.',\n",
       " 'Temporin, S.',\n",
       " 'King, L. J.',\n",
       " 'Lima Neto, G. B.',\n",
       " 'Piffaretti, R.',\n",
       " 'Heidt, J.',\n",
       " 'Jerjen, H.',\n",
       " 'Brinkmann, W.',\n",
       " 'Schulz, J.',\n",
       " 'Marco, O.',\n",
       " 'Braito, V.',\n",
       " 'Krause, M.',\n",
       " 'Saracco, P.',\n",
       " 'Borkova, T. V.',\n",
       " 'Soubiran, C.',\n",
       " 'Mavromatakis, F.',\n",
       " 'Gawryszczak, A. J.',\n",
       " 'Kun, M.',\n",
       " 'van der Sluys, M. V.',\n",
       " 'Bocchino, F.',\n",
       " 'Mewe, R.',\n",
       " 'Moskalik, P.',\n",
       " 'Agrawal, V. K.',\n",
       " 'Schröder, K. -P.',\n",
       " 'Ribas, I.',\n",
       " 'Sandin, C.',\n",
       " 'Kozhevnikov, V. P.',\n",
       " 'Szatmáry, K.',\n",
       " 'Bonanno, A.',\n",
       " 'Petrie, G. J. D.',\n",
       " 'Fludra, A.',\n",
       " 'Chaplin, W. J.',\n",
       " 'Goździewski, K.',\n",
       " 'Fornasier, S.',\n",
       " 'Dobrijevic, M.',\n",
       " 'Schulz, R.',\n",
       " 'Gunnarsson, M.',\n",
       " 'Santos, N. C.',\n",
       " 'Paturel, G.',\n",
       " 'Perrin, G.',\n",
       " 'Shaw, S. E.',\n",
       " 'Barrau, A.',\n",
       " 'Stift, M. J.',\n",
       " 'Pizzone, R. G.',\n",
       " 'Liske, J.',\n",
       " 'De Paolis, F.',\n",
       " 'Fusco-Femiano, R.',\n",
       " 'Pfenniger, D.',\n",
       " 'Lennon, D. J.',\n",
       " 'Karachentsev, I. D.',\n",
       " 'Karachentsev, I. D.',\n",
       " 'Kandalyan, R. A.',\n",
       " 'Parodi, B. R.',\n",
       " 'Lodato, G.',\n",
       " 'Vollmer, B.',\n",
       " 'Kopacki, G.',\n",
       " 'Stepnik, B.',\n",
       " 'Piétu, V.',\n",
       " 'Lehtinen, K.',\n",
       " 'Lehtinen, K.',\n",
       " 'Verma, R. P.',\n",
       " 'Dominik, C.',\n",
       " 'Liszt, H.',\n",
       " 'Porter, John M.',\n",
       " 'Zhang, L.',\n",
       " 'Reiners, A.',\n",
       " 'Rincon, F.',\n",
       " 'Dupret, M. -A.',\n",
       " 'Briquet, M.',\n",
       " 'Faraggiana, R.',\n",
       " 'Meléndez, J.',\n",
       " 'Taylor, B. J.',\n",
       " 'Taylor, B. J.',\n",
       " 'Wiehr, E.',\n",
       " 'Del Zanna, G.',\n",
       " 'Fluri, D. M.',\n",
       " 'Madjarska, M. S.',\n",
       " 'Starck, J. L.',\n",
       " 'Vandas, M.',\n",
       " 'Molina, A.',\n",
       " 'Krishan, V.',\n",
       " 'von Rekowski, B.',\n",
       " 'Passot, T.',\n",
       " 'Omont, A.',\n",
       " 'Schuecker, P.',\n",
       " 'Ettori, S.',\n",
       " 'Dietrich, M.',\n",
       " 'Ciliegi, P.',\n",
       " 'Bagoly, Z.',\n",
       " 'Wang, J. -M.',\n",
       " 'Berkhuijsen, E. M.',\n",
       " 'Idiart, T. P.',\n",
       " 'Hafok, H.',\n",
       " 'Gondoin, P.',\n",
       " 'Popović, L. Č.',\n",
       " 'Bluhm, H.',\n",
       " 'Mitra, D.',\n",
       " 'Krause, O.',\n",
       " 'Willingale, R.',\n",
       " 'Ferrarotti, A. S.',\n",
       " 'Weis, K.',\n",
       " 'Schutte, W. A.',\n",
       " 'Israel, F. P.',\n",
       " 'Carrier, F.',\n",
       " 'Wuchterl, G.',\n",
       " 'Borkovits, T.',\n",
       " 'Reig, P.',\n",
       " 'Willems, B.',\n",
       " 'Kurtz, D. W.',\n",
       " 'Erspamer, D.',\n",
       " 'Audard, M.',\n",
       " 'Goździewski, K.',\n",
       " 'Pourbaix, D.',\n",
       " 'Milosavljević, V.',\n",
       " 'Stenborg, G.',\n",
       " 'Dvorak, R.',\n",
       " 'Ettori, S.',\n",
       " 'Thorwirth, S.',\n",
       " 'Brynildsen, N.',\n",
       " 'Setiawan, J.',\n",
       " 'Mirabel, I. F.',\n",
       " 'Scholz, R. -D.',\n",
       " 'Finoguenov, A.',\n",
       " 'Tozzi, G. P.',\n",
       " 'Licandro, J.',\n",
       " 'Ueda, H.',\n",
       " 'Persic, M.',\n",
       " 'Chernin, A. D.',\n",
       " 'Zackrisson, E.',\n",
       " 'Massaro, E.',\n",
       " 'Ranalli, P.',\n",
       " 'Garrido, O.',\n",
       " 'Hidalgo-Gámez, A. M.',\n",
       " 'Deluit, S.',\n",
       " 'Kataoka, J.',\n",
       " 'Choo, K. J.',\n",
       " 'Mermilliod, J. -C.',\n",
       " 'Pavani, D. B.',\n",
       " 'Pulone, L.',\n",
       " 'Randich, S.',\n",
       " 'Magakian, T. Yu.',\n",
       " 'Massi, F.',\n",
       " 'Taban, I. M.',\n",
       " 'Kiss, Cs.',\n",
       " 'Viti, S.',\n",
       " 'Wiebe, D.',\n",
       " 'Ioannou, Z.',\n",
       " 'Howell, S. B.',\n",
       " 'van Leeuwen, A. G. J.',\n",
       " 'Chukwude, A. E.',\n",
       " 'Ergma, E.',\n",
       " 'Fernandes, J.',\n",
       " 'Rodríguez, E.',\n",
       " 'Maeder, A.',\n",
       " 'Pinheiro, F. J. G.',\n",
       " 'Richichi, A.',\n",
       " 'Franciosini, E.',\n",
       " 'Rauw, G.',\n",
       " 'Woitke, P.',\n",
       " 'Strassmeier, K. G.',\n",
       " 'Antia, H. M.',\n",
       " 'Vecchiato, A.',\n",
       " 'Biémont, E.',\n",
       " 'Panzera, M. R.',\n",
       " 'Blake, C.',\n",
       " 'Blanc, A.',\n",
       " 'Hartung, M.',\n",
       " 'Speith, R.',\n",
       " 'Enßlin, T. A.',\n",
       " 'Rogava, A. D.',\n",
       " 'van Driel, W.',\n",
       " 'Mei, S.',\n",
       " 'Mantovani, F.',\n",
       " 'Sánchez-Saavedra, M. L.',\n",
       " 'Hook, I. M.',\n",
       " 'Bassino, L. P.',\n",
       " 'Tamura, T.',\n",
       " 'Sazonov, S. Yu.',\n",
       " 'Morganti, R.',\n",
       " 'Matt, G.',\n",
       " 'Daflon, S.',\n",
       " 'Siebert, A.',\n",
       " 'Clariá, J. J.',\n",
       " 'Yate, C. J.',\n",
       " 'Buckle, J. V.',\n",
       " 'Charnley, S. B.',\n",
       " 'Höfner, S.',\n",
       " 'Palacios, A.',\n",
       " 'Marigo, P.',\n",
       " 'Hameury, J. -M.',\n",
       " 'Aerts, C.',\n",
       " 'Tovmassian, H. M.',\n",
       " 'Rezania, V.',\n",
       " 'Rezania, V.',\n",
       " 'Kuulkers, E.',\n",
       " 'González-Riestra, R.',\n",
       " 'Vidaña, I.',\n",
       " 'Kato, T.',\n",
       " 'Revnivtsev, M.',\n",
       " 'Niccolini, G.',\n",
       " 'Hempelmann, A.',\n",
       " 'Schmitz, F.',\n",
       " 'Juckett, D.',\n",
       " 'Rüdiger, G.',\n",
       " 'Foley, C. R.',\n",
       " 'Zhang, Jun',\n",
       " 'Lara, L. -M.',\n",
       " 'Dartois, E.',\n",
       " 'Moreno, F.',\n",
       " 'Tankosić, D.',\n",
       " 'Aggarwal, K. M.',\n",
       " 'Boukouvala, E.',\n",
       " 'Ferrari, C.',\n",
       " 'Teerikorpi, P.',\n",
       " 'Förster Schreiber, N. M.',\n",
       " 'Kanekar, Nissim',\n",
       " 'Bettoni, D.',\n",
       " 'Reshetnikov, V. P.',\n",
       " 'Giroletti, M.',\n",
       " 'La Barbera, F.',\n",
       " 'Lazzati, D.',\n",
       " 'Pillitteri, I.',\n",
       " 'Zoccali, M.',\n",
       " 'Caranicolas, N. D.',\n",
       " 'Samland, M.',\n",
       " 'Wichmann, R.',\n",
       " 'Persi, P.',\n",
       " 'Pilyugin, L. S.',\n",
       " 'Dartois, E.',\n",
       " 'González Delgado, D.',\n",
       " 'Dijkstra, C.',\n",
       " 'Boonman, A. M. S.',\n",
       " 'Boonman, A. M. S.',\n",
       " 'Kramer, C.',\n",
       " 'Kerton, C. R.',\n",
       " 'Koike, C.',\n",
       " 'Burwitz, V.',\n",
       " 'Claret, A.',\n",
       " 'Benaglia, P.',\n",
       " 'Deharveng, L.',\n",
       " 'Ikhsanov, N. R.',\n",
       " 'Maccarone, T. J.',\n",
       " 'Fárník, F.',\n",
       " 'Pourbaix, D.',\n",
       " 'Voitsekhovich, V. V.',\n",
       " 'Bonifacio, P.',\n",
       " 'Krivova, N. A.',\n",
       " 'Xia, L. D.',\n",
       " 'Aarum Ulvås, V.',\n",
       " 'Zaqarashvili, T. V.',\n",
       " 'Benoît, A.',\n",
       " 'Benoît, A.',\n",
       " 'Asplund, M.',\n",
       " \"O'Neil, K.\",\n",
       " 'Denisov, V. I.',\n",
       " 'Bianchi, S.',\n",
       " 'Mennickent, R. E.',\n",
       " 'Kryvdyk, V.',\n",
       " 'Kleeorin, N.',\n",
       " 'Bartelmann, M.',\n",
       " 'Rolleston, W. R. J.',\n",
       " 'Vázquez, G. A.',\n",
       " 'Schulz, H.',\n",
       " 'Van Bever, J.',\n",
       " 'Vorobyov, E. I.',\n",
       " 'Nilsson, K.',\n",
       " 'De Rijcke, S.',\n",
       " 'Gorosabel, J.',\n",
       " 'Comerón, F.',\n",
       " 'Page, M. J.',\n",
       " 'Aharonian, F. A.',\n",
       " 'Benetti, S.',\n",
       " 'Lachaume, R.',\n",
       " 'Bocchino, F.',\n",
       " 'Riera, A.',\n",
       " 'Nürnberger, D. E. A.',\n",
       " 'Pijpers, F. P.',\n",
       " 'Gondoin, P.',\n",
       " 'Çakırlı, Ö.',\n",
       " 'Koptsevich, A. B.',\n",
       " 'Rauch, T.',\n",
       " 'Stahl, O.',\n",
       " 'Wichmann, R.',\n",
       " 'Ribas, I.',\n",
       " 'Fluri, D. M.',\n",
       " 'Richter, He.',\n",
       " 'Mann, G.',\n",
       " 'Altyntsev, A. T.',\n",
       " 'Mancuso, S.',\n",
       " 'Browning, P. K.',\n",
       " 'Romon-Martin, J.',\n",
       " 'Griv, E.',\n",
       " 'Abe, L.',\n",
       " 'Gillet, S.',\n",
       " 'Del Zanna, L.',\n",
       " 'Wei, D. M.',\n",
       " 'del Río, M. S.',\n",
       " 'Belkus, H.',\n",
       " 'Collin, S.',\n",
       " 'Gavazzi, G.',\n",
       " 'Hagiwara, Y.',\n",
       " 'Bacchi, M.',\n",
       " 'Tagliaferri, G.',\n",
       " 'Ciprini, S.',\n",
       " \"Le Floc'h, E.\",\n",
       " 'Magrini, L.',\n",
       " 'Gendre, B.',\n",
       " 'Dutra, C. M.',\n",
       " 'Percival, S. M.',\n",
       " 'Sobolewska, M. A.',\n",
       " 'Duchêne, G.',\n",
       " 'Uchiyama, Y.',\n",
       " 'Habart, E.',\n",
       " 'Lipshtat, A.',\n",
       " 'Friedjung, M.',\n",
       " 'Levenhagen, R. S.',\n",
       " 'Le Coroller, H.',\n",
       " 'Kjurkchieva, D. P.',\n",
       " 'den Hartog, P. R.',\n",
       " 'Barret, D.',\n",
       " 'Qian, Shengbang',\n",
       " 'Clark, J. S.',\n",
       " 'Cutispoto, G.',\n",
       " 'Raassen, A. J. J.',\n",
       " 'Decin, L.',\n",
       " 'Decin, L.',\n",
       " 'Decin, L.',\n",
       " 'Kirsch, E.',\n",
       " 'Andretta, V.',\n",
       " 'Ramesh, R.',\n",
       " 'Glover, A.',\n",
       " 'Landi, S.',\n",
       " 'Kay, H. R. M.',\n",
       " 'Bretagnon, P.',\n",
       " 'Dimitrijević, M. S.',\n",
       " 'Lachaume, R.',\n",
       " 'Uyeda, C.',\n",
       " 'Neumann, D. M.',\n",
       " 'Maraston, C.',\n",
       " 'Pustilnik, S.',\n",
       " 'Ciroi, S.',\n",
       " 'Cody, A. M.',\n",
       " 'Pauli, E. -M.',\n",
       " 'Moraux, E.',\n",
       " 'Jiang, B. W.',\n",
       " 'Alcaino, G.',\n",
       " 'Heydari-Malayeri, M.',\n",
       " 'Edelmann, H.',\n",
       " 'Afonso, C.',\n",
       " 'Gesicki, K.',\n",
       " 'Berezhko, E. G.',\n",
       " 'Andersen, A. C.',\n",
       " 'La Barbera, A.',\n",
       " 'Corbel, S.',\n",
       " 'de Plaa, J.',\n",
       " 'Barraud, C.',\n",
       " 'Sterzik, M. F.',\n",
       " 'Albayrak, B.',\n",
       " 'Tsiklauri, D.',\n",
       " 'Musielak, Z. E.',\n",
       " \"O'Shea, E.\",\n",
       " 'Harrison, R. A.',\n",
       " 'Pilat-Lohinger, E.',\n",
       " 'Veiga, C. H.',\n",
       " 'Benest, D.',\n",
       " 'Mathews, P. M.',\n",
       " 'Beust, H.',\n",
       " 'Capitaine, N.',\n",
       " 'Srećković, A.',\n",
       " 'Gustafsson, M.',\n",
       " 'Travouillon, T.',\n",
       " 'Perrin, G.',\n",
       " 'Patat, F.',\n",
       " 'Flicker, R. C.',\n",
       " 'Reynolds, A. P.',\n",
       " 'van Dishoeck, E. F.',\n",
       " 'Nielbock, M.',\n",
       " 'Covino, S.',\n",
       " 'Carollo, D.',\n",
       " 'Burbidge, G.',\n",
       " 'van Boekel, R.',\n",
       " 'Semel, M.',\n",
       " 'Chavanis, P. H.']"
      ]
     },
     "execution_count": 107,
     "metadata": {},
     "output_type": "execute_result"
    }
   ],
   "source": [
    "list_of_first_author"
   ]
  },
  {
   "cell_type": "code",
   "execution_count": 108,
   "metadata": {
    "ExecuteTime": {
     "end_time": "2019-01-09T23:34:14.192156Z",
     "start_time": "2019-01-09T23:34:13.692202Z"
    }
   },
   "outputs": [],
   "source": [
    " papers = list(ads.SearchQuery(author=list_of_first_author[0]))"
   ]
  },
  {
   "cell_type": "code",
   "execution_count": 109,
   "metadata": {
    "ExecuteTime": {
     "end_time": "2019-01-09T23:34:16.568689Z",
     "start_time": "2019-01-09T23:34:16.563971Z"
    }
   },
   "outputs": [
    {
     "data": {
      "text/plain": [
       "[<ads.search.Article at 0x9216c0400>,\n",
       " <ads.search.Article at 0x9216c0518>,\n",
       " <ads.search.Article at 0x9216c00b8>,\n",
       " <ads.search.Article at 0x9216c06a0>,\n",
       " <ads.search.Article at 0x9216c0588>,\n",
       " <ads.search.Article at 0x9216c0a20>,\n",
       " <ads.search.Article at 0x9216c0e48>,\n",
       " <ads.search.Article at 0x9216c0908>,\n",
       " <ads.search.Article at 0x9216c0780>,\n",
       " <ads.search.Article at 0x9216c0198>,\n",
       " <ads.search.Article at 0x9216c0390>,\n",
       " <ads.search.Article at 0x9216c05f8>,\n",
       " <ads.search.Article at 0x9216c0160>,\n",
       " <ads.search.Article at 0x9216c0438>,\n",
       " <ads.search.Article at 0x9216c0470>,\n",
       " <ads.search.Article at 0x9216c0d30>,\n",
       " <ads.search.Article at 0x9216c0e10>,\n",
       " <ads.search.Article at 0x9216c0fd0>,\n",
       " <ads.search.Article at 0x9216c0898>,\n",
       " <ads.search.Article at 0x9216c07b8>,\n",
       " <ads.search.Article at 0x9216c07f0>,\n",
       " <ads.search.Article at 0x9216c06d8>,\n",
       " <ads.search.Article at 0x9216c0710>,\n",
       " <ads.search.Article at 0x9216c0cf8>,\n",
       " <ads.search.Article at 0x9216c0668>,\n",
       " <ads.search.Article at 0x9216c04e0>,\n",
       " <ads.search.Article at 0x9216c0b00>,\n",
       " <ads.search.Article at 0x9216c04a8>,\n",
       " <ads.search.Article at 0x9216e8eb8>,\n",
       " <ads.search.Article at 0x9216e8ef0>,\n",
       " <ads.search.Article at 0x9216e8fd0>,\n",
       " <ads.search.Article at 0x9216e8c88>,\n",
       " <ads.search.Article at 0x9216e8cc0>,\n",
       " <ads.search.Article at 0x9216e8d30>,\n",
       " <ads.search.Article at 0x9216e8a58>,\n",
       " <ads.search.Article at 0x9216e8b00>,\n",
       " <ads.search.Article at 0x9216e8860>,\n",
       " <ads.search.Article at 0x9216e8898>,\n",
       " <ads.search.Article at 0x9216e8940>,\n",
       " <ads.search.Article at 0x9216e8e48>,\n",
       " <ads.search.Article at 0x9216e8d68>,\n",
       " <ads.search.Article at 0x9216e8c18>,\n",
       " <ads.search.Article at 0x9216e8b70>,\n",
       " <ads.search.Article at 0x9216e8a20>,\n",
       " <ads.search.Article at 0x9216e8978>,\n",
       " <ads.search.Article at 0x9216e87f0>,\n",
       " <ads.search.Article at 0x9216e8518>,\n",
       " <ads.search.Article at 0x9216e89e8>,\n",
       " <ads.search.Article at 0x9216e89b0>,\n",
       " <ads.search.Article at 0x9216e8be0>]"
      ]
     },
     "execution_count": 109,
     "metadata": {},
     "output_type": "execute_result"
    }
   ],
   "source": [
    "papers"
   ]
  },
  {
   "cell_type": "code",
   "execution_count": null,
   "metadata": {},
   "outputs": [],
   "source": []
  }
 ],
 "metadata": {
  "hide_input": false,
  "kernelspec": {
   "display_name": "Python 3",
   "language": "python",
   "name": "python3"
  },
  "language_info": {
   "codemirror_mode": {
    "name": "ipython",
    "version": 3
   },
   "file_extension": ".py",
   "mimetype": "text/x-python",
   "name": "python",
   "nbconvert_exporter": "python",
   "pygments_lexer": "ipython3",
   "version": "3.6.4"
  },
  "toc": {
   "base_numbering": 1,
   "nav_menu": {},
   "number_sections": true,
   "sideBar": true,
   "skip_h1_title": false,
   "title_cell": "Table of Contents",
   "title_sidebar": "Contents",
   "toc_cell": false,
   "toc_position": {},
   "toc_section_display": true,
   "toc_window_display": false
  },
  "varInspector": {
   "cols": {
    "lenName": 16,
    "lenType": 16,
    "lenVar": 40
   },
   "kernels_config": {
    "python": {
     "delete_cmd_postfix": "",
     "delete_cmd_prefix": "del ",
     "library": "var_list.py",
     "varRefreshCmd": "print(var_dic_list())"
    },
    "r": {
     "delete_cmd_postfix": ") ",
     "delete_cmd_prefix": "rm(",
     "library": "var_list.r",
     "varRefreshCmd": "cat(var_dic_list()) "
    }
   },
   "types_to_exclude": [
    "module",
    "function",
    "builtin_function_or_method",
    "instance",
    "_Feature"
   ],
   "window_display": false
  }
 },
 "nbformat": 4,
 "nbformat_minor": 2
}
