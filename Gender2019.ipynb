{
 "cells": [
  {
   "cell_type": "code",
   "execution_count": 1,
   "metadata": {
    "ExecuteTime": {
     "end_time": "2019-01-09T00:10:53.941397Z",
     "start_time": "2019-01-09T00:10:53.932531Z"
    }
   },
   "outputs": [
    {
     "name": "stdout",
     "output_type": "stream",
     "text": [
      "2.7.13 |Anaconda custom (64-bit)| (default, Dec 20 2016, 23:09:15) \n",
      "[GCC 4.4.7 20120313 (Red Hat 4.4.7-1)]\n"
     ]
    }
   ],
   "source": [
    "import sys\n",
    "print(sys.version)"
   ]
  },
  {
   "cell_type": "code",
   "execution_count": 2,
   "metadata": {
    "ExecuteTime": {
     "end_time": "2019-01-09T00:10:54.931870Z",
     "start_time": "2019-01-09T00:10:54.903207Z"
    }
   },
   "outputs": [
    {
     "data": {
      "text/plain": [
       "'\\nCreated on January 6 2018\\n@author: Neven Caplar\\n@contact: ncaplar@princeton.edu\\n\\nProject by Sandro Tacchella (CfA) and Neven Caplar (PU)\\n'"
      ]
     },
     "execution_count": 2,
     "metadata": {},
     "output_type": "execute_result"
    }
   ],
   "source": [
    "'''\n",
    "Created on January 6 2018\n",
    "@author: Neven Caplar\n",
    "@contact: ncaplar@princeton.edu\n",
    "\n",
    "Project by Sandro Tacchella (CfA) and Neven Caplar (PU)\n",
    "'''"
   ]
  },
  {
   "cell_type": "code",
   "execution_count": 3,
   "metadata": {
    "ExecuteTime": {
     "end_time": "2019-01-09T00:10:56.530568Z",
     "start_time": "2019-01-09T00:10:56.524942Z"
    }
   },
   "outputs": [
    {
     "data": {
      "application/javascript": [
       "try {\n",
       "  require(['base/js/utils'], function (utils) {\n",
       "    utils.load_extension('code_prettify/code_prettify');\n",
       "    utils.load_extension('collapsible_headings/main'); \n",
       "    utils.load_extension('codefolding/edit'); \n",
       "    utils.load_extension('codefolding/main'); \n",
       "    utils.load_extension('execute_time/ExecuteTime');   \n",
       "    utils.load_extension('toc2/main'); \n",
       "  });\n",
       "}\n",
       "catch (err) {\n",
       "  console.log('toc2 load error:', err);\n",
       "}"
      ],
      "text/plain": [
       "<IPython.core.display.Javascript object>"
      ]
     },
     "metadata": {},
     "output_type": "display_data"
    }
   ],
   "source": [
    "%%javascript\n",
    "try {\n",
    "  require(['base/js/utils'], function (utils) {\n",
    "    utils.load_extension('code_prettify/code_prettify');\n",
    "    utils.load_extension('collapsible_headings/main'); \n",
    "    utils.load_extension('codefolding/edit'); \n",
    "    utils.load_extension('codefolding/main'); \n",
    "    utils.load_extension('execute_time/ExecuteTime');   \n",
    "    utils.load_extension('toc2/main'); \n",
    "  });\n",
    "}\n",
    "catch (err) {\n",
    "  console.log('toc2 load error:', err);\n",
    "}"
   ]
  },
  {
   "cell_type": "code",
   "execution_count": 4,
   "metadata": {
    "ExecuteTime": {
     "end_time": "2019-01-09T00:10:57.230310Z",
     "start_time": "2019-01-09T00:10:57.223772Z"
    }
   },
   "outputs": [
    {
     "data": {
      "text/html": [
       "<style>.container { width:100% !important; }</style>"
      ],
      "text/plain": [
       "<IPython.core.display.HTML object>"
      ]
     },
     "metadata": {},
     "output_type": "display_data"
    }
   ],
   "source": [
    "# make notebook nice and wide to fill the entire screen\n",
    "from IPython.core.display import display, HTML\n",
    "display(HTML(\"<style>.container { width:100% !important; }</style>\"))"
   ]
  },
  {
   "cell_type": "code",
   "execution_count": 5,
   "metadata": {
    "ExecuteTime": {
     "end_time": "2019-01-09T00:10:58.729705Z",
     "start_time": "2019-01-09T00:10:58.254524Z"
    },
    "collapsed": true
   },
   "outputs": [],
   "source": [
    "import os\n",
    "import pickle\n",
    "import pandas as pd\n",
    "#https://github.com/andycasey/ads\n",
    "import ads\n",
    "ads.config.token = 'kG2dNKUfa9H6QRqT00CsJYhHkfFz0uqzSx8JorPK'"
   ]
  },
  {
   "cell_type": "code",
   "execution_count": 16,
   "metadata": {
    "ExecuteTime": {
     "end_time": "2019-01-09T00:22:04.624893Z",
     "start_time": "2019-01-09T00:21:25.544844Z"
    }
   },
   "outputs": [],
   "source": [
    "#os.chdir('/Users/nevencaplar/Documents/Gender/')\n",
    "#with open('Master_Table.pickle', 'rb') as handle:\n",
    "#  Master_Table = pickle.load(handle)\n",
    "\n",
    "os.chdir('/home/caplarn/Documents/Astrodataiscool/Gender/MasterTableJuly/')\n",
    "with open('Master_Table.pickle', 'rb') as handle:\n",
    "  Master_Table = pickle.load(handle)\n"
   ]
  },
  {
   "cell_type": "code",
   "execution_count": 17,
   "metadata": {
    "ExecuteTime": {
     "end_time": "2019-01-09T00:22:09.615688Z",
     "start_time": "2019-01-09T00:22:09.601015Z"
    }
   },
   "outputs": [
    {
     "data": {
      "text/plain": [
       "208577"
      ]
     },
     "execution_count": 17,
     "metadata": {},
     "output_type": "execute_result"
    }
   ],
   "source": [
    "len(Master_Table[0])"
   ]
  },
  {
   "cell_type": "code",
   "execution_count": 58,
   "metadata": {
    "ExecuteTime": {
     "end_time": "2019-01-09T00:25:55.320958Z",
     "start_time": "2019-01-09T00:25:55.308322Z"
    }
   },
   "outputs": [
    {
     "name": "stdout",
     "output_type": "stream",
     "text": [
      "2003A&A...397....1T\n"
     ]
    },
    {
     "data": {
      "text/plain": [
       "'2008Sci...322.1828E'"
      ]
     },
     "execution_count": 58,
     "metadata": {},
     "output_type": "execute_result"
    }
   ],
   "source": [
    "#first paper from 2003\n",
    "print(Master_Table[0][115130])\n",
    "\n",
    "#last paper from 2008\n",
    "Master_Table[0][152154]\n"
   ]
  },
  {
   "cell_type": "code",
   "execution_count": 57,
   "metadata": {
    "ExecuteTime": {
     "end_time": "2019-01-09T00:25:49.629098Z",
     "start_time": "2019-01-09T00:25:49.611851Z"
    }
   },
   "outputs": [
    {
     "data": {
      "text/plain": [
       "152154"
      ]
     },
     "execution_count": 57,
     "metadata": {},
     "output_type": "execute_result"
    }
   ],
   "source": [
    "144856+7298"
   ]
  },
  {
   "cell_type": "code",
   "execution_count": 59,
   "metadata": {
    "ExecuteTime": {
     "end_time": "2019-01-09T00:28:13.452753Z",
     "start_time": "2019-01-09T00:28:13.448085Z"
    },
    "collapsed": true
   },
   "outputs": [],
   "source": [
    "list_of_identifiers_03_08=Master_Table[0][115130:152154+1]"
   ]
  },
  {
   "cell_type": "code",
   "execution_count": 60,
   "metadata": {
    "ExecuteTime": {
     "end_time": "2019-01-09T00:28:15.246804Z",
     "start_time": "2019-01-09T00:28:15.242672Z"
    }
   },
   "outputs": [
    {
     "data": {
      "text/plain": [
       "37025"
      ]
     },
     "execution_count": 60,
     "metadata": {},
     "output_type": "execute_result"
    }
   ],
   "source": [
    "len(list_of_identifiers_03_08)"
   ]
  },
  {
   "cell_type": "code",
   "execution_count": 61,
   "metadata": {
    "ExecuteTime": {
     "end_time": "2019-01-09T00:28:16.882072Z",
     "start_time": "2019-01-09T00:28:16.878192Z"
    }
   },
   "outputs": [
    {
     "data": {
      "text/plain": [
       "'2003A&A...397....1T'"
      ]
     },
     "execution_count": 61,
     "metadata": {},
     "output_type": "execute_result"
    }
   ],
   "source": [
    "list_of_identifiers_03_08[0]"
   ]
  },
  {
   "cell_type": "code",
   "execution_count": 76,
   "metadata": {
    "ExecuteTime": {
     "end_time": "2019-01-09T00:45:42.837740Z",
     "start_time": "2019-01-09T00:45:42.134506Z"
    },
    "collapsed": true
   },
   "outputs": [],
   "source": [
    "papers = list(ads.SearchQuery(q=list_of_identifiers_03_08[1:5], sort=\"citation_count\"))"
   ]
  },
  {
   "cell_type": "code",
   "execution_count": 77,
   "metadata": {
    "ExecuteTime": {
     "end_time": "2019-01-09T00:45:45.001626Z",
     "start_time": "2019-01-09T00:45:44.996551Z"
    }
   },
   "outputs": [
    {
     "name": "stdout",
     "output_type": "stream",
     "text": [
      "[u'Leto, G.', u'Baratta, G. A.']\n"
     ]
    }
   ],
   "source": [
    ">>> for paper in papers:\n",
    ">>>    print(paper.author)"
   ]
  },
  {
   "cell_type": "code",
   "execution_count": 70,
   "metadata": {
    "ExecuteTime": {
     "end_time": "2019-01-09T00:35:23.483747Z",
     "start_time": "2019-01-09T00:35:23.478885Z"
    }
   },
   "outputs": [
    {
     "data": {
      "text/plain": [
       "['bibcode', 'title', 'first_author', 'aff', 'author', '_raw', 'year', 'id']"
      ]
     },
     "execution_count": 70,
     "metadata": {},
     "output_type": "execute_result"
    }
   ],
   "source": [
    "papers[0].__dict__.keys()"
   ]
  },
  {
   "cell_type": "code",
   "execution_count": 75,
   "metadata": {
    "ExecuteTime": {
     "end_time": "2019-01-09T00:45:23.279274Z",
     "start_time": "2019-01-09T00:45:23.272975Z"
    }
   },
   "outputs": [
    {
     "data": {
      "text/plain": [
       "['2003A&A...397....1T',\n",
       " '2003A&A...397....7L',\n",
       " '2003A&A...397...15T',\n",
       " '2003A&A...397...27C',\n",
       " '2003A&A...397...53T']"
      ]
     },
     "execution_count": 75,
     "metadata": {},
     "output_type": "execute_result"
    }
   ],
   "source": [
    "list_of_identifiers_03_08[0:5]"
   ]
  },
  {
   "cell_type": "code",
   "execution_count": 80,
   "metadata": {
    "ExecuteTime": {
     "end_time": "2019-01-09T00:46:07.699890Z",
     "start_time": "2019-01-09T00:46:07.678586Z"
    }
   },
   "outputs": [
    {
     "ename": "IndexError",
     "evalue": "list index out of range",
     "output_type": "error",
     "traceback": [
      "\u001b[0;31m---------------------------------------------------------------------------\u001b[0m",
      "\u001b[0;31mIndexError\u001b[0m                                Traceback (most recent call last)",
      "\u001b[0;32m<ipython-input-80-3151518b8540>\u001b[0m in \u001b[0;36m<module>\u001b[0;34m()\u001b[0m\n\u001b[0;32m----> 1\u001b[0;31m \u001b[0mpapers\u001b[0m\u001b[0;34m[\u001b[0m\u001b[0;36m1\u001b[0m\u001b[0;34m]\u001b[0m\u001b[0;34m.\u001b[0m\u001b[0mauthor\u001b[0m\u001b[0;34m\u001b[0m\u001b[0m\n\u001b[0m",
      "\u001b[0;31mIndexError\u001b[0m: list index out of range"
     ]
    }
   ],
   "source": [
    " articles = [list(ads.SearchQuery(bibcode=bibcode))[0] for bibcode in bibcodes]"
   ]
  },
  {
   "cell_type": "code",
   "execution_count": null,
   "metadata": {
    "collapsed": true
   },
   "outputs": [],
   "source": []
  }
 ],
 "metadata": {
  "hide_input": false,
  "kernelspec": {
   "display_name": "Python [conda root]",
   "language": "python",
   "name": "conda-root-py"
  },
  "language_info": {
   "codemirror_mode": {
    "name": "ipython",
    "version": 2
   },
   "file_extension": ".py",
   "mimetype": "text/x-python",
   "name": "python",
   "nbconvert_exporter": "python",
   "pygments_lexer": "ipython2",
   "version": "2.7.13"
  },
  "toc": {
   "nav_menu": {},
   "number_sections": true,
   "sideBar": true,
   "skip_h1_title": false,
   "toc_cell": false,
   "toc_position": {},
   "toc_section_display": true,
   "toc_window_display": false
  },
  "varInspector": {
   "cols": {
    "lenName": 16,
    "lenType": 16,
    "lenVar": 40
   },
   "kernels_config": {
    "python": {
     "delete_cmd_postfix": "",
     "delete_cmd_prefix": "del ",
     "library": "var_list.py",
     "varRefreshCmd": "print(var_dic_list())"
    },
    "r": {
     "delete_cmd_postfix": ") ",
     "delete_cmd_prefix": "rm(",
     "library": "var_list.r",
     "varRefreshCmd": "cat(var_dic_list()) "
    }
   },
   "types_to_exclude": [
    "module",
    "function",
    "builtin_function_or_method",
    "instance",
    "_Feature"
   ],
   "window_display": false
  }
 },
 "nbformat": 4,
 "nbformat_minor": 2
}
