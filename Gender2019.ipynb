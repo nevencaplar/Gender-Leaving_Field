{
 "cells": [
  {
   "cell_type": "code",
   "execution_count": 1,
   "metadata": {
    "ExecuteTime": {
     "end_time": "2019-01-06T19:03:53.502499Z",
     "start_time": "2019-01-06T19:03:53.499226Z"
    }
   },
   "outputs": [
    {
     "name": "stdout",
     "output_type": "stream",
     "text": [
      "3.6.4 |Anaconda custom (64-bit)| (default, Jan 16 2018, 12:04:33) \n",
      "[GCC 4.2.1 Compatible Clang 4.0.1 (tags/RELEASE_401/final)]\n"
     ]
    }
   ],
   "source": [
    "import sys\n",
    "print(sys.version)"
   ]
  },
  {
   "cell_type": "code",
   "execution_count": 6,
   "metadata": {},
   "outputs": [
    {
     "data": {
      "text/plain": [
       "'\\nCreated on January 6 2018\\n@author: Neven Caplar\\n@contact: ncaplar@princeton.edu\\n\\nProject by Sandro Tacchella (CfA) and Neven Caplar (PU)\\n'"
      ]
     },
     "execution_count": 6,
     "metadata": {},
     "output_type": "execute_result"
    }
   ],
   "source": [
    "'''\n",
    "Created on January 6 2018\n",
    "@author: Neven Caplar\n",
    "@contact: ncaplar@princeton.edu\n",
    "\n",
    "Project by Sandro Tacchella (CfA) and Neven Caplar (PU)\n",
    "'''"
   ]
  },
  {
   "cell_type": "code",
   "execution_count": 2,
   "metadata": {
    "ExecuteTime": {
     "end_time": "2019-01-06T19:03:54.277855Z",
     "start_time": "2019-01-06T19:03:54.267151Z"
    }
   },
   "outputs": [
    {
     "data": {
      "application/javascript": [
       "try {\n",
       "  require(['base/js/utils'], function (utils) {\n",
       "    utils.load_extension('code_prettify/code_prettify');\n",
       "    utils.load_extension('collapsible_headings/main'); \n",
       "    utils.load_extension('codefolding/edit'); \n",
       "    utils.load_extension('codefolding/main'); \n",
       "    utils.load_extension('execute_time/ExecuteTime');   \n",
       "    utils.load_extension('toc2/main'); \n",
       "  });\n",
       "}\n",
       "catch (err) {\n",
       "  console.log('toc2 load error:', err);\n",
       "}"
      ],
      "text/plain": [
       "<IPython.core.display.Javascript object>"
      ]
     },
     "metadata": {},
     "output_type": "display_data"
    }
   ],
   "source": [
    "%%javascript\n",
    "try {\n",
    "  require(['base/js/utils'], function (utils) {\n",
    "    utils.load_extension('code_prettify/code_prettify');\n",
    "    utils.load_extension('collapsible_headings/main'); \n",
    "    utils.load_extension('codefolding/edit'); \n",
    "    utils.load_extension('codefolding/main'); \n",
    "    utils.load_extension('execute_time/ExecuteTime');   \n",
    "    utils.load_extension('toc2/main'); \n",
    "  });\n",
    "}\n",
    "catch (err) {\n",
    "  console.log('toc2 load error:', err);\n",
    "}"
   ]
  },
  {
   "cell_type": "code",
   "execution_count": 3,
   "metadata": {
    "ExecuteTime": {
     "end_time": "2019-01-06T19:03:54.845432Z",
     "start_time": "2019-01-06T19:03:54.840854Z"
    }
   },
   "outputs": [
    {
     "data": {
      "text/html": [
       "<style>.container { width:100% !important; }</style>"
      ],
      "text/plain": [
       "<IPython.core.display.HTML object>"
      ]
     },
     "metadata": {},
     "output_type": "display_data"
    }
   ],
   "source": [
    "# make notebook nice and wide to fill the entire screen\n",
    "from IPython.core.display import display, HTML\n",
    "display(HTML(\"<style>.container { width:100% !important; }</style>\"))"
   ]
  },
  {
   "cell_type": "code",
   "execution_count": 16,
   "metadata": {
    "ExecuteTime": {
     "end_time": "2019-01-06T19:16:32.348602Z",
     "start_time": "2019-01-06T19:16:32.345076Z"
    }
   },
   "outputs": [],
   "source": [
    "import os\n",
    "import pickle\n",
    "import pandas as pd\n",
    "import ads\n",
    "ads.config.token = 'kG2dNKUfa9H6QRqT00CsJYhHkfFz0uqzSx8JorPK'"
   ]
  },
  {
   "cell_type": "code",
   "execution_count": 5,
   "metadata": {
    "ExecuteTime": {
     "end_time": "2019-01-06T19:04:01.314043Z",
     "start_time": "2019-01-06T19:03:58.753853Z"
    }
   },
   "outputs": [],
   "source": [
    "os.chdir('/Users/nevencaplar/Documents/Gender/')\n",
    "with open('Master_Table.pickle', 'rb') as handle:\n",
    "  Master_Table = pickle.load(handle)"
   ]
  },
  {
   "cell_type": "code",
   "execution_count": 8,
   "metadata": {
    "ExecuteTime": {
     "end_time": "2019-01-06T19:04:08.299022Z",
     "start_time": "2019-01-06T19:04:07.466586Z"
    }
   },
   "outputs": [],
   "source": [
    "os.chdir('/Users/nevencaplar/Documents/Gender/MasterTableAugust/')\n",
    "with open('Master_Table_Cleaned.pickle', 'rb') as handle:\n",
    "  Master_Table_Cleaned = pickle.load(handle)"
   ]
  },
  {
   "cell_type": "code",
   "execution_count": 9,
   "metadata": {
    "ExecuteTime": {
     "end_time": "2019-01-06T19:04:08.305684Z",
     "start_time": "2019-01-06T19:04:08.300964Z"
    }
   },
   "outputs": [
    {
     "data": {
      "text/plain": [
       "'2008Natur.456V.284.'"
      ]
     },
     "execution_count": 9,
     "metadata": {},
     "output_type": "execute_result"
    }
   ],
   "source": [
    "#first paper from 2003\n",
    "Master_Table[0][110875]\n",
    "\n",
    "#last paper from 2008\n",
    "Master_Table[0][144856]\n"
   ]
  },
  {
   "cell_type": "code",
   "execution_count": 10,
   "metadata": {
    "ExecuteTime": {
     "end_time": "2019-01-06T19:04:08.313219Z",
     "start_time": "2019-01-06T19:04:08.307395Z"
    }
   },
   "outputs": [],
   "source": [
    "list_of_identifiers_03_08=Master_Table[0][110875:144856+1]"
   ]
  },
  {
   "cell_type": "code",
   "execution_count": 11,
   "metadata": {
    "ExecuteTime": {
     "end_time": "2019-01-06T19:04:08.339572Z",
     "start_time": "2019-01-06T19:04:08.335461Z"
    }
   },
   "outputs": [
    {
     "data": {
      "text/plain": [
       "33982"
      ]
     },
     "execution_count": 11,
     "metadata": {},
     "output_type": "execute_result"
    }
   ],
   "source": [
    "len(list_of_identifiers_03_08)"
   ]
  },
  {
   "cell_type": "code",
   "execution_count": 12,
   "metadata": {
    "ExecuteTime": {
     "end_time": "2019-01-06T19:04:08.901287Z",
     "start_time": "2019-01-06T19:04:08.897116Z"
    }
   },
   "outputs": [
    {
     "data": {
      "text/plain": [
       "'2003A&A...397....7L'"
      ]
     },
     "execution_count": 12,
     "metadata": {},
     "output_type": "execute_result"
    }
   ],
   "source": [
    "list_of_identifiers_03_08[0]"
   ]
  },
  {
   "cell_type": "code",
   "execution_count": 17,
   "metadata": {
    "ExecuteTime": {
     "end_time": "2019-01-06T19:16:34.780930Z",
     "start_time": "2019-01-06T19:16:34.777827Z"
    }
   },
   "outputs": [],
   "source": [
    "papers = ads.SearchQuery(q=list_of_identifiers_03_08[0], sort=\"citation_count\")"
   ]
  },
  {
   "cell_type": "code",
   "execution_count": 21,
   "metadata": {
    "ExecuteTime": {
     "end_time": "2019-01-06T19:17:06.573873Z",
     "start_time": "2019-01-06T19:17:06.570771Z"
    }
   },
   "outputs": [],
   "source": [
    ">>> for paper in papers:\n",
    ">>>    print(paper.authors)"
   ]
  },
  {
   "cell_type": "code",
   "execution_count": null,
   "metadata": {},
   "outputs": [],
   "source": []
  }
 ],
 "metadata": {
  "kernelspec": {
   "display_name": "Python 3",
   "language": "python",
   "name": "python3"
  },
  "language_info": {
   "codemirror_mode": {
    "name": "ipython",
    "version": 3
   },
   "file_extension": ".py",
   "mimetype": "text/x-python",
   "name": "python",
   "nbconvert_exporter": "python",
   "pygments_lexer": "ipython3",
   "version": "3.6.4"
  },
  "toc": {
   "base_numbering": 1,
   "nav_menu": {},
   "number_sections": true,
   "sideBar": true,
   "skip_h1_title": false,
   "title_cell": "Table of Contents",
   "title_sidebar": "Contents",
   "toc_cell": false,
   "toc_position": {},
   "toc_section_display": true,
   "toc_window_display": false
  }
 },
 "nbformat": 4,
 "nbformat_minor": 2
}
